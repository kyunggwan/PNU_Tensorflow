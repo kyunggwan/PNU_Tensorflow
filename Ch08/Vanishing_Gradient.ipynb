##STEP32_01
import tensorflow as tf
from tensorflow.keras.datasets import mnist
import numpy as np
import matplotlib.pyplot as plt