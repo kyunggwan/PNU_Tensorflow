{
  "nbformat": 4,
  "nbformat_minor": 0,
  "metadata": {
    "colab": {
      "provenance": [],
      "toc_visible": true
    },
    "kernelspec": {
      "name": "python3",
      "display_name": "Python 3"
    },
    "accelerator": "GPU",
    "gpuClass": "standard"
  },
  "cells": [
    {
      "cell_type": "markdown",
      "metadata": {
        "id": "BCq2UCUvEkhh"
      },
      "source": [
        "<시작하세요! 텐서플로 2.0 프로그래밍> 예제코드입니다.\n",
        "\n",
        "- 예제 코드를 실행하기 위해서는 [파일] > [드라이브에 사본 저장]으로 본인의 계정에 사본을 만든 다음 실행하면 됩니다.\n",
        "- 예제 코드는 [깃허브 저장소](https://github.com/wikibook/tf2)에서도 동일하게 제공됩니다. 예제에 대한 질문이나 책에 대한 질문은 깃허브 저장소의 [Issues](https://github.com/wikibook/tf2/issues)에 올려주세요.\n",
        "- 각 장의 예제 파일은 처음부터 끝까지 실행하는 상황을 가정하고 작성되었습니다. 혹시 세션이 다운되는 등의 이유로 실행이 되지 않는 경우가 있다면, 필요한 라이브러리를 import 하신 후에 실행하시면 됩니다. (tensorflow, numpy, pandas 등)"
      ]
    },
    {
      "cell_type": "code",
      "metadata": {
        "id": "gl58Zr-ZKjRE",
        "outputId": "d0b8267a-8c30-4e57-9406-80b97ebecef6",
        "colab": {
          "base_uri": "https://localhost:8080/"
        }
      },
      "source": [
        "# 텐서플로 2 버전 선택\n",
        "try:\n",
        "    # %tensorflow_version only exists in Colab.\n",
        "    %tensorflow_version 2.x\n",
        "except Exception:\n",
        "    pass\n",
        "import tensorflow as tf\n",
        "import numpy as np"
      ],
      "execution_count": 3,
      "outputs": [
        {
          "output_type": "stream",
          "name": "stdout",
          "text": [
            "Colab only includes TensorFlow 2.x; %tensorflow_version has no effect.\n"
          ]
        }
      ]
    },
    {
      "cell_type": "markdown",
      "metadata": {
        "id": "OSciZqogK0Mg"
      },
      "source": [
        "# 7.2 주요 레이어 정리"
      ]
    },
    {
      "cell_type": "markdown",
      "metadata": {
        "id": "8DmYqaWfcxJa"
      },
      "source": [
        "## 7.2.1 SimpleRNN 레이어"
      ]
    },
    {
      "cell_type": "code",
      "metadata": {
        "id": "s0f2FG66cx27"
      },
      "source": [
        "# 7.1 SimpleRNN 레이어 생성 코드\n",
        "rnn1 = tf.keras.layers.SimpleRNN(units=1, activation='tanh', return_sequences=True)"
      ],
      "execution_count": null,
      "outputs": []
    },
    {
      "cell_type": "code",
      "metadata": {
        "id": "vU4_rMdw47Au",
        "outputId": "8f6cfc9f-a7c0-40d9-a546-11ec6421afd6",
        "colab": {
          "base_uri": "https://localhost:8080/"
        }
      },
      "source": [
        "# 7.2 시퀀스 예측 데이터 생성\n",
        "X = []\n",
        "Y = []\n",
        "for i in range(6):\n",
        "    # [0,1,2,3], [1,2,3,4] 같은 정수의 시퀀스를 만듭니다.\n",
        "    lst = list(range(i,i+4))\n",
        "\n",
        "    # 위에서 구한 시퀀스의 숫자들을 각각 10으로 나눈 다음 저장합니다.\n",
        "    # SimpleRNN 에 각 타임스텝에 하나씩 숫자가 들어가기 때문에 여기서도 하나씩 분리해서 배열에 저장합니다.\n",
        "    X.append(list(map(lambda c: [c/10], lst)))\n",
        "\n",
        "    # 정답에 해당하는 4, 5 등의 정수를 역시 위처럼 10으로 나눠서 저장합니다.\n",
        "    Y.append((i+4)/10)\n",
        "    \n",
        "X = np.array(X)\n",
        "Y = np.array(Y)\n",
        "for i in range(len(X)):\n",
        "    print(X[i], Y[i])"
      ],
      "execution_count": null,
      "outputs": [
        {
          "output_type": "stream",
          "name": "stdout",
          "text": [
            "[[0. ]\n",
            " [0.1]\n",
            " [0.2]\n",
            " [0.3]] 0.4\n",
            "[[0.1]\n",
            " [0.2]\n",
            " [0.3]\n",
            " [0.4]] 0.5\n",
            "[[0.2]\n",
            " [0.3]\n",
            " [0.4]\n",
            " [0.5]] 0.6\n",
            "[[0.3]\n",
            " [0.4]\n",
            " [0.5]\n",
            " [0.6]] 0.7\n",
            "[[0.4]\n",
            " [0.5]\n",
            " [0.6]\n",
            " [0.7]] 0.8\n",
            "[[0.5]\n",
            " [0.6]\n",
            " [0.7]\n",
            " [0.8]] 0.9\n"
          ]
        }
      ]
    },
    {
      "cell_type": "code",
      "metadata": {
        "id": "yFdjOc6G5kO1",
        "outputId": "4812232e-a234-4a0b-cbeb-604b2567f376",
        "colab": {
          "base_uri": "https://localhost:8080/"
        }
      },
      "source": [
        "# 7.3 시퀀스 예측 모델 정의\n",
        "model = tf.keras.Sequential([\n",
        "    tf.keras.layers.SimpleRNN(units=10, return_sequences=False, input_shape=[4,1]),\n",
        "    tf.keras.layers.Dense(1)\n",
        "])\n",
        "\n",
        "model.compile(optimizer='adam', loss='mse')\n",
        "model.summary()"
      ],
      "execution_count": null,
      "outputs": [
        {
          "output_type": "stream",
          "name": "stdout",
          "text": [
            "Model: \"sequential\"\n",
            "_________________________________________________________________\n",
            " Layer (type)                Output Shape              Param #   \n",
            "=================================================================\n",
            " simple_rnn_2 (SimpleRNN)    (None, 10)                120       \n",
            "                                                                 \n",
            " dense (Dense)               (None, 1)                 11        \n",
            "                                                                 \n",
            "=================================================================\n",
            "Total params: 131\n",
            "Trainable params: 131\n",
            "Non-trainable params: 0\n",
            "_________________________________________________________________\n"
          ]
        }
      ]
    },
    {
      "cell_type": "markdown",
      "source": [],
      "metadata": {
        "id": "LUly58bAGm3D"
      }
    },
    {
      "cell_type": "code",
      "metadata": {
        "id": "7odqgVWw5oyH",
        "outputId": "37d95926-f65f-492f-e46a-070f547aba71",
        "colab": {
          "base_uri": "https://localhost:8080/"
        }
      },
      "source": [
        "# 7.4 네트워크 훈련 및 결과 확인\n",
        "model.fit(X, Y, epochs=100, verbose=0)\n",
        "print(np.shape(X))\n",
        "print(model.predict(X))"
      ],
      "execution_count": null,
      "outputs": [
        {
          "output_type": "stream",
          "name": "stdout",
          "text": [
            "(6, 4, 1)\n",
            "1/1 [==============================] - 0s 220ms/step\n",
            "[[0.39025816]\n",
            " [0.501847  ]\n",
            " [0.60755134]\n",
            " [0.7066053 ]\n",
            " [0.79981434]\n",
            " [0.8885553 ]]\n"
          ]
        }
      ]
    },
    {
      "cell_type": "code",
      "metadata": {
        "id": "KQUaYRRG7aWA",
        "outputId": "4f090da3-718e-4dc4-8a07-6c6f6b5851d0",
        "colab": {
          "base_uri": "https://localhost:8080/"
        }
      },
      "source": [
        "# 7.5 학습되지 않은 시퀀스에 대한 예측 결과\n",
        "print(model.predict(np.array([[[0.6],[0.7],[0.8],[0.9]]])))\n",
        "print(model.predict(np.array([[[-0.1],[0.0],[0.1],[0.2]]])))"
      ],
      "execution_count": null,
      "outputs": [
        {
          "output_type": "stream",
          "name": "stdout",
          "text": [
            "1/1 [==============================] - 0s 19ms/step\n",
            "[[0.97402054]]\n",
            "1/1 [==============================] - 0s 18ms/step\n",
            "[[0.27556396]]\n"
          ]
        }
      ]
    },
    {
      "cell_type": "markdown",
      "metadata": {
        "id": "HGzdLJHZvSUg"
      },
      "source": [
        "## 7.2.2 LSTM 레이어"
      ]
    },
    {
      "cell_type": "code",
      "metadata": {
        "id": "iYyU1BKZFDvo",
        "outputId": "deb090f2-df36-4fc3-bbe0-64565745bc51",
        "colab": {
          "base_uri": "https://localhost:8080/"
        }
      },
      "source": [
        "# 7.6 곱셈 문제 데이터 생성\n",
        "X = []\n",
        "Y = []\n",
        "for i in range(3000):\n",
        "    # 0~1 사이의 랜덤한 숫자 100 개를 만듭니다.\n",
        "    lst = np.random.rand(100)\n",
        "    # 마킹할 숫자 2개의 인덱스를 뽑습니다.\n",
        "    idx = np.random.choice(100, 2, replace=False)\n",
        "    # 마킹 인덱스가 저장된 원-핫 인코딩 벡터를 만듭니다.\n",
        "    zeros = np.zeros(100)\n",
        "    zeros[idx] = 1\n",
        "    # 마킹 인덱스와 랜덤한 숫자를 합쳐서 X 에 저장합니다.\n",
        "    X.append(np.array(list(zip(zeros, lst))))\n",
        "    # 마킹 인덱스가 1인 값들만 서로 곱해서 Y 에 저장합니다.\n",
        "    Y.append(np.prod(lst[idx]))\n",
        "    \n",
        "print(X[0], Y[0])"
      ],
      "execution_count": null,
      "outputs": [
        {
          "output_type": "stream",
          "name": "stdout",
          "text": [
            "[[0.         0.6382249 ]\n",
            " [0.         0.38670369]\n",
            " [0.         0.14922623]\n",
            " [0.         0.48728507]\n",
            " [0.         0.64150696]\n",
            " [0.         0.71478443]\n",
            " [0.         0.41690348]\n",
            " [0.         0.06130494]\n",
            " [0.         0.91057523]\n",
            " [0.         0.43861484]\n",
            " [0.         0.62894902]\n",
            " [0.         0.56104623]\n",
            " [0.         0.10572163]\n",
            " [0.         0.79952979]\n",
            " [0.         0.63035628]\n",
            " [0.         0.63680085]\n",
            " [0.         0.67185404]\n",
            " [0.         0.61215166]\n",
            " [0.         0.76806654]\n",
            " [0.         0.25125994]\n",
            " [0.         0.72738705]\n",
            " [0.         0.44868122]\n",
            " [0.         0.35293988]\n",
            " [0.         0.25721796]\n",
            " [0.         0.66747389]\n",
            " [0.         0.63933116]\n",
            " [1.         0.55637236]\n",
            " [0.         0.11837606]\n",
            " [0.         0.1040563 ]\n",
            " [0.         0.95372269]\n",
            " [0.         0.79121037]\n",
            " [0.         0.93289264]\n",
            " [0.         0.98653772]\n",
            " [0.         0.13065409]\n",
            " [0.         0.40871101]\n",
            " [0.         0.48924205]\n",
            " [0.         0.94570321]\n",
            " [0.         0.39999099]\n",
            " [0.         0.61891371]\n",
            " [0.         0.02725584]\n",
            " [0.         0.86958569]\n",
            " [0.         0.61551496]\n",
            " [0.         0.04243621]\n",
            " [0.         0.35283399]\n",
            " [0.         0.70126929]\n",
            " [0.         0.65876941]\n",
            " [0.         0.95893078]\n",
            " [0.         0.65822984]\n",
            " [0.         0.0362303 ]\n",
            " [0.         0.30753721]\n",
            " [0.         0.60836991]\n",
            " [0.         0.46427797]\n",
            " [0.         0.85763975]\n",
            " [0.         0.79535164]\n",
            " [0.         0.43432651]\n",
            " [0.         0.65430855]\n",
            " [0.         0.49202014]\n",
            " [0.         0.92532939]\n",
            " [0.         0.61593399]\n",
            " [0.         0.04585308]\n",
            " [0.         0.86688216]\n",
            " [0.         0.40385234]\n",
            " [0.         0.64708307]\n",
            " [0.         0.76791645]\n",
            " [0.         0.72555939]\n",
            " [0.         0.2709174 ]\n",
            " [0.         0.16873517]\n",
            " [0.         0.43941435]\n",
            " [0.         0.2281591 ]\n",
            " [0.         0.99824757]\n",
            " [0.         0.11441316]\n",
            " [0.         0.07306065]\n",
            " [0.         0.97953766]\n",
            " [0.         0.22403623]\n",
            " [0.         0.8933452 ]\n",
            " [0.         0.18305901]\n",
            " [0.         0.9195035 ]\n",
            " [0.         0.12977702]\n",
            " [0.         0.52253896]\n",
            " [0.         0.56743936]\n",
            " [0.         0.3184327 ]\n",
            " [1.         0.42594091]\n",
            " [0.         0.93899267]\n",
            " [0.         0.34901669]\n",
            " [0.         0.09115243]\n",
            " [0.         0.05593183]\n",
            " [0.         0.6961513 ]\n",
            " [0.         0.11635769]\n",
            " [0.         0.49732973]\n",
            " [0.         0.22543569]\n",
            " [0.         0.0540265 ]\n",
            " [0.         0.47345366]\n",
            " [0.         0.59195426]\n",
            " [0.         0.0068752 ]\n",
            " [0.         0.52257925]\n",
            " [0.         0.76812256]\n",
            " [0.         0.01062939]\n",
            " [0.         0.30292442]\n",
            " [0.         0.51593423]\n",
            " [0.         0.73871287]] 0.236981752571069\n"
          ]
        }
      ]
    },
    {
      "cell_type": "code",
      "metadata": {
        "id": "doitxA8uOm5i",
        "outputId": "15d966b2-2b06-4202-c7c5-b6547a0936e0",
        "colab": {
          "base_uri": "https://localhost:8080/"
        }
      },
      "source": [
        "# 7.7 SimpleRNN 레이어를 사용한 곱셈 문제 모델 정의\n",
        "model = tf.keras.Sequential([\n",
        "    tf.keras.layers.SimpleRNN(units=30, return_sequences=True, input_shape=[100,2]),\n",
        "    tf.keras.layers.SimpleRNN(units=30),\n",
        "    tf.keras.layers.Dense(1)\n",
        "])\n",
        "\n",
        "model.compile(optimizer='adam', loss='mse')\n",
        "model.summary()"
      ],
      "execution_count": null,
      "outputs": [
        {
          "output_type": "stream",
          "name": "stdout",
          "text": [
            "Model: \"sequential_1\"\n",
            "_________________________________________________________________\n",
            " Layer (type)                Output Shape              Param #   \n",
            "=================================================================\n",
            " simple_rnn_3 (SimpleRNN)    (None, 100, 30)           990       \n",
            "                                                                 \n",
            " simple_rnn_4 (SimpleRNN)    (None, 30)                1830      \n",
            "                                                                 \n",
            " dense_1 (Dense)             (None, 1)                 31        \n",
            "                                                                 \n",
            "=================================================================\n",
            "Total params: 2,851\n",
            "Trainable params: 2,851\n",
            "Non-trainable params: 0\n",
            "_________________________________________________________________\n"
          ]
        }
      ]
    },
    {
      "cell_type": "code",
      "metadata": {
        "id": "HTp4nvHYOqOZ",
        "outputId": "7d1f22fc-d124-4c45-87df-71054a8818da",
        "colab": {
          "base_uri": "https://localhost:8080/"
        }
      },
      "source": [
        "# 7.8 SimpleRNN 네트워크 학습\n",
        "X = np.array(X)\n",
        "Y = np.array(Y)\n",
        "# 2560개의 데이터만 학습시킵니다. validation 데이터는 20% 로 지정합니다.\n",
        "history = model.fit(X[:2560], Y[:2560], epochs=100, validation_split=0.2)"
      ],
      "execution_count": null,
      "outputs": [
        {
          "output_type": "stream",
          "name": "stdout",
          "text": [
            "Epoch 1/100\n",
            "64/64 [==============================] - 4s 42ms/step - loss: 0.0588 - val_loss: 0.0532\n",
            "Epoch 2/100\n",
            "64/64 [==============================] - 2s 36ms/step - loss: 0.0509 - val_loss: 0.0509\n",
            "Epoch 3/100\n",
            "64/64 [==============================] - 2s 36ms/step - loss: 0.0504 - val_loss: 0.0508\n",
            "Epoch 4/100\n",
            "64/64 [==============================] - 2s 36ms/step - loss: 0.0506 - val_loss: 0.0517\n",
            "Epoch 5/100\n",
            "64/64 [==============================] - 2s 36ms/step - loss: 0.0506 - val_loss: 0.0527\n",
            "Epoch 6/100\n",
            "64/64 [==============================] - 2s 36ms/step - loss: 0.0501 - val_loss: 0.0509\n",
            "Epoch 7/100\n",
            "64/64 [==============================] - 2s 36ms/step - loss: 0.0499 - val_loss: 0.0509\n",
            "Epoch 8/100\n",
            "64/64 [==============================] - 2s 35ms/step - loss: 0.0501 - val_loss: 0.0508\n",
            "Epoch 9/100\n",
            "64/64 [==============================] - 2s 36ms/step - loss: 0.0505 - val_loss: 0.0547\n",
            "Epoch 10/100\n",
            "64/64 [==============================] - 2s 35ms/step - loss: 0.0502 - val_loss: 0.0507\n",
            "Epoch 11/100\n",
            "64/64 [==============================] - 2s 36ms/step - loss: 0.0496 - val_loss: 0.0508\n",
            "Epoch 12/100\n",
            "64/64 [==============================] - 2s 36ms/step - loss: 0.0507 - val_loss: 0.0510\n",
            "Epoch 13/100\n",
            "64/64 [==============================] - 2s 36ms/step - loss: 0.0511 - val_loss: 0.0509\n",
            "Epoch 14/100\n",
            "64/64 [==============================] - 2s 36ms/step - loss: 0.0499 - val_loss: 0.0520\n",
            "Epoch 15/100\n",
            "64/64 [==============================] - 2s 35ms/step - loss: 0.0505 - val_loss: 0.0534\n",
            "Epoch 16/100\n",
            "64/64 [==============================] - 2s 36ms/step - loss: 0.0524 - val_loss: 0.0510\n",
            "Epoch 17/100\n",
            "64/64 [==============================] - 2s 37ms/step - loss: 0.0516 - val_loss: 0.0512\n",
            "Epoch 18/100\n",
            "64/64 [==============================] - 2s 37ms/step - loss: 0.0497 - val_loss: 0.0516\n",
            "Epoch 19/100\n",
            "64/64 [==============================] - 2s 35ms/step - loss: 0.0508 - val_loss: 0.0509\n",
            "Epoch 20/100\n",
            "64/64 [==============================] - 2s 36ms/step - loss: 0.0500 - val_loss: 0.0520\n",
            "Epoch 21/100\n",
            "64/64 [==============================] - 2s 36ms/step - loss: 0.0503 - val_loss: 0.0508\n",
            "Epoch 22/100\n",
            "64/64 [==============================] - 2s 36ms/step - loss: 0.0500 - val_loss: 0.0508\n",
            "Epoch 23/100\n",
            "64/64 [==============================] - 2s 37ms/step - loss: 0.0496 - val_loss: 0.0533\n",
            "Epoch 24/100\n",
            "64/64 [==============================] - 2s 38ms/step - loss: 0.0507 - val_loss: 0.0542\n",
            "Epoch 25/100\n",
            "64/64 [==============================] - 2s 35ms/step - loss: 0.0506 - val_loss: 0.0526\n",
            "Epoch 26/100\n",
            "64/64 [==============================] - 2s 35ms/step - loss: 0.0496 - val_loss: 0.0508\n",
            "Epoch 27/100\n",
            "64/64 [==============================] - 2s 37ms/step - loss: 0.0495 - val_loss: 0.0508\n",
            "Epoch 28/100\n",
            "64/64 [==============================] - 2s 36ms/step - loss: 0.0500 - val_loss: 0.0505\n",
            "Epoch 29/100\n",
            "64/64 [==============================] - 2s 35ms/step - loss: 0.0497 - val_loss: 0.0508\n",
            "Epoch 30/100\n",
            "64/64 [==============================] - 2s 36ms/step - loss: 0.0497 - val_loss: 0.0522\n",
            "Epoch 31/100\n",
            "64/64 [==============================] - 2s 36ms/step - loss: 0.0498 - val_loss: 0.0511\n",
            "Epoch 32/100\n",
            "64/64 [==============================] - 2s 36ms/step - loss: 0.0517 - val_loss: 0.0511\n",
            "Epoch 33/100\n",
            "64/64 [==============================] - 2s 36ms/step - loss: 0.0495 - val_loss: 0.0507\n",
            "Epoch 34/100\n",
            "64/64 [==============================] - 2s 36ms/step - loss: 0.0495 - val_loss: 0.0509\n",
            "Epoch 35/100\n",
            "64/64 [==============================] - 2s 36ms/step - loss: 0.0501 - val_loss: 0.0534\n",
            "Epoch 36/100\n",
            "64/64 [==============================] - 2s 36ms/step - loss: 0.0502 - val_loss: 0.0529\n",
            "Epoch 37/100\n",
            "64/64 [==============================] - 2s 37ms/step - loss: 0.0494 - val_loss: 0.0531\n",
            "Epoch 38/100\n",
            "64/64 [==============================] - 2s 36ms/step - loss: 0.0504 - val_loss: 0.0519\n",
            "Epoch 39/100\n",
            "64/64 [==============================] - 2s 36ms/step - loss: 0.0496 - val_loss: 0.0538\n",
            "Epoch 40/100\n",
            "64/64 [==============================] - 2s 36ms/step - loss: 0.0497 - val_loss: 0.0510\n",
            "Epoch 41/100\n",
            "64/64 [==============================] - 2s 36ms/step - loss: 0.0486 - val_loss: 0.0505\n",
            "Epoch 42/100\n",
            "64/64 [==============================] - 2s 36ms/step - loss: 0.0492 - val_loss: 0.0509\n",
            "Epoch 43/100\n",
            "64/64 [==============================] - 2s 35ms/step - loss: 0.0489 - val_loss: 0.0501\n",
            "Epoch 44/100\n",
            "64/64 [==============================] - 2s 36ms/step - loss: 0.0489 - val_loss: 0.0526\n",
            "Epoch 45/100\n",
            "64/64 [==============================] - 2s 36ms/step - loss: 0.0489 - val_loss: 0.0510\n",
            "Epoch 46/100\n",
            "64/64 [==============================] - 2s 36ms/step - loss: 0.0491 - val_loss: 0.0506\n",
            "Epoch 47/100\n",
            "64/64 [==============================] - 2s 36ms/step - loss: 0.0491 - val_loss: 0.0509\n",
            "Epoch 48/100\n",
            "64/64 [==============================] - 2s 36ms/step - loss: 0.0497 - val_loss: 0.0504\n",
            "Epoch 49/100\n",
            "64/64 [==============================] - 2s 36ms/step - loss: 0.0489 - val_loss: 0.0509\n",
            "Epoch 50/100\n",
            "64/64 [==============================] - 2s 36ms/step - loss: 0.0492 - val_loss: 0.0516\n",
            "Epoch 51/100\n",
            "64/64 [==============================] - 2s 37ms/step - loss: 0.0483 - val_loss: 0.0509\n",
            "Epoch 52/100\n",
            "64/64 [==============================] - 2s 36ms/step - loss: 0.0494 - val_loss: 0.0501\n",
            "Epoch 53/100\n",
            "64/64 [==============================] - 2s 35ms/step - loss: 0.0488 - val_loss: 0.0504\n",
            "Epoch 54/100\n",
            "64/64 [==============================] - 2s 36ms/step - loss: 0.0484 - val_loss: 0.0520\n",
            "Epoch 55/100\n",
            "64/64 [==============================] - 2s 35ms/step - loss: 0.0479 - val_loss: 0.0534\n",
            "Epoch 56/100\n",
            "64/64 [==============================] - 2s 36ms/step - loss: 0.0477 - val_loss: 0.0508\n",
            "Epoch 57/100\n",
            "64/64 [==============================] - 2s 36ms/step - loss: 0.0477 - val_loss: 0.0511\n",
            "Epoch 58/100\n",
            "64/64 [==============================] - 2s 36ms/step - loss: 0.0477 - val_loss: 0.0512\n",
            "Epoch 59/100\n",
            "64/64 [==============================] - 2s 36ms/step - loss: 0.0476 - val_loss: 0.0509\n",
            "Epoch 60/100\n",
            "64/64 [==============================] - 2s 36ms/step - loss: 0.0472 - val_loss: 0.0514\n",
            "Epoch 61/100\n",
            "64/64 [==============================] - 2s 36ms/step - loss: 0.0474 - val_loss: 0.0516\n",
            "Epoch 62/100\n",
            "64/64 [==============================] - 2s 35ms/step - loss: 0.0470 - val_loss: 0.0510\n",
            "Epoch 63/100\n",
            "64/64 [==============================] - 2s 36ms/step - loss: 0.0472 - val_loss: 0.0520\n",
            "Epoch 64/100\n",
            "64/64 [==============================] - 2s 36ms/step - loss: 0.0473 - val_loss: 0.0531\n",
            "Epoch 65/100\n",
            "64/64 [==============================] - 2s 36ms/step - loss: 0.0483 - val_loss: 0.0509\n",
            "Epoch 66/100\n",
            "64/64 [==============================] - 2s 36ms/step - loss: 0.0468 - val_loss: 0.0504\n",
            "Epoch 67/100\n",
            "64/64 [==============================] - 2s 36ms/step - loss: 0.0462 - val_loss: 0.0523\n",
            "Epoch 68/100\n",
            "64/64 [==============================] - 2s 37ms/step - loss: 0.0474 - val_loss: 0.0521\n",
            "Epoch 69/100\n",
            "64/64 [==============================] - 2s 36ms/step - loss: 0.0465 - val_loss: 0.0522\n",
            "Epoch 70/100\n",
            "64/64 [==============================] - 3s 48ms/step - loss: 0.0457 - val_loss: 0.0517\n",
            "Epoch 71/100\n",
            "64/64 [==============================] - 5s 85ms/step - loss: 0.0452 - val_loss: 0.0572\n",
            "Epoch 72/100\n",
            "64/64 [==============================] - 5s 79ms/step - loss: 0.0454 - val_loss: 0.0525\n",
            "Epoch 73/100\n",
            "64/64 [==============================] - 3s 40ms/step - loss: 0.0449 - val_loss: 0.0519\n",
            "Epoch 74/100\n",
            "64/64 [==============================] - 2s 36ms/step - loss: 0.0446 - val_loss: 0.0535\n",
            "Epoch 75/100\n",
            "64/64 [==============================] - 2s 35ms/step - loss: 0.0448 - val_loss: 0.0529\n",
            "Epoch 76/100\n",
            "64/64 [==============================] - 2s 35ms/step - loss: 0.0442 - val_loss: 0.0513\n",
            "Epoch 77/100\n",
            "64/64 [==============================] - 2s 35ms/step - loss: 0.0441 - val_loss: 0.0541\n",
            "Epoch 78/100\n",
            "64/64 [==============================] - 2s 36ms/step - loss: 0.0485 - val_loss: 0.0499\n",
            "Epoch 79/100\n",
            "64/64 [==============================] - 2s 36ms/step - loss: 0.0483 - val_loss: 0.0501\n",
            "Epoch 80/100\n",
            "64/64 [==============================] - 2s 36ms/step - loss: 0.0461 - val_loss: 0.0504\n",
            "Epoch 81/100\n",
            "64/64 [==============================] - 2s 36ms/step - loss: 0.0463 - val_loss: 0.0502\n",
            "Epoch 82/100\n",
            "64/64 [==============================] - 2s 36ms/step - loss: 0.0461 - val_loss: 0.0523\n",
            "Epoch 83/100\n",
            "64/64 [==============================] - 2s 36ms/step - loss: 0.0454 - val_loss: 0.0501\n",
            "Epoch 84/100\n",
            "64/64 [==============================] - 2s 37ms/step - loss: 0.0448 - val_loss: 0.0519\n",
            "Epoch 85/100\n",
            "64/64 [==============================] - 2s 36ms/step - loss: 0.0444 - val_loss: 0.0506\n",
            "Epoch 86/100\n",
            "64/64 [==============================] - 2s 36ms/step - loss: 0.0456 - val_loss: 0.0515\n",
            "Epoch 87/100\n",
            "64/64 [==============================] - 2s 36ms/step - loss: 0.0438 - val_loss: 0.0519\n",
            "Epoch 88/100\n",
            "64/64 [==============================] - 2s 37ms/step - loss: 0.0439 - val_loss: 0.0515\n",
            "Epoch 89/100\n",
            "64/64 [==============================] - 2s 36ms/step - loss: 0.0432 - val_loss: 0.0537\n",
            "Epoch 90/100\n",
            "64/64 [==============================] - 2s 36ms/step - loss: 0.0434 - val_loss: 0.0520\n",
            "Epoch 91/100\n",
            "64/64 [==============================] - 2s 36ms/step - loss: 0.0429 - val_loss: 0.0547\n",
            "Epoch 92/100\n",
            "64/64 [==============================] - 2s 36ms/step - loss: 0.0425 - val_loss: 0.0546\n",
            "Epoch 93/100\n",
            "64/64 [==============================] - 2s 36ms/step - loss: 0.0429 - val_loss: 0.0508\n",
            "Epoch 94/100\n",
            "64/64 [==============================] - 2s 37ms/step - loss: 0.0417 - val_loss: 0.0561\n",
            "Epoch 95/100\n",
            "64/64 [==============================] - 2s 35ms/step - loss: 0.0424 - val_loss: 0.0526\n",
            "Epoch 96/100\n",
            "64/64 [==============================] - 2s 36ms/step - loss: 0.0414 - val_loss: 0.0543\n",
            "Epoch 97/100\n",
            "64/64 [==============================] - 2s 36ms/step - loss: 0.0412 - val_loss: 0.0533\n",
            "Epoch 98/100\n",
            "64/64 [==============================] - 2s 36ms/step - loss: 0.0403 - val_loss: 0.0627\n",
            "Epoch 99/100\n",
            "64/64 [==============================] - 2s 37ms/step - loss: 0.0415 - val_loss: 0.0536\n",
            "Epoch 100/100\n",
            "64/64 [==============================] - 2s 36ms/step - loss: 0.0405 - val_loss: 0.0526\n"
          ]
        }
      ]
    },
    {
      "cell_type": "code",
      "metadata": {
        "id": "3EiSvd5rOsIV",
        "outputId": "b1fa2c3c-9e33-446b-c8f0-980e8b5955d1",
        "colab": {
          "base_uri": "https://localhost:8080/",
          "height": 279
        }
      },
      "source": [
        "# 7.9 SimpleRNN 네트워크 학습 결과 확인\n",
        "import matplotlib.pyplot as plt\n",
        "plt.plot(history.history['loss'], 'b-', label='loss')\n",
        "plt.plot(history.history['val_loss'], 'r--', label='val_loss')\n",
        "plt.xlabel('Epoch')\n",
        "plt.legend()\n",
        "plt.show()"
      ],
      "execution_count": null,
      "outputs": [
        {
          "output_type": "display_data",
          "data": {
            "text/plain": [
              "<Figure size 432x288 with 1 Axes>"
            ],
            "image/png": "[encoded data removed]"
          },
          "metadata": {
            "needs_background": "light"
          }
        }
      ]
    },
    {
      "cell_type": "code",
      "metadata": {
        "id": "g5OnirteOyut",
        "outputId": "f010749a-8b96-46f4-a060-f0cc3c873ffb",
        "colab": {
          "base_uri": "https://localhost:8080/"
        }
      },
      "source": [
        "# 7.10 Test 데이터에 대한 예측 정확도 확인\n",
        "model.evaluate(X[2560:], Y[2560:])\n",
        "prediction = model.predict(X[2560:2560+5])\n",
        "# 5개 테스트 데이터에 대한 예측을 표시합니다.\n",
        "for i in range(5):\n",
        "    print(Y[2560+i], '\\t', prediction[i][0], '\\tdiff:', abs(prediction[i][0] - Y[2560+i]))\n",
        "    \n",
        "prediction = model.predict(X[2560:])\n",
        "fail = 0\n",
        "for i in range(len(prediction)):\n",
        "    # 오차가 0.04 이상이면 오답입니다.\n",
        "    if abs(prediction[i][0] - Y[2560+i]) > 0.04:\n",
        "        fail += 1\n",
        "print('correctness:', (440 - fail) / 440 * 100, '%')"
      ],
      "execution_count": null,
      "outputs": [
        {
          "output_type": "stream",
          "name": "stdout",
          "text": [
            "14/14 [==============================] - 0s 12ms/step - loss: 0.0497\n",
            "1/1 [==============================] - 0s 259ms/step\n",
            "0.1162097578656399 \t 0.27171695 \tdiff: 0.15550719445827366\n",
            "0.19848398653168728 \t 0.30508453 \tdiff: 0.1066005400071616\n",
            "0.05628569993520576 \t 0.21438465 \tdiff: 0.15809894528841179\n",
            "0.03480691558825324 \t 0.28667453 \tdiff: 0.2518676137257879\n",
            "0.022800598289235353 \t 0.31104067 \tdiff: 0.28824007139040636\n",
            "14/14 [==============================] - 0s 12ms/step\n",
            "correctness: 9.772727272727273 %\n"
          ]
        }
      ]
    },
    {
      "cell_type": "code",
      "metadata": {
        "id": "6o1z24gWIe4B",
        "outputId": "5087b3e7-5444-475e-fc39-be8b19ff6f2c",
        "colab": {
          "base_uri": "https://localhost:8080/"
        }
      },
      "source": [
        "# 7.11 LSTM 레이어를 사용한 곱셈 문제 모델 정의\n",
        "model = tf.keras.Sequential([\n",
        "    tf.keras.layers.LSTM(units=30, return_sequences=True, input_shape=[100,2]),\n",
        "    tf.keras.layers.LSTM(units=30),\n",
        "    tf.keras.layers.Dense(1)\n",
        "])\n",
        "\n",
        "model.compile(optimizer='adam', loss='mse')\n",
        "model.summary()"
      ],
      "execution_count": null,
      "outputs": [
        {
          "output_type": "stream",
          "name": "stdout",
          "text": [
            "Model: \"sequential_2\"\n",
            "_________________________________________________________________\n",
            " Layer (type)                Output Shape              Param #   \n",
            "=================================================================\n",
            " lstm (LSTM)                 (None, 100, 30)           3960      \n",
            "                                                                 \n",
            " lstm_1 (LSTM)               (None, 30)                7320      \n",
            "                                                                 \n",
            " dense_2 (Dense)             (None, 1)                 31        \n",
            "                                                                 \n",
            "=================================================================\n",
            "Total params: 11,311\n",
            "Trainable params: 11,311\n",
            "Non-trainable params: 0\n",
            "_________________________________________________________________\n"
          ]
        }
      ]
    },
    {
      "cell_type": "code",
      "metadata": {
        "id": "XavhYhX4Imax",
        "outputId": "0e8062d7-e4a8-430d-850f-ca2a7a5001a6",
        "colab": {
          "base_uri": "https://localhost:8080/"
        }
      },
      "source": [
        "# 7.12 LSTM 네트워크 학습\n",
        "X = np.array(X)\n",
        "Y = np.array(Y)\n",
        "history = model.fit(X[:2560], Y[:2560], epochs=100, validation_split=0.2)"
      ],
      "execution_count": null,
      "outputs": [
        {
          "output_type": "stream",
          "name": "stdout",
          "text": [
            "Epoch 1/100\n",
            "64/64 [==============================] - 8s 79ms/step - loss: 0.0557 - val_loss: 0.0500\n",
            "Epoch 2/100\n",
            "64/64 [==============================] - 4s 63ms/step - loss: 0.0494 - val_loss: 0.0499\n",
            "Epoch 3/100\n",
            "64/64 [==============================] - 4s 65ms/step - loss: 0.0494 - val_loss: 0.0506\n",
            "Epoch 4/100\n",
            "64/64 [==============================] - 4s 64ms/step - loss: 0.0495 - val_loss: 0.0505\n",
            "Epoch 5/100\n",
            "64/64 [==============================] - 4s 63ms/step - loss: 0.0490 - val_loss: 0.0502\n",
            "Epoch 6/100\n",
            "64/64 [==============================] - 4s 63ms/step - loss: 0.0493 - val_loss: 0.0503\n",
            "Epoch 7/100\n",
            "64/64 [==============================] - 4s 63ms/step - loss: 0.0492 - val_loss: 0.0500\n",
            "Epoch 8/100\n",
            "64/64 [==============================] - 4s 64ms/step - loss: 0.0491 - val_loss: 0.0500\n",
            "Epoch 9/100\n",
            "64/64 [==============================] - 4s 63ms/step - loss: 0.0491 - val_loss: 0.0501\n",
            "Epoch 10/100\n",
            "64/64 [==============================] - 4s 63ms/step - loss: 0.0491 - val_loss: 0.0502\n",
            "Epoch 11/100\n",
            "64/64 [==============================] - 4s 64ms/step - loss: 0.0498 - val_loss: 0.0506\n",
            "Epoch 12/100\n",
            "64/64 [==============================] - 4s 64ms/step - loss: 0.0493 - val_loss: 0.0501\n",
            "Epoch 13/100\n",
            "64/64 [==============================] - 4s 65ms/step - loss: 0.0493 - val_loss: 0.0499\n",
            "Epoch 14/100\n",
            "64/64 [==============================] - 4s 64ms/step - loss: 0.0495 - val_loss: 0.0505\n",
            "Epoch 15/100\n",
            "64/64 [==============================] - 4s 64ms/step - loss: 0.0493 - val_loss: 0.0499\n",
            "Epoch 16/100\n",
            "64/64 [==============================] - 4s 64ms/step - loss: 0.0490 - val_loss: 0.0500\n",
            "Epoch 17/100\n",
            "64/64 [==============================] - 4s 63ms/step - loss: 0.0490 - val_loss: 0.0513\n",
            "Epoch 18/100\n",
            "64/64 [==============================] - 4s 63ms/step - loss: 0.0495 - val_loss: 0.0502\n",
            "Epoch 19/100\n",
            "64/64 [==============================] - 4s 64ms/step - loss: 0.0492 - val_loss: 0.0502\n",
            "Epoch 20/100\n",
            "64/64 [==============================] - 4s 62ms/step - loss: 0.0493 - val_loss: 0.0508\n",
            "Epoch 21/100\n",
            "64/64 [==============================] - 4s 63ms/step - loss: 0.0491 - val_loss: 0.0503\n",
            "Epoch 22/100\n",
            "64/64 [==============================] - 4s 64ms/step - loss: 0.0491 - val_loss: 0.0500\n",
            "Epoch 23/100\n",
            "64/64 [==============================] - 4s 65ms/step - loss: 0.0492 - val_loss: 0.0506\n",
            "Epoch 24/100\n",
            "64/64 [==============================] - 4s 63ms/step - loss: 0.0490 - val_loss: 0.0500\n",
            "Epoch 25/100\n",
            "64/64 [==============================] - 4s 63ms/step - loss: 0.0489 - val_loss: 0.0500\n",
            "Epoch 26/100\n",
            "64/64 [==============================] - 4s 63ms/step - loss: 0.0490 - val_loss: 0.0499\n",
            "Epoch 27/100\n",
            "64/64 [==============================] - 4s 63ms/step - loss: 0.0489 - val_loss: 0.0498\n",
            "Epoch 28/100\n",
            "64/64 [==============================] - 4s 63ms/step - loss: 0.0489 - val_loss: 0.0500\n",
            "Epoch 29/100\n",
            "64/64 [==============================] - 4s 65ms/step - loss: 0.0488 - val_loss: 0.0505\n",
            "Epoch 30/100\n",
            "64/64 [==============================] - 4s 64ms/step - loss: 0.0490 - val_loss: 0.0500\n",
            "Epoch 31/100\n",
            "64/64 [==============================] - 4s 64ms/step - loss: 0.0487 - val_loss: 0.0499\n",
            "Epoch 32/100\n",
            "64/64 [==============================] - 4s 63ms/step - loss: 0.0488 - val_loss: 0.0497\n",
            "Epoch 33/100\n",
            "64/64 [==============================] - 4s 65ms/step - loss: 0.0480 - val_loss: 0.0488\n",
            "Epoch 34/100\n",
            "64/64 [==============================] - 4s 64ms/step - loss: 0.0477 - val_loss: 0.0478\n",
            "Epoch 35/100\n",
            "64/64 [==============================] - 4s 64ms/step - loss: 0.0494 - val_loss: 0.0531\n",
            "Epoch 36/100\n",
            "64/64 [==============================] - 4s 64ms/step - loss: 0.0492 - val_loss: 0.0491\n",
            "Epoch 37/100\n",
            "64/64 [==============================] - 4s 63ms/step - loss: 0.0484 - val_loss: 0.0501\n",
            "Epoch 38/100\n",
            "64/64 [==============================] - 4s 64ms/step - loss: 0.0483 - val_loss: 0.0482\n",
            "Epoch 39/100\n",
            "64/64 [==============================] - 4s 63ms/step - loss: 0.0476 - val_loss: 0.0475\n",
            "Epoch 40/100\n",
            "64/64 [==============================] - 4s 63ms/step - loss: 0.0484 - val_loss: 0.0563\n",
            "Epoch 41/100\n",
            "64/64 [==============================] - 4s 63ms/step - loss: 0.0485 - val_loss: 0.0476\n",
            "Epoch 42/100\n",
            "64/64 [==============================] - 4s 64ms/step - loss: 0.0466 - val_loss: 0.0470\n",
            "Epoch 43/100\n",
            "64/64 [==============================] - 4s 65ms/step - loss: 0.0453 - val_loss: 0.0458\n",
            "Epoch 44/100\n",
            "64/64 [==============================] - 4s 64ms/step - loss: 0.0409 - val_loss: 0.0261\n",
            "Epoch 45/100\n",
            "64/64 [==============================] - 4s 66ms/step - loss: 0.0267 - val_loss: 0.0202\n",
            "Epoch 46/100\n",
            "64/64 [==============================] - 4s 64ms/step - loss: 0.0186 - val_loss: 0.0100\n",
            "Epoch 47/100\n",
            "64/64 [==============================] - 4s 65ms/step - loss: 0.0099 - val_loss: 0.0093\n",
            "Epoch 48/100\n",
            "64/64 [==============================] - 4s 66ms/step - loss: 0.0081 - val_loss: 0.0058\n",
            "Epoch 49/100\n",
            "64/64 [==============================] - 4s 63ms/step - loss: 0.0063 - val_loss: 0.0047\n",
            "Epoch 50/100\n",
            "64/64 [==============================] - 4s 63ms/step - loss: 0.0050 - val_loss: 0.0039\n",
            "Epoch 51/100\n",
            "64/64 [==============================] - 4s 64ms/step - loss: 0.0039 - val_loss: 0.0054\n",
            "Epoch 52/100\n",
            "64/64 [==============================] - 4s 63ms/step - loss: 0.0041 - val_loss: 0.0029\n",
            "Epoch 53/100\n",
            "64/64 [==============================] - 4s 66ms/step - loss: 0.0028 - val_loss: 0.0036\n",
            "Epoch 54/100\n",
            "64/64 [==============================] - 4s 68ms/step - loss: 0.0030 - val_loss: 0.0022\n",
            "Epoch 55/100\n",
            "64/64 [==============================] - 4s 66ms/step - loss: 0.0026 - val_loss: 0.0021\n",
            "Epoch 56/100\n",
            "64/64 [==============================] - 4s 63ms/step - loss: 0.0028 - val_loss: 0.0028\n",
            "Epoch 57/100\n",
            "64/64 [==============================] - 4s 64ms/step - loss: 0.0024 - val_loss: 0.0019\n",
            "Epoch 58/100\n",
            "64/64 [==============================] - 4s 63ms/step - loss: 0.0021 - val_loss: 0.0017\n",
            "Epoch 59/100\n",
            "64/64 [==============================] - 4s 64ms/step - loss: 0.0022 - val_loss: 0.0061\n",
            "Epoch 60/100\n",
            "64/64 [==============================] - 4s 64ms/step - loss: 0.0022 - val_loss: 0.0018\n",
            "Epoch 61/100\n",
            "64/64 [==============================] - 4s 64ms/step - loss: 0.0019 - val_loss: 0.0025\n",
            "Epoch 62/100\n",
            "64/64 [==============================] - 4s 64ms/step - loss: 0.0017 - val_loss: 0.0023\n",
            "Epoch 63/100\n",
            "64/64 [==============================] - 4s 63ms/step - loss: 0.0016 - val_loss: 0.0013\n",
            "Epoch 64/100\n",
            "64/64 [==============================] - 4s 63ms/step - loss: 0.0013 - val_loss: 0.0013\n",
            "Epoch 65/100\n",
            "64/64 [==============================] - 4s 64ms/step - loss: 0.0017 - val_loss: 0.0011\n",
            "Epoch 66/100\n",
            "64/64 [==============================] - 4s 65ms/step - loss: 0.0018 - val_loss: 0.0016\n",
            "Epoch 67/100\n",
            "64/64 [==============================] - 4s 64ms/step - loss: 0.0013 - val_loss: 0.0011\n",
            "Epoch 68/100\n",
            "64/64 [==============================] - 4s 64ms/step - loss: 0.0014 - val_loss: 0.0012\n",
            "Epoch 69/100\n",
            "64/64 [==============================] - 4s 63ms/step - loss: 0.0014 - val_loss: 0.0027\n",
            "Epoch 70/100\n",
            "64/64 [==============================] - 4s 63ms/step - loss: 0.0012 - val_loss: 9.9862e-04\n",
            "Epoch 71/100\n",
            "64/64 [==============================] - 4s 65ms/step - loss: 0.0010 - val_loss: 0.0010\n",
            "Epoch 72/100\n",
            "64/64 [==============================] - 4s 64ms/step - loss: 0.0012 - val_loss: 0.0010\n",
            "Epoch 73/100\n",
            "64/64 [==============================] - 4s 63ms/step - loss: 9.3452e-04 - val_loss: 8.8890e-04\n",
            "Epoch 74/100\n",
            "64/64 [==============================] - 4s 64ms/step - loss: 8.6025e-04 - val_loss: 7.7880e-04\n",
            "Epoch 75/100\n",
            "64/64 [==============================] - 4s 63ms/step - loss: 0.0011 - val_loss: 0.0018\n",
            "Epoch 76/100\n",
            "64/64 [==============================] - 4s 63ms/step - loss: 7.7568e-04 - val_loss: 9.1794e-04\n",
            "Epoch 77/100\n",
            "64/64 [==============================] - 4s 63ms/step - loss: 8.8878e-04 - val_loss: 0.0015\n",
            "Epoch 78/100\n",
            "64/64 [==============================] - 4s 63ms/step - loss: 0.0013 - val_loss: 9.1516e-04\n",
            "Epoch 79/100\n",
            "64/64 [==============================] - 4s 63ms/step - loss: 8.9735e-04 - val_loss: 0.0013\n",
            "Epoch 80/100\n",
            "64/64 [==============================] - 4s 63ms/step - loss: 8.3663e-04 - val_loss: 7.4235e-04\n",
            "Epoch 81/100\n",
            "64/64 [==============================] - 4s 63ms/step - loss: 6.7787e-04 - val_loss: 9.2080e-04\n",
            "Epoch 82/100\n",
            "64/64 [==============================] - 4s 64ms/step - loss: 6.4494e-04 - val_loss: 0.0011\n",
            "Epoch 83/100\n",
            "64/64 [==============================] - 4s 63ms/step - loss: 6.3844e-04 - val_loss: 7.8159e-04\n",
            "Epoch 84/100\n",
            "64/64 [==============================] - 4s 64ms/step - loss: 7.7087e-04 - val_loss: 0.0014\n",
            "Epoch 85/100\n",
            "64/64 [==============================] - 4s 63ms/step - loss: 9.1919e-04 - val_loss: 6.9968e-04\n",
            "Epoch 86/100\n",
            "64/64 [==============================] - 4s 63ms/step - loss: 6.5578e-04 - val_loss: 8.9062e-04\n",
            "Epoch 87/100\n",
            "64/64 [==============================] - 4s 63ms/step - loss: 5.8687e-04 - val_loss: 6.2908e-04\n",
            "Epoch 88/100\n",
            "64/64 [==============================] - 4s 64ms/step - loss: 5.9082e-04 - val_loss: 8.5307e-04\n",
            "Epoch 89/100\n",
            "64/64 [==============================] - 4s 65ms/step - loss: 5.7080e-04 - val_loss: 4.9355e-04\n",
            "Epoch 90/100\n",
            "64/64 [==============================] - 4s 64ms/step - loss: 5.1046e-04 - val_loss: 8.9495e-04\n",
            "Epoch 91/100\n",
            "64/64 [==============================] - 4s 63ms/step - loss: 6.1694e-04 - val_loss: 7.8973e-04\n",
            "Epoch 92/100\n",
            "64/64 [==============================] - 4s 63ms/step - loss: 0.0010 - val_loss: 0.0014\n",
            "Epoch 93/100\n",
            "64/64 [==============================] - 4s 64ms/step - loss: 7.0245e-04 - val_loss: 4.5458e-04\n",
            "Epoch 94/100\n",
            "64/64 [==============================] - 4s 65ms/step - loss: 4.3110e-04 - val_loss: 4.3469e-04\n",
            "Epoch 95/100\n",
            "64/64 [==============================] - 4s 63ms/step - loss: 5.4301e-04 - val_loss: 4.7805e-04\n",
            "Epoch 96/100\n",
            "64/64 [==============================] - 4s 64ms/step - loss: 5.8348e-04 - val_loss: 4.5085e-04\n",
            "Epoch 97/100\n",
            "64/64 [==============================] - 4s 63ms/step - loss: 9.0008e-04 - val_loss: 0.0012\n",
            "Epoch 98/100\n",
            "64/64 [==============================] - 4s 63ms/step - loss: 4.8834e-04 - val_loss: 5.3956e-04\n",
            "Epoch 99/100\n",
            "64/64 [==============================] - 4s 63ms/step - loss: 4.6578e-04 - val_loss: 5.8891e-04\n",
            "Epoch 100/100\n",
            "64/64 [==============================] - 4s 63ms/step - loss: 5.9094e-04 - val_loss: 4.1725e-04\n"
          ]
        }
      ]
    },
    {
      "cell_type": "code",
      "metadata": {
        "id": "NJSlA-z7NRHE",
        "outputId": "43734aca-c1f8-4e99-89c5-2158382104a1",
        "colab": {
          "base_uri": "https://localhost:8080/",
          "height": 279
        }
      },
      "source": [
        "# 7.13 LSTM 네트워크 학습 결과 확인\n",
        "import matplotlib.pyplot as plt\n",
        "plt.plot(history.history['loss'], 'b-', label='loss')\n",
        "plt.plot(history.history['val_loss'], 'r--', label='val_loss')\n",
        "plt.xlabel('Epoch')\n",
        "plt.legend()\n",
        "plt.show()"
      ],
      "execution_count": null,
      "outputs": [
        {
          "output_type": "display_data",
          "data": {
            "text/plain": [
              "<Figure size 432x288 with 1 Axes>"
            ],
            "image/png": "[encoded data removed]"
          },
          "metadata": {
            "needs_background": "light"
          }
        }
      ]
    },
    {
      "cell_type": "code",
      "metadata": {
        "id": "Ob1VbaYzJCWa",
        "outputId": "b0c4d7cc-5074-4d70-c0ef-5a1d585f8854",
        "colab": {
          "base_uri": "https://localhost:8080/"
        }
      },
      "source": [
        "# 7.14 Test 데이터에 대한 예측 정확도 확인\n",
        "model.evaluate(X[2560:], Y[2560:])\n",
        "prediction = model.predict(X[2560:2560+5])\n",
        "for i in range(5):\n",
        "    print(Y[2560+i], '\\t', prediction[i][0], '\\tdiff:', abs(prediction[i][0] - Y[2560+i]))\n",
        "    \n",
        "prediction = model.predict(X[2560:])\n",
        "cnt = 0\n",
        "for i in range(len(prediction)):\n",
        "    if abs(prediction[i][0] - Y[2560+i]) > 0.04:\n",
        "        cnt += 1\n",
        "print('correctness:', (440 - cnt) / 440 * 100, '%')"
      ],
      "execution_count": null,
      "outputs": [
        {
          "output_type": "stream",
          "name": "stdout",
          "text": [
            "14/14 [==============================] - 1s 21ms/step - loss: 3.6632e-04\n",
            "1/1 [==============================] - 1s 789ms/step\n",
            "0.1162097578656399 \t 0.14598909 \tdiff: 0.029779332338598988\n",
            "0.19848398653168728 \t 0.19867322 \tdiff: 0.00018923195700595863\n",
            "0.05628569993520576 \t 0.058790404 \tdiff: 0.0025047044143597444\n",
            "0.03480691558825324 \t 0.06369543 \tdiff: 0.028888515167361996\n",
            "0.022800598289235353 \t 0.029333517 \tdiff: 0.006532918666140319\n",
            "14/14 [==============================] - 0s 20ms/step\n",
            "correctness: 95.68181818181817 %\n"
          ]
        }
      ]
    },
    {
      "cell_type": "markdown",
      "metadata": {
        "id": "VxV7T14AvXkH"
      },
      "source": [
        "## 7.2.3 GRU 레이어"
      ]
    },
    {
      "cell_type": "code",
      "metadata": {
        "id": "8WjH-A0WvNAO",
        "outputId": "e3160d4b-43f6-47c9-9360-7398b0746d8b",
        "colab": {
          "base_uri": "https://localhost:8080/"
        }
      },
      "source": [
        "# 7.15 GRU 레이어를 사용한 곱셈 문제 모델 정의\n",
        "model = tf.keras.Sequential([\n",
        "    tf.keras.layers.GRU(units=30, return_sequences=True, input_shape=[100,2]),\n",
        "    tf.keras.layers.GRU(units=30),\n",
        "    tf.keras.layers.Dense(1)\n",
        "])\n",
        "\n",
        "model.compile(optimizer='adam', loss='mse')\n",
        "model.summary()"
      ],
      "execution_count": null,
      "outputs": [
        {
          "output_type": "stream",
          "name": "stdout",
          "text": [
            "Model: \"sequential\"\n",
            "_________________________________________________________________\n",
            " Layer (type)                Output Shape              Param #   \n",
            "=================================================================\n",
            " gru (GRU)                   (None, 100, 30)           3060      \n",
            "                                                                 \n",
            " gru_1 (GRU)                 (None, 30)                5580      \n",
            "                                                                 \n",
            " dense (Dense)               (None, 1)                 31        \n",
            "                                                                 \n",
            "=================================================================\n",
            "Total params: 8,671\n",
            "Trainable params: 8,671\n",
            "Non-trainable params: 0\n",
            "_________________________________________________________________\n"
          ]
        }
      ]
    },
    {
      "cell_type": "code",
      "metadata": {
        "id": "vd6C4gvUvdQS",
        "outputId": "98747931-09af-4b24-dd1e-39ba6a7a3aea",
        "colab": {
          "base_uri": "https://localhost:8080/"
        }
      },
      "source": [
        "# 7.16 GRU 네트워크 학습\n",
        "X = np.array(X)\n",
        "Y = np.array(Y)\n",
        "history = model.fit(X[:2560], Y[:2560], epochs=100, validation_split=0.2)"
      ],
      "execution_count": null,
      "outputs": [
        {
          "output_type": "stream",
          "name": "stdout",
          "text": [
            "Epoch 1/100\n",
            "64/64 [==============================] - 7s 20ms/step - loss: 0.0492 - val_loss: 0.0533\n",
            "Epoch 2/100\n",
            "64/64 [==============================] - 1s 10ms/step - loss: 0.0480 - val_loss: 0.0529\n",
            "Epoch 3/100\n",
            "64/64 [==============================] - 1s 10ms/step - loss: 0.0469 - val_loss: 0.0530\n",
            "Epoch 4/100\n",
            "64/64 [==============================] - 1s 10ms/step - loss: 0.0470 - val_loss: 0.0523\n",
            "Epoch 5/100\n",
            "64/64 [==============================] - 1s 9ms/step - loss: 0.0478 - val_loss: 0.0522\n",
            "Epoch 6/100\n",
            "64/64 [==============================] - 1s 9ms/step - loss: 0.0467 - val_loss: 0.0522\n",
            "Epoch 7/100\n",
            "64/64 [==============================] - 1s 10ms/step - loss: 0.0469 - val_loss: 0.0524\n",
            "Epoch 8/100\n",
            "64/64 [==============================] - 1s 9ms/step - loss: 0.0472 - val_loss: 0.0520\n",
            "Epoch 9/100\n",
            "64/64 [==============================] - 1s 10ms/step - loss: 0.0466 - val_loss: 0.0517\n",
            "Epoch 10/100\n",
            "64/64 [==============================] - 1s 9ms/step - loss: 0.0467 - val_loss: 0.0531\n",
            "Epoch 11/100\n",
            "64/64 [==============================] - 1s 9ms/step - loss: 0.0471 - val_loss: 0.0516\n",
            "Epoch 12/100\n",
            "64/64 [==============================] - 1s 10ms/step - loss: 0.0463 - val_loss: 0.0534\n",
            "Epoch 13/100\n",
            "64/64 [==============================] - 1s 9ms/step - loss: 0.0465 - val_loss: 0.0520\n",
            "Epoch 14/100\n",
            "64/64 [==============================] - 1s 9ms/step - loss: 0.0465 - val_loss: 0.0536\n",
            "Epoch 15/100\n",
            "64/64 [==============================] - 1s 9ms/step - loss: 0.0471 - val_loss: 0.0512\n",
            "Epoch 16/100\n",
            "64/64 [==============================] - 1s 9ms/step - loss: 0.0460 - val_loss: 0.0511\n",
            "Epoch 17/100\n",
            "64/64 [==============================] - 1s 9ms/step - loss: 0.0454 - val_loss: 0.0501\n",
            "Epoch 18/100\n",
            "64/64 [==============================] - 1s 9ms/step - loss: 0.0451 - val_loss: 0.0497\n",
            "Epoch 19/100\n",
            "64/64 [==============================] - 1s 10ms/step - loss: 0.0416 - val_loss: 0.0418\n",
            "Epoch 20/100\n",
            "64/64 [==============================] - 1s 9ms/step - loss: 0.0234 - val_loss: 0.0104\n",
            "Epoch 21/100\n",
            "64/64 [==============================] - 1s 10ms/step - loss: 0.0040 - val_loss: 0.0035\n",
            "Epoch 22/100\n",
            "64/64 [==============================] - 1s 10ms/step - loss: 0.0023 - val_loss: 0.0027\n",
            "Epoch 23/100\n",
            "64/64 [==============================] - 1s 9ms/step - loss: 0.0019 - val_loss: 0.0028\n",
            "Epoch 24/100\n",
            "64/64 [==============================] - 1s 9ms/step - loss: 0.0016 - val_loss: 0.0018\n",
            "Epoch 25/100\n",
            "64/64 [==============================] - 1s 9ms/step - loss: 0.0012 - val_loss: 0.0018\n",
            "Epoch 26/100\n",
            "64/64 [==============================] - 1s 10ms/step - loss: 0.0016 - val_loss: 0.0020\n",
            "Epoch 27/100\n",
            "64/64 [==============================] - 1s 10ms/step - loss: 9.7754e-04 - val_loss: 0.0012\n",
            "Epoch 28/100\n",
            "64/64 [==============================] - 1s 9ms/step - loss: 8.4951e-04 - val_loss: 9.7690e-04\n",
            "Epoch 29/100\n",
            "64/64 [==============================] - 1s 9ms/step - loss: 7.3303e-04 - val_loss: 0.0011\n",
            "Epoch 30/100\n",
            "64/64 [==============================] - 1s 10ms/step - loss: 6.7622e-04 - val_loss: 7.9590e-04\n",
            "Epoch 31/100\n",
            "64/64 [==============================] - 1s 10ms/step - loss: 6.7664e-04 - val_loss: 8.1843e-04\n",
            "Epoch 32/100\n",
            "64/64 [==============================] - 1s 10ms/step - loss: 6.2517e-04 - val_loss: 9.7953e-04\n",
            "Epoch 33/100\n",
            "64/64 [==============================] - 1s 9ms/step - loss: 5.6076e-04 - val_loss: 7.3944e-04\n",
            "Epoch 34/100\n",
            "64/64 [==============================] - 1s 10ms/step - loss: 5.5561e-04 - val_loss: 7.4110e-04\n",
            "Epoch 35/100\n",
            "64/64 [==============================] - 1s 10ms/step - loss: 5.1623e-04 - val_loss: 6.8004e-04\n",
            "Epoch 36/100\n",
            "64/64 [==============================] - 1s 9ms/step - loss: 4.8041e-04 - val_loss: 7.5484e-04\n",
            "Epoch 37/100\n",
            "64/64 [==============================] - 1s 9ms/step - loss: 4.9334e-04 - val_loss: 8.2303e-04\n",
            "Epoch 38/100\n",
            "64/64 [==============================] - 1s 9ms/step - loss: 5.0223e-04 - val_loss: 5.8346e-04\n",
            "Epoch 39/100\n",
            "64/64 [==============================] - 1s 9ms/step - loss: 4.6021e-04 - val_loss: 7.7287e-04\n",
            "Epoch 40/100\n",
            "64/64 [==============================] - 1s 9ms/step - loss: 4.0575e-04 - val_loss: 7.2112e-04\n",
            "Epoch 41/100\n",
            "64/64 [==============================] - 1s 9ms/step - loss: 4.1880e-04 - val_loss: 6.2198e-04\n",
            "Epoch 42/100\n",
            "64/64 [==============================] - 1s 10ms/step - loss: 4.0310e-04 - val_loss: 7.5133e-04\n",
            "Epoch 43/100\n",
            "64/64 [==============================] - 1s 9ms/step - loss: 3.6562e-04 - val_loss: 6.0479e-04\n",
            "Epoch 44/100\n",
            "64/64 [==============================] - 1s 10ms/step - loss: 4.2675e-04 - val_loss: 5.1552e-04\n",
            "Epoch 45/100\n",
            "64/64 [==============================] - 1s 10ms/step - loss: 3.6101e-04 - val_loss: 5.3273e-04\n",
            "Epoch 46/100\n",
            "64/64 [==============================] - 1s 9ms/step - loss: 4.4938e-04 - val_loss: 5.3302e-04\n",
            "Epoch 47/100\n",
            "64/64 [==============================] - 1s 9ms/step - loss: 3.2276e-04 - val_loss: 5.1039e-04\n",
            "Epoch 48/100\n",
            "64/64 [==============================] - 1s 9ms/step - loss: 3.2190e-04 - val_loss: 4.5103e-04\n",
            "Epoch 49/100\n",
            "64/64 [==============================] - 1s 10ms/step - loss: 3.1438e-04 - val_loss: 4.6253e-04\n",
            "Epoch 50/100\n",
            "64/64 [==============================] - 1s 9ms/step - loss: 2.8947e-04 - val_loss: 5.4149e-04\n",
            "Epoch 51/100\n",
            "64/64 [==============================] - 1s 9ms/step - loss: 2.8179e-04 - val_loss: 5.0983e-04\n",
            "Epoch 52/100\n",
            "64/64 [==============================] - 1s 9ms/step - loss: 2.8581e-04 - val_loss: 4.0339e-04\n",
            "Epoch 53/100\n",
            "64/64 [==============================] - 1s 9ms/step - loss: 2.9107e-04 - val_loss: 4.2242e-04\n",
            "Epoch 54/100\n",
            "64/64 [==============================] - 1s 9ms/step - loss: 2.9419e-04 - val_loss: 4.1271e-04\n",
            "Epoch 55/100\n",
            "64/64 [==============================] - 1s 9ms/step - loss: 3.1065e-04 - val_loss: 4.2995e-04\n",
            "Epoch 56/100\n",
            "64/64 [==============================] - 1s 9ms/step - loss: 2.8222e-04 - val_loss: 3.8426e-04\n",
            "Epoch 57/100\n",
            "64/64 [==============================] - 1s 9ms/step - loss: 3.3566e-04 - val_loss: 9.6252e-04\n",
            "Epoch 58/100\n",
            "64/64 [==============================] - 1s 9ms/step - loss: 3.4257e-04 - val_loss: 4.8930e-04\n",
            "Epoch 59/100\n",
            "64/64 [==============================] - 1s 9ms/step - loss: 3.9137e-04 - val_loss: 4.2346e-04\n",
            "Epoch 60/100\n",
            "64/64 [==============================] - 1s 9ms/step - loss: 2.4983e-04 - val_loss: 5.6752e-04\n",
            "Epoch 61/100\n",
            "64/64 [==============================] - 1s 10ms/step - loss: 2.4345e-04 - val_loss: 5.0651e-04\n",
            "Epoch 62/100\n",
            "64/64 [==============================] - 1s 9ms/step - loss: 2.1702e-04 - val_loss: 3.5207e-04\n",
            "Epoch 63/100\n",
            "64/64 [==============================] - 1s 9ms/step - loss: 3.3638e-04 - val_loss: 3.3667e-04\n",
            "Epoch 64/100\n",
            "64/64 [==============================] - 1s 9ms/step - loss: 2.0957e-04 - val_loss: 3.2251e-04\n",
            "Epoch 65/100\n",
            "64/64 [==============================] - 1s 9ms/step - loss: 1.9615e-04 - val_loss: 3.5446e-04\n",
            "Epoch 66/100\n",
            "64/64 [==============================] - 1s 9ms/step - loss: 1.9275e-04 - val_loss: 3.0840e-04\n",
            "Epoch 67/100\n",
            "64/64 [==============================] - 1s 10ms/step - loss: 2.1840e-04 - val_loss: 4.0037e-04\n",
            "Epoch 68/100\n",
            "64/64 [==============================] - 1s 9ms/step - loss: 2.2091e-04 - val_loss: 3.3924e-04\n",
            "Epoch 69/100\n",
            "64/64 [==============================] - 1s 9ms/step - loss: 3.1950e-04 - val_loss: 3.8999e-04\n",
            "Epoch 70/100\n",
            "64/64 [==============================] - 1s 10ms/step - loss: 1.9285e-04 - val_loss: 2.8326e-04\n",
            "Epoch 71/100\n",
            "64/64 [==============================] - 1s 9ms/step - loss: 1.6125e-04 - val_loss: 2.8625e-04\n",
            "Epoch 72/100\n",
            "64/64 [==============================] - 1s 9ms/step - loss: 2.2374e-04 - val_loss: 2.9073e-04\n",
            "Epoch 73/100\n",
            "64/64 [==============================] - 1s 9ms/step - loss: 1.6777e-04 - val_loss: 3.3914e-04\n",
            "Epoch 74/100\n",
            "64/64 [==============================] - 1s 9ms/step - loss: 1.6482e-04 - val_loss: 4.1503e-04\n",
            "Epoch 75/100\n",
            "64/64 [==============================] - 1s 9ms/step - loss: 2.1213e-04 - val_loss: 2.4565e-04\n",
            "Epoch 76/100\n",
            "64/64 [==============================] - 1s 9ms/step - loss: 1.7567e-04 - val_loss: 2.6883e-04\n",
            "Epoch 77/100\n",
            "64/64 [==============================] - 1s 9ms/step - loss: 1.5044e-04 - val_loss: 4.8813e-04\n",
            "Epoch 78/100\n",
            "64/64 [==============================] - 1s 9ms/step - loss: 1.6641e-04 - val_loss: 2.7252e-04\n",
            "Epoch 79/100\n",
            "64/64 [==============================] - 1s 9ms/step - loss: 1.6975e-04 - val_loss: 2.4746e-04\n",
            "Epoch 80/100\n",
            "64/64 [==============================] - 1s 10ms/step - loss: 2.6127e-04 - val_loss: 2.4375e-04\n",
            "Epoch 81/100\n",
            "64/64 [==============================] - 1s 9ms/step - loss: 1.7803e-04 - val_loss: 3.9416e-04\n",
            "Epoch 82/100\n",
            "64/64 [==============================] - 1s 9ms/step - loss: 1.5486e-04 - val_loss: 2.8125e-04\n",
            "Epoch 83/100\n",
            "64/64 [==============================] - 1s 9ms/step - loss: 1.3751e-04 - val_loss: 2.3177e-04\n",
            "Epoch 84/100\n",
            "64/64 [==============================] - 1s 9ms/step - loss: 1.5262e-04 - val_loss: 2.7185e-04\n",
            "Epoch 85/100\n",
            "64/64 [==============================] - 1s 9ms/step - loss: 1.6215e-04 - val_loss: 2.0682e-04\n",
            "Epoch 86/100\n",
            "64/64 [==============================] - 1s 10ms/step - loss: 1.6942e-04 - val_loss: 4.3432e-04\n",
            "Epoch 87/100\n",
            "64/64 [==============================] - 1s 9ms/step - loss: 1.7960e-04 - val_loss: 2.8696e-04\n",
            "Epoch 88/100\n",
            "64/64 [==============================] - 1s 9ms/step - loss: 1.2145e-04 - val_loss: 2.2121e-04\n",
            "Epoch 89/100\n",
            "64/64 [==============================] - 1s 9ms/step - loss: 1.1303e-04 - val_loss: 1.7678e-04\n",
            "Epoch 90/100\n",
            "64/64 [==============================] - 1s 9ms/step - loss: 1.1046e-04 - val_loss: 2.0574e-04\n",
            "Epoch 91/100\n",
            "64/64 [==============================] - 1s 9ms/step - loss: 1.2636e-04 - val_loss: 1.7036e-04\n",
            "Epoch 92/100\n",
            "64/64 [==============================] - 1s 9ms/step - loss: 1.2278e-04 - val_loss: 1.6500e-04\n",
            "Epoch 93/100\n",
            "64/64 [==============================] - 1s 9ms/step - loss: 1.4692e-04 - val_loss: 2.1487e-04\n",
            "Epoch 94/100\n",
            "64/64 [==============================] - 1s 9ms/step - loss: 1.1934e-04 - val_loss: 1.9713e-04\n",
            "Epoch 95/100\n",
            "64/64 [==============================] - 1s 9ms/step - loss: 1.6613e-04 - val_loss: 2.4924e-04\n",
            "Epoch 96/100\n",
            "64/64 [==============================] - 1s 9ms/step - loss: 1.1935e-04 - val_loss: 1.8541e-04\n",
            "Epoch 97/100\n",
            "64/64 [==============================] - 1s 10ms/step - loss: 9.3419e-05 - val_loss: 2.0881e-04\n",
            "Epoch 98/100\n",
            "64/64 [==============================] - 1s 9ms/step - loss: 8.8197e-05 - val_loss: 1.5200e-04\n",
            "Epoch 99/100\n",
            "64/64 [==============================] - 1s 9ms/step - loss: 1.1816e-04 - val_loss: 1.8969e-04\n",
            "Epoch 100/100\n",
            "64/64 [==============================] - 1s 10ms/step - loss: 1.2431e-04 - val_loss: 1.7673e-04\n"
          ]
        }
      ]
    },
    {
      "cell_type": "code",
      "metadata": {
        "id": "-SHz_LHExkH3",
        "outputId": "a7dab3cf-b3bc-40c0-c860-5552d1cc7c82",
        "colab": {
          "base_uri": "https://localhost:8080/",
          "height": 279
        }
      },
      "source": [
        "# 7.17 GRU 네트워크 학습 결과 확인\n",
        "import matplotlib.pyplot as plt\n",
        "plt.plot(history.history['loss'], 'b-', label='loss')\n",
        "plt.plot(history.history['val_loss'], 'r--', label='val_loss')\n",
        "plt.xlabel('Epoch')\n",
        "plt.legend()\n",
        "plt.show()"
      ],
      "execution_count": null,
      "outputs": [
        {
          "output_type": "display_data",
          "data": {
            "text/plain": [
              "<Figure size 432x288 with 1 Axes>"
            ],
            "image/png": "[encoded data removed]"
          },
          "metadata": {
            "needs_background": "light"
          }
        }
      ]
    },
    {
      "cell_type": "code",
      "metadata": {
        "id": "JdecdSb0xkDj",
        "outputId": "7cda9cf0-d76a-4b2c-b8ea-95e3b39d8413",
        "colab": {
          "base_uri": "https://localhost:8080/"
        }
      },
      "source": [
        "# 7.18 Test 데이터에 대한 예측 정확도 확인\n",
        "model.evaluate(X[2560:], Y[2560:])\n",
        "prediction = model.predict(X[2560:2560+5])\n",
        "for i in range(5):\n",
        "    print(Y[2560+i], '\\t', prediction[i][0], '\\tdiff:', abs(prediction[i][0] - Y[2560+i]))\n",
        "    \n",
        "prediction = model.predict(X[2560:])\n",
        "cnt = 0\n",
        "for i in range(len(prediction)):\n",
        "    if abs(prediction[i][0] - Y[2560+i]) > 0.04:\n",
        "        cnt += 1\n",
        "print('correctness:', (440 - cnt) / 440 * 100, '%')"
      ],
      "execution_count": null,
      "outputs": [
        {
          "output_type": "stream",
          "name": "stdout",
          "text": [
            "14/14 [==============================] - 1s 9ms/step - loss: 1.3471e-04\n",
            "0.38300888141964545 \t 0.38484603 \tdiff: 0.0018371502461565492\n",
            "0.23104388718279487 \t 0.2346411 \tdiff: 0.0035972177538048655\n",
            "0.09707748182332913 \t 0.10267833 \tdiff: 0.005600846929188566\n",
            "0.48207583355785905 \t 0.47980088 \tdiff: 0.002274953602567298\n",
            "0.4072524087138894 \t 0.41243958 \tdiff: 0.005187176018166262\n",
            "correctness: 98.18181818181819 %\n"
          ]
        }
      ]
    },
    {
      "cell_type": "markdown",
      "metadata": {
        "id": "b4rFl018T7Py"
      },
      "source": [
        "# 7.3 긍정, 부정 감성 분석"
      ]
    },
    {
      "cell_type": "code",
      "metadata": {
        "id": "srjpifEqUAx3",
        "outputId": "43f4b097-36bd-4a86-aa17-10dcc182265f",
        "colab": {
          "base_uri": "https://localhost:8080/"
        }
      },
      "source": [
        "# 7.19 Naver Sentiment Movie Corpus v1.0 다운로드\n",
        "path_to_train_file = tf.keras.utils.get_file('train.txt', 'https://raw.githubusercontent.com/e9t/nsmc/master/ratings_train.txt')\n",
        "path_to_test_file = tf.keras.utils.get_file('test.txt', 'https://raw.githubusercontent.com/e9t/nsmc/master/ratings_test.txt')"
      ],
      "execution_count": 7,
      "outputs": [
        {
          "output_type": "stream",
          "name": "stdout",
          "text": [
            "Downloading data from https://raw.githubusercontent.com/e9t/nsmc/master/ratings_train.txt\n",
            "14628807/14628807 [==============================] - 0s 0us/step\n",
            "Downloading data from https://raw.githubusercontent.com/e9t/nsmc/master/ratings_test.txt\n",
            "4893335/4893335 [==============================] - 0s 0us/step\n"
          ]
        }
      ]
    },
    {
      "cell_type": "code",
      "metadata": {
        "id": "8e3_cWrjcZ8X",
        "outputId": "89870f2d-2fad-4364-8ad4-5c600189102e",
        "colab": {
          "base_uri": "https://localhost:8080/"
        }
      },
      "source": [
        "# 7.20 데이터 로드 및 확인\n",
        "# 데이터를 메모리에 불러옵니다. encoding 형식으로 utf-8 을 지정해야합니다.\n",
        "train_text = open(path_to_train_file, 'rb').read().decode(encoding='utf-8')\n",
        "test_text = open(path_to_test_file, 'rb').read().decode(encoding='utf-8')\n",
        "\n",
        "# 텍스트가 총 몇 자인지 확인합니다.\n",
        "print('Length of text: {} characters'.format(len(train_text)))\n",
        "print('Length of text: {} characters'.format(len(test_text)))\n",
        "print()\n",
        "\n",
        "# 처음 300 자를 확인해봅니다.\n",
        "print(train_text[:300])"
      ],
      "execution_count": 8,
      "outputs": [
        {
          "output_type": "stream",
          "name": "stdout",
          "text": [
            "Length of text: 6937271 characters\n",
            "Length of text: 2318260 characters\n",
            "\n",
            "id\tdocument\tlabel\n",
            "9976970\t아 더빙.. 진짜 짜증나네요 목소리\t0\n",
            "3819312\t흠...포스터보고 초딩영화줄....오버연기조차 가볍지 않구나\t1\n",
            "10265843\t너무재밓었다그래서보는것을추천한다\t0\n",
            "9045019\t교도소 이야기구먼 ..솔직히 재미는 없다..평점 조정\t0\n",
            "6483659\t사이몬페그의 익살스런 연기가 돋보였던 영화!스파이더맨에서 늙어보이기만 했던 커스틴 던스트가 너무나도 이뻐보였다\t1\n",
            "5403919\t막 걸음마 뗀 3세부터 초등학교 1학년생인 8살용영화.ㅋㅋㅋ...별반개도 아까움.\t0\n",
            "7797314\t원작의\n"
          ]
        }
      ]
    },
    {
      "cell_type": "code",
      "metadata": {
        "id": "3R4G9NAekYsE",
        "outputId": "42c9d32a-c5a2-48e9-f393-7be3581b9563",
        "colab": {
          "base_uri": "https://localhost:8080/"
        }
      },
      "source": [
        "# 7.21 학습을 위한 정답 데이터(Y) 만들기\n",
        "train_Y = np.array([[int(row.split('\\t')[2])] for row in train_text.split('\\n')[1:] if row.count('\\t') > 0])\n",
        "test_Y = np.array([[int(row.split('\\t')[2])] for row in test_text.split('\\n')[1:] if row.count('\\t') > 0])\n",
        "print(train_Y.shape, test_Y.shape)\n",
        "print(train_Y[:5])"
      ],
      "execution_count": 9,
      "outputs": [
        {
          "output_type": "stream",
          "name": "stdout",
          "text": [
            "(150000, 1) (50000, 1)\n",
            "[[0]\n",
            " [1]\n",
            " [0]\n",
            " [0]\n",
            " [1]]\n"
          ]
        }
      ]
    },
    {
      "cell_type": "code",
      "metadata": {
        "id": "IlrwaPyJ06V5",
        "outputId": "e79e82e6-a05b-4fc6-e864-387c1267a6d5",
        "colab": {
          "base_uri": "https://localhost:8080/"
        }
      },
      "source": [
        "# 7.22 train 데이터의 입력(X)에 대한 정제(Cleaning)\n",
        "import re\n",
        "# From https://github.com/yoonkim/CNN_sentence/blob/master/process_data.py\n",
        "def clean_str(string):    \n",
        "    string = re.sub(r\"[^가-힣A-Za-z0-9(),!?\\'\\`]\", \" \", string)\n",
        "    string = re.sub(r\"\\'s\", \" \\'s\", string)\n",
        "    string = re.sub(r\"\\'ve\", \" \\'ve\", string)\n",
        "    string = re.sub(r\"n\\'t\", \" n\\'t\", string)\n",
        "    string = re.sub(r\"\\'re\", \" \\'re\", string)\n",
        "    string = re.sub(r\"\\'d\", \" \\'d\", string)\n",
        "    string = re.sub(r\"\\'ll\", \" \\'ll\", string)\n",
        "    string = re.sub(r\",\", \" , \", string)\n",
        "    string = re.sub(r\"!\", \" ! \", string)\n",
        "    string = re.sub(r\"\\(\", \" \\( \", string)\n",
        "    string = re.sub(r\"\\)\", \" \\) \", string)\n",
        "    string = re.sub(r\"\\?\", \" \\? \", string)\n",
        "    string = re.sub(r\"\\s{2,}\", \" \", string)\n",
        "    string = re.sub(r\"\\'{2,}\", \"\\'\", string)\n",
        "    string = re.sub(r\"\\'\", \"\", string)\n",
        "\n",
        "    return string.lower()\n",
        "\n",
        "\n",
        "train_text_X = [row.split('\\t')[1] for row in train_text.split('\\n')[1:] if row.count('\\t') > 0]\n",
        "train_text_X = [clean_str(sentence) for sentence in train_text_X]\n",
        "# 문장을 띄어쓰기 단위로 단어 분리\n",
        "sentences = [sentence.split(' ') for sentence in train_text_X]\n",
        "for i in range(5):\n",
        "    print(sentences[i])"
      ],
      "execution_count": 10,
      "outputs": [
        {
          "output_type": "stream",
          "name": "stdout",
          "text": [
            "['아', '더빙', '진짜', '짜증나네요', '목소리']\n",
            "['흠', '포스터보고', '초딩영화줄', '오버연기조차', '가볍지', '않구나']\n",
            "['너무재밓었다그래서보는것을추천한다']\n",
            "['교도소', '이야기구먼', '솔직히', '재미는', '없다', '평점', '조정']\n",
            "['사이몬페그의', '익살스런', '연기가', '돋보였던', '영화', '!', '스파이더맨에서', '늙어보이기만', '했던', '커스틴', '던스트가', '너무나도', '이뻐보였다']\n"
          ]
        }
      ]
    },
    {
      "cell_type": "code",
      "metadata": {
        "id": "zwtf77CE0xPi",
        "outputId": "2652a4b5-0ca5-407c-d2b8-46e700c880cf",
        "colab": {
          "base_uri": "https://localhost:8080/",
          "height": 283
        }
      },
      "source": [
        "# 7.23 각 문장의 단어 길이 확인\n",
        "import matplotlib.pyplot as plt\n",
        "sentence_len = [len(sentence) for sentence in sentences]\n",
        "sentence_len.sort()\n",
        "plt.plot(sentence_len)\n",
        "plt.show()\n",
        "\n",
        "print(sum([int(l<=25) for l in sentence_len]))"
      ],
      "execution_count": 11,
      "outputs": [
        {
          "output_type": "display_data",
          "data": {
            "text/plain": [
              "<Figure size 432x288 with 1 Axes>"
            ],
            "image/png": "[encoded data removed]"
          },
          "metadata": {
            "needs_background": "light"
          }
        },
        {
          "output_type": "stream",
          "name": "stdout",
          "text": [
            "142587\n"
          ]
        }
      ]
    },
    {
      "cell_type": "code",
      "metadata": {
        "id": "c9F0OQSB71Az",
        "outputId": "e4a50618-5a2b-4cb5-d583-4540e60070ad",
        "colab": {
          "base_uri": "https://localhost:8080/"
        }
      },
      "source": [
        "# 7.24 단어 정제 및 문장 길이 줄임\n",
        "sentences_new = []\n",
        "for sentence in sentences:\n",
        "    sentences_new.append([word[:5] for word in sentence][:25])\n",
        "sentences = sentences_new\n",
        "for i in range(5):\n",
        "    print(sentences[i])"
      ],
      "execution_count": 12,
      "outputs": [
        {
          "output_type": "stream",
          "name": "stdout",
          "text": [
            "['아', '더빙', '진짜', '짜증나네요', '목소리']\n",
            "['흠', '포스터보고', '초딩영화줄', '오버연기조', '가볍지', '않구나']\n",
            "['너무재밓었']\n",
            "['교도소', '이야기구먼', '솔직히', '재미는', '없다', '평점', '조정']\n",
            "['사이몬페그', '익살스런', '연기가', '돋보였던', '영화', '!', '스파이더맨', '늙어보이기', '했던', '커스틴', '던스트가', '너무나도', '이뻐보였다']\n"
          ]
        }
      ]
    },
    {
      "cell_type": "code",
      "metadata": {
        "id": "9iHRApH_SxJz",
        "outputId": "e55ca53c-1918-4715-d316-7e5bb5abcc5c",
        "colab": {
          "base_uri": "https://localhost:8080/"
        }
      },
      "source": [
        "# 7.25 Tokenizer와 pad_sequences를 사용한 문장 전처리\n",
        "from tensorflow.keras.preprocessing.text import Tokenizer\n",
        "from tensorflow.keras.preprocessing.sequence import pad_sequences\n",
        "\n",
        "tokenizer = Tokenizer(num_words=20000)\n",
        "tokenizer.fit_on_texts(sentences) # 각 단어들에 대해서 매칭되는 숫자\n",
        "train_X = tokenizer.texts_to_sequences(sentences) #sentences를 순서대로 집어넣음\n",
        "train_X = pad_sequences(train_X, padding='post')  # padding은 0을 집어넣음\n",
        "\n",
        "print(train_X[:5])"
      ],
      "execution_count": 13,
      "outputs": [
        {
          "output_type": "stream",
          "name": "stdout",
          "text": [
            "[[   25   884     8  5795  1111     0     0     0     0     0     0     0\n",
            "      0     0     0     0     0     0     0     0     0     0     0     0\n",
            "      0]\n",
            " [  588  5796  6697     0     0     0     0     0     0     0     0     0\n",
            "      0     0     0     0     0     0     0     0     0     0     0     0\n",
            "      0]\n",
            " [    0     0     0     0     0     0     0     0     0     0     0     0\n",
            "      0     0     0     0     0     0     0     0     0     0     0     0\n",
            "      0]\n",
            " [   71   346    31    35 10468     0     0     0     0     0     0     0\n",
            "      0     0     0     0     0     0     0     0     0     0     0     0\n",
            "      0]\n",
            " [  106  5338     4     2  2169   869   573     0     0     0     0     0\n",
            "      0     0     0     0     0     0     0     0     0     0     0     0\n",
            "      0]]\n"
          ]
        }
      ]
    },
    {
      "cell_type": "code",
      "metadata": {
        "id": "Id3SzN7350CB",
        "outputId": "b6e6dcb0-1901-4ba6-8c74-bc90309dc9fa",
        "colab": {
          "base_uri": "https://localhost:8080/"
        }
      },
      "source": [
        "# 7.26 Tokenizer의 동작 확인\n",
        "print(tokenizer.index_word[19999])\n",
        "print(tokenizer.index_word[20000])\n",
        "temp = tokenizer.texts_to_sequences(['#$#$#', '경우는', '잊혀질', '연기가'])\n",
        "print(temp)\n",
        "temp = pad_sequences(temp, padding='post')\n",
        "print(temp)"
      ],
      "execution_count": 14,
      "outputs": [
        {
          "output_type": "stream",
          "name": "stdout",
          "text": [
            "경우는\n",
            "잊혀질\n",
            "[[], [19999], [], [106]]\n",
            "[[    0]\n",
            " [19999]\n",
            " [    0]\n",
            " [  106]]\n"
          ]
        }
      ]
    },
    {
      "cell_type": "code",
      "metadata": {
        "id": "qHkCAL4QpVAF",
        "outputId": "f62b47fc-663b-4e69-e268-6c9efc9deeee",
        "colab": {
          "base_uri": "https://localhost:8080/"
        }
      },
      "source": [
        "# 7.27 감성 분석을 위한 모델 정의\n",
        "model = tf.keras.Sequential([\n",
        "    tf.keras.layers.Embedding(20000, 300, input_length=25),\n",
        "    tf.keras.layers.LSTM(units=50),\n",
        "    tf.keras.layers.Dense(2, activation='softmax')\n",
        "])\n",
        "\n",
        "model.compile(optimizer='adam', loss='sparse_categorical_crossentropy', metrics=['accuracy'])\n",
        "model.summary()"
      ],
      "execution_count": 15,
      "outputs": [
        {
          "output_type": "stream",
          "name": "stdout",
          "text": [
            "Model: \"sequential_1\"\n",
            "_________________________________________________________________\n",
            " Layer (type)                Output Shape              Param #   \n",
            "=================================================================\n",
            " embedding_1 (Embedding)     (None, 25, 300)           6000000   \n",
            "                                                                 \n",
            " lstm_1 (LSTM)               (None, 50)                70200     \n",
            "                                                                 \n",
            " dense_1 (Dense)             (None, 2)                 102       \n",
            "                                                                 \n",
            "=================================================================\n",
            "Total params: 6,070,302\n",
            "Trainable params: 6,070,302\n",
            "Non-trainable params: 0\n",
            "_________________________________________________________________\n"
          ]
        }
      ]
    },
    {
      "cell_type": "code",
      "metadata": {
        "id": "DG5bZtehpU8O",
        "outputId": "ca372738-f4b3-453d-a766-d29bae207f18",
        "colab": {
          "base_uri": "https://localhost:8080/"
        }
      },
      "source": [
        "# 7.28 감성 분석 모델 학습\n",
        "history = model.fit(train_X, train_Y, epochs=5, batch_size=128, validation_split=0.2)"
      ],
      "execution_count": 16,
      "outputs": [
        {
          "output_type": "stream",
          "name": "stdout",
          "text": [
            "Epoch 1/5\n",
            "938/938 [==============================] - 14s 9ms/step - loss: 0.4329 - accuracy: 0.7863 - val_loss: 0.3780 - val_accuracy: 0.8217\n",
            "Epoch 2/5\n",
            "938/938 [==============================] - 8s 8ms/step - loss: 0.3243 - accuracy: 0.8475 - val_loss: 0.3921 - val_accuracy: 0.8199\n",
            "Epoch 3/5\n",
            "938/938 [==============================] - 8s 8ms/step - loss: 0.2709 - accuracy: 0.8688 - val_loss: 0.4047 - val_accuracy: 0.8173\n",
            "Epoch 4/5\n",
            "938/938 [==============================] - 8s 8ms/step - loss: 0.2275 - accuracy: 0.8889 - val_loss: 0.4959 - val_accuracy: 0.8134\n",
            "Epoch 5/5\n",
            "938/938 [==============================] - 9s 9ms/step - loss: 0.1939 - accuracy: 0.9053 - val_loss: 0.6010 - val_accuracy: 0.8080\n"
          ]
        }
      ]
    },
    {
      "cell_type": "code",
      "metadata": {
        "id": "-N83MOKFpU4a",
        "outputId": "5205bca0-471f-4ae9-d555-2ad64ea27b19",
        "colab": {
          "base_uri": "https://localhost:8080/",
          "height": 283
        }
      },
      "source": [
        "# 7.29 감성 분석 모델 학습 결과 확인\n",
        "import matplotlib.pyplot as plt\n",
        "plt.figure(figsize=(12, 4))\n",
        "\n",
        "plt.subplot(1, 2, 1)\n",
        "plt.plot(history.history['loss'], 'b-', label='loss')\n",
        "plt.plot(history.history['val_loss'], 'r--', label='val_loss')\n",
        "plt.xlabel('Epoch')\n",
        "plt.legend()\n",
        "\n",
        "plt.subplot(1, 2, 2)\n",
        "plt.plot(history.history['accuracy'], 'g-', label='accuracy')\n",
        "plt.plot(history.history['val_accuracy'], 'k--', label='val_accuracy')\n",
        "plt.xlabel('Epoch')\n",
        "plt.ylim(0.7, 1)\n",
        "plt.legend()\n",
        "\n",
        "plt.show()"
      ],
      "execution_count": 17,
      "outputs": [
        {
          "output_type": "display_data",
          "data": {
            "text/plain": [
              "<Figure size 864x288 with 2 Axes>"
            ],
            "image/png": "[encoded data removed]"
          },
          "metadata": {
            "needs_background": "light"
          }
        }
      ]
    },
    {
      "cell_type": "code",
      "metadata": {
        "id": "dS4Bw55e1HQa",
        "outputId": "88eb8a91-1ee3-45dc-b560-e1644b28f1ed",
        "colab": {
          "base_uri": "https://localhost:8080/"
        }
      },
      "source": [
        "# 7.30 테스트 데이터 평가\n",
        "test_text_X = [row.split('\\t')[1] for row in test_text.split('\\n')[1:] if row.count('\\t') > 0]\n",
        "test_text_X = [clean_str(sentence) for sentence in test_text_X]\n",
        "sentences = [sentence.split(' ') for sentence in test_text_X]\n",
        "sentences_new = []\n",
        "for sentence in sentences:\n",
        "    sentences_new.append([word[:5] for word in sentence][:25])\n",
        "sentences = sentences_new\n",
        "\n",
        "test_X = tokenizer.texts_to_sequences(sentences)  # 텍스트 단어를 숫자로 바꿔줌\n",
        "test_X = pad_sequences(test_X, padding='post')\n",
        "\n",
        "model.evaluate(test_X, test_Y, verbose=0)"
      ],
      "execution_count": 18,
      "outputs": [
        {
          "output_type": "execute_result",
          "data": {
            "text/plain": [
              "[0.6079968214035034, 0.8009200096130371]"
            ]
          },
          "metadata": {},
          "execution_count": 18
        }
      ]
    },
    {
      "cell_type": "code",
      "metadata": {
        "id": "S_gWAXeb1HM0",
        "outputId": "5f7885c2-61a1-4fcf-e740-cbc38aaafafa",
        "colab": {
          "base_uri": "https://localhost:8080/"
        }
      },
      "source": [
        "# 7.31 임의의 문장 감성 분석 결과 확인\n",
        "test_sentence = '재미있을 줄 알았는데 완전 실망했다. 너무 졸리고 돈이 아까웠다.'\n",
        "test_sentence = test_sentence.split(' ')\n",
        "test_sentences = []\n",
        "now_sentence = []\n",
        "for word in test_sentence:\n",
        "    now_sentence.append(word)\n",
        "    test_sentences.append(now_sentence[:])\n",
        "    \n",
        "test_X_1 = tokenizer.texts_to_sequences(test_sentences)\n",
        "test_X_1 = pad_sequences(test_X_1, padding='post', maxlen=25)\n",
        "prediction = model.predict(test_X_1)\n",
        "for idx, sentence in enumerate(test_sentences):\n",
        "    print(sentence)\n",
        "    print(prediction[idx])"
      ],
      "execution_count": 19,
      "outputs": [
        {
          "output_type": "stream",
          "name": "stdout",
          "text": [
            "1/1 [==============================] - 0s 335ms/step\n",
            "['재미있을']\n",
            "[0.44505492 0.5549451 ]\n",
            "['재미있을', '줄']\n",
            "[0.37494272 0.62505734]\n",
            "['재미있을', '줄', '알았는데']\n",
            "[0.40838543 0.59161454]\n",
            "['재미있을', '줄', '알았는데', '완전']\n",
            "[0.47137326 0.5286267 ]\n",
            "['재미있을', '줄', '알았는데', '완전', '실망했다.']\n",
            "[0.47137326 0.5286267 ]\n",
            "['재미있을', '줄', '알았는데', '완전', '실망했다.', '너무']\n",
            "[0.66250956 0.33749044]\n",
            "['재미있을', '줄', '알았는데', '완전', '실망했다.', '너무', '졸리고']\n",
            "[0.9982363  0.00176373]\n",
            "['재미있을', '줄', '알았는데', '완전', '실망했다.', '너무', '졸리고', '돈이']\n",
            "[9.9905163e-01 9.4837556e-04]\n",
            "['재미있을', '줄', '알았는데', '완전', '실망했다.', '너무', '졸리고', '돈이', '아까웠다.']\n",
            "[9.9905163e-01 9.4837556e-04]\n"
          ]
        }
      ]
    },
    {
      "cell_type": "markdown",
      "metadata": {
        "id": "GbJuXY19T-vd"
      },
      "source": [
        "# 7.4 자연어 생성"
      ]
    },
    {
      "cell_type": "markdown",
      "metadata": {
        "id": "f3eau9dNxOgR"
      },
      "source": [
        "## 7.4.1 단어 단위 생성"
      ]
    },
    {
      "cell_type": "code",
      "metadata": {
        "id": "HWbhqXUTUBJj",
        "outputId": "227b985a-4784-4df3-fd2e-f10f1ce0d51a",
        "colab": {
          "base_uri": "https://localhost:8080/"
        }
      },
      "source": [
        "# 7.32 조선왕조실록 데이터 파일 다운로드\n",
        "path_to_file = tf.keras.utils.get_file('input.txt', 'http://bit.ly/2Mc3SOV')"
      ],
      "execution_count": 20,
      "outputs": [
        {
          "output_type": "stream",
          "name": "stdout",
          "text": [
            "Downloading data from http://bit.ly/2Mc3SOV\n",
            "62012502/62012502 [==============================] - 1s 0us/step\n"
          ]
        }
      ]
    },
    {
      "cell_type": "code",
      "metadata": {
        "id": "8uFbN0cwulLE",
        "outputId": "419c6d18-51b3-4b8a-d8ca-ca1ac9612f38",
        "colab": {
          "base_uri": "https://localhost:8080/"
        }
      },
      "source": [
        "# 7.33 데이터 로드 및 확인\n",
        "# 데이터를 메모리에 불러옵니다. encoding 형식으로 utf-8 을 지정해야합니다.\n",
        "train_text = open(path_to_file, 'rb').read().decode(encoding='utf-8')\n",
        "\n",
        "# 텍스트가 총 몇 자인지 확인합니다.\n",
        "print('Length of text: {} characters'.format(len(train_text)))\n",
        "print()\n",
        "\n",
        "# 처음 100 자를 확인해봅니다.\n",
        "print(train_text[:100])"
      ],
      "execution_count": 21,
      "outputs": [
        {
          "output_type": "stream",
          "name": "stdout",
          "text": [
            "Length of text: 26265493 characters\n",
            "\n",
            "﻿태조 이성계 선대의 가계. 목조 이안사가 전주에서 삼척·의주를 거쳐 알동에 정착하다 \n",
            "태조 강헌 지인 계운 성문 신무 대왕(太祖康獻至仁啓運聖文神武大王)의 성은 이씨(李氏)요, 휘\n"
          ]
        }
      ]
    },
    {
      "cell_type": "code",
      "metadata": {
        "id": "qYpvgEtfulIe",
        "outputId": "c6b5b874-a4eb-4243-e619-fe2cc421b378",
        "colab": {
          "base_uri": "https://localhost:8080/"
        }
      },
      "source": [
        "# 7.34 훈련 데이터 입력 정제\n",
        "import re\n",
        "# From https://github.com/yoonkim/CNN_sentence/blob/master/process_data.py\n",
        "def clean_str(string):    \n",
        "    string = re.sub(r\"[^가-힣A-Za-z0-9(),!?\\'\\`]\", \" \", string)\n",
        "    string = re.sub(r\"\\'ll\", \" \\'ll\", string)\n",
        "    string = re.sub(r\",\", \" , \", string)\n",
        "    string = re.sub(r\"!\", \" ! \", string)\n",
        "    string = re.sub(r\"\\(\", \"\", string)\n",
        "    string = re.sub(r\"\\)\", \"\", string)\n",
        "    string = re.sub(r\"\\?\", \" \\? \", string)\n",
        "    string = re.sub(r\"\\s{2,}\", \" \", string)\n",
        "    string = re.sub(r\"\\'{2,}\", \"\\'\", string)\n",
        "    string = re.sub(r\"\\'\", \"\", string)\n",
        "\n",
        "    return string\n",
        "\n",
        "\n",
        "train_text = train_text.split('\\n')\n",
        "train_text = [clean_str(sentence) for sentence in train_text]\n",
        "train_text_X = []\n",
        "for sentence in train_text:\n",
        "    train_text_X.extend(sentence.split(' '))\n",
        "    train_text_X.append('\\n')\n",
        "    \n",
        "train_text_X = [word for word in train_text_X if word != '']\n",
        "\n",
        "print(train_text_X[:20])"
      ],
      "execution_count": 22,
      "outputs": [
        {
          "output_type": "stream",
          "name": "stdout",
          "text": [
            "['태조', '이성계', '선대의', '가계', '목조', '이안사가', '전주에서', '삼척', '의주를', '거쳐', '알동에', '정착하다', '\\n', '태조', '강헌', '지인', '계운', '성문', '신무', '대왕']\n"
          ]
        }
      ]
    },
    {
      "cell_type": "code",
      "metadata": {
        "id": "DWMq4C-qulCn",
        "outputId": "806ecba3-1f19-48e5-c962-06a126c6151c",
        "colab": {
          "base_uri": "https://localhost:8080/"
        }
      },
      "source": [
        "# 7.35 단어 토큰화\n",
        "# 단어의 set을 만듭니다.\n",
        "vocab = sorted(set(train_text_X))\n",
        "vocab.append('UNK')\n",
        "print ('{} unique words'.format(len(vocab)))\n",
        "\n",
        "# vocab list를 숫자로 맵핑하고, 반대도 실행합니다.\n",
        "word2idx = {u:i for i, u in enumerate(vocab)}\n",
        "idx2word = np.array(vocab)\n",
        "\n",
        "text_as_int = np.array([word2idx[c] for c in train_text_X])\n",
        "\n",
        "# word2idx 의 일부를 알아보기 쉽게 print 해봅니다.\n",
        "print('{')\n",
        "for word,_ in zip(word2idx, range(10)):\n",
        "    print('  {:4s}: {:3d},'.format(repr(word), word2idx[word]))\n",
        "print('  ...\\n}')\n",
        "\n",
        "print('index of UNK: {}'.format(word2idx['UNK']))"
      ],
      "execution_count": 23,
      "outputs": [
        {
          "output_type": "stream",
          "name": "stdout",
          "text": [
            "332640 unique words\n",
            "{\n",
            "  '\\n':   0,\n",
            "  '!' :   1,\n",
            "  ',' :   2,\n",
            "  '000명으로':   3,\n",
            "  '001':   4,\n",
            "  '002':   5,\n",
            "  '003':   6,\n",
            "  '004':   7,\n",
            "  '005':   8,\n",
            "  '006':   9,\n",
            "  ...\n",
            "}\n",
            "index of UNK: 332639\n"
          ]
        }
      ]
    },
    {
      "cell_type": "code",
      "metadata": {
        "id": "dIOkvMpd_7Wd",
        "outputId": "a516ce70-b92a-47b0-be62-f910f6ed6a96",
        "colab": {
          "base_uri": "https://localhost:8080/"
        }
      },
      "source": [
        "# 7.36 토큰 데이터 확인\n",
        "print(train_text_X[:20])\n",
        "print(text_as_int[:20])"
      ],
      "execution_count": 24,
      "outputs": [
        {
          "output_type": "stream",
          "name": "stdout",
          "text": [
            "['태조', '이성계', '선대의', '가계', '목조', '이안사가', '전주에서', '삼척', '의주를', '거쳐', '알동에', '정착하다', '\\n', '태조', '강헌', '지인', '계운', '성문', '신무', '대왕']\n",
            "[299305 229634 161443  17430 111029 230292 251081 155087 225462  29027\n",
            " 190295 256129      0 299305  25624 273553  36147 163996 180466  84413]\n"
          ]
        }
      ]
    },
    {
      "cell_type": "code",
      "metadata": {
        "id": "hKeZRJsM_7Tx",
        "outputId": "bc3c15f5-317f-40f4-870c-282b268af0b6",
        "colab": {
          "base_uri": "https://localhost:8080/"
        }
      },
      "source": [
        "# 7.37 기본 데이터셋 만들기\n",
        "seq_length = 25\n",
        "examples_per_epoch = len(text_as_int) // seq_length\n",
        "sentence_dataset = tf.data.Dataset.from_tensor_slices(text_as_int)\n",
        "\n",
        "sentence_dataset = sentence_dataset.batch(seq_length+1, drop_remainder=True)\n",
        "for item in sentence_dataset.take(1):\n",
        "    print(idx2word[item.numpy()])\n",
        "    print(item.numpy())"
      ],
      "execution_count": 25,
      "outputs": [
        {
          "output_type": "stream",
          "name": "stdout",
          "text": [
            "['태조' '이성계' '선대의' '가계' '목조' '이안사가' '전주에서' '삼척' '의주를' '거쳐' '알동에' '정착하다'\n",
            " '\\n' '태조' '강헌' '지인' '계운' '성문' '신무' '대왕' '의' '성은' '이씨' '요' ',' '휘']\n",
            "[299305 229634 161443  17430 111029 230292 251081 155087 225462  29027\n",
            " 190295 256129      0 299305  25624 273553  36147 163996 180466  84413\n",
            " 224182 164549 230248 210912      2 330313]\n"
          ]
        }
      ]
    },
    {
      "cell_type": "code",
      "metadata": {
        "id": "WCgSGJTQ_7QH",
        "outputId": "9a44ece3-1b7d-45e0-8ff3-ceb34b271d77",
        "colab": {
          "base_uri": "https://localhost:8080/"
        }
      },
      "source": [
        "# 7.38 학습 데이터셋 만들기\n",
        "def split_input_target(chunk):\n",
        "    return [chunk[:-1], chunk[-1]]\n",
        "\n",
        "train_dataset = sentence_dataset.map(split_input_target)\n",
        "for x,y in train_dataset.take(1):\n",
        "    print(idx2word[x.numpy()])\n",
        "    print(x.numpy())\n",
        "    print(idx2word[y.numpy()])\n",
        "    print(y.numpy())"
      ],
      "execution_count": 26,
      "outputs": [
        {
          "output_type": "stream",
          "name": "stdout",
          "text": [
            "['태조' '이성계' '선대의' '가계' '목조' '이안사가' '전주에서' '삼척' '의주를' '거쳐' '알동에' '정착하다'\n",
            " '\\n' '태조' '강헌' '지인' '계운' '성문' '신무' '대왕' '의' '성은' '이씨' '요' ',']\n",
            "[299305 229634 161443  17430 111029 230292 251081 155087 225462  29027\n",
            " 190295 256129      0 299305  25624 273553  36147 163996 180466  84413\n",
            " 224182 164549 230248 210912      2]\n",
            "휘\n",
            "330313\n"
          ]
        }
      ]
    },
    {
      "cell_type": "code",
      "metadata": {
        "id": "X6LSzyUgS72O"
      },
      "source": [
        "# 7.39 데이터셋 shuffle, batch 설정\n",
        "BATCH_SIZE = 512\n",
        "steps_per_epoch = examples_per_epoch // BATCH_SIZE\n",
        "BUFFER_SIZE = 10000\n",
        "\n",
        "train_dataset = train_dataset.shuffle(BUFFER_SIZE).batch(BATCH_SIZE, drop_remainder=True)"
      ],
      "execution_count": 27,
      "outputs": []
    },
    {
      "cell_type": "code",
      "metadata": {
        "id": "bGDQMKzZRz9k",
        "outputId": "0ef8a9aa-5581-42be-a1f1-21bd8c89baf3",
        "colab": {
          "base_uri": "https://localhost:8080/"
        }
      },
      "source": [
        "# 7.40 단어 단위 생성 모델 정의\n",
        "total_words = len(vocab)\n",
        "model = tf.keras.Sequential([\n",
        "    tf.keras.layers.Embedding(total_words, 100, input_length=seq_length),\n",
        "    tf.keras.layers.LSTM(units=100, return_sequences=True),\n",
        "    tf.keras.layers.Dropout(0.2),\n",
        "    tf.keras.layers.LSTM(units=100),\n",
        "    tf.keras.layers.Dense(total_words, activation='softmax')\n",
        "])\n",
        "\n",
        "model.compile(optimizer='adam', loss='sparse_categorical_crossentropy', metrics=['accuracy'])\n",
        "model.summary()"
      ],
      "execution_count": 28,
      "outputs": [
        {
          "output_type": "stream",
          "name": "stdout",
          "text": [
            "Model: \"sequential_2\"\n",
            "_________________________________________________________________\n",
            " Layer (type)                Output Shape              Param #   \n",
            "=================================================================\n",
            " embedding_2 (Embedding)     (None, 25, 100)           33264000  \n",
            "                                                                 \n",
            " lstm_2 (LSTM)               (None, 25, 100)           80400     \n",
            "                                                                 \n",
            " dropout (Dropout)           (None, 25, 100)           0         \n",
            "                                                                 \n",
            " lstm_3 (LSTM)               (None, 100)               80400     \n",
            "                                                                 \n",
            " dense_2 (Dense)             (None, 332640)            33596640  \n",
            "                                                                 \n",
            "=================================================================\n",
            "Total params: 67,021,440\n",
            "Trainable params: 67,021,440\n",
            "Non-trainable params: 0\n",
            "_________________________________________________________________\n"
          ]
        }
      ]
    },
    {
      "cell_type": "code",
      "metadata": {
        "id": "xCF1_hcARz6g",
        "outputId": "995e8971-d84a-48c4-9d8f-9ef93ba4d690",
        "colab": {
          "base_uri": "https://localhost:8080/",
          "height": 1000
        }
      },
      "source": [
        "# 7.41 단어 단위 생성 모델 학습\n",
        "from tensorflow.keras.preprocessing.sequence import pad_sequences\n",
        "\n",
        "def testmodel(epoch, logs):\n",
        "    if epoch % 5 != 0 and epoch != 49:\n",
        "        return\n",
        "    test_sentence = train_text[0]\n",
        "\n",
        "    next_words = 100\n",
        "    for _ in range(next_words):\n",
        "        test_text_X = test_sentence.split(' ')[-seq_length:]\n",
        "        test_text_X = np.array([word2idx[c] if c in word2idx else word2idx['UNK'] for c in test_text_X])\n",
        "        test_text_X = pad_sequences([test_text_X], maxlen=seq_length, padding='pre', value=word2idx['UNK'])\n",
        "\n",
        "        #output_idx = model.predict_classes(test_text_X)\n",
        "        output_idx_new = model.predict(test_text_X)\n",
        "        output_idx = output_idx_new.argmax(axis = -1)\n",
        "        test_sentence += ' ' + idx2word[output_idx[0]]\n",
        "    \n",
        "    print()\n",
        "    print(test_sentence)\n",
        "    print()\n",
        "\n",
        "testmodelcb = tf.keras.callbacks.LambdaCallback(on_epoch_end=testmodel)\n",
        "\n",
        "history = model.fit(train_dataset.repeat(), epochs=50, steps_per_epoch=steps_per_epoch, callbacks=[testmodelcb], verbose=2)"
      ],
      "execution_count": 31,
      "outputs": [
        {
          "output_type": "stream",
          "name": "stdout",
          "text": [
            "Epoch 1/50\n",
            "1/1 [==============================] - 1s 595ms/step\n",
            "1/1 [==============================] - 0s 17ms/step\n",
            "1/1 [==============================] - 0s 16ms/step\n",
            "1/1 [==============================] - 0s 16ms/step\n",
            "1/1 [==============================] - 0s 15ms/step\n",
            "1/1 [==============================] - 0s 15ms/step\n",
            "1/1 [==============================] - 0s 16ms/step\n",
            "1/1 [==============================] - 0s 15ms/step\n",
            "1/1 [==============================] - 0s 16ms/step\n",
            "1/1 [==============================] - 0s 16ms/step\n",
            "1/1 [==============================] - 0s 16ms/step\n",
            "1/1 [==============================] - 0s 15ms/step\n",
            "1/1 [==============================] - 0s 15ms/step\n",
            "1/1 [==============================] - 0s 15ms/step\n",
            "1/1 [==============================] - 0s 18ms/step\n",
            "1/1 [==============================] - 0s 16ms/step\n",
            "1/1 [==============================] - 0s 17ms/step\n",
            "1/1 [==============================] - 0s 19ms/step\n",
            "1/1 [==============================] - 0s 17ms/step\n",
            "1/1 [==============================] - 0s 16ms/step\n",
            "1/1 [==============================] - 0s 15ms/step\n",
            "1/1 [==============================] - 0s 15ms/step\n",
            "1/1 [==============================] - 0s 15ms/step\n",
            "1/1 [==============================] - 0s 18ms/step\n",
            "1/1 [==============================] - 0s 16ms/step\n",
            "1/1 [==============================] - 0s 15ms/step\n",
            "1/1 [==============================] - 0s 16ms/step\n",
            "1/1 [==============================] - 0s 16ms/step\n",
            "1/1 [==============================] - 0s 16ms/step\n",
            "1/1 [==============================] - 0s 15ms/step\n",
            "1/1 [==============================] - 0s 16ms/step\n",
            "1/1 [==============================] - 0s 16ms/step\n",
            "1/1 [==============================] - 0s 18ms/step\n",
            "1/1 [==============================] - 0s 15ms/step\n",
            "1/1 [==============================] - 0s 15ms/step\n",
            "1/1 [==============================] - 0s 16ms/step\n",
            "1/1 [==============================] - 0s 15ms/step\n",
            "1/1 [==============================] - 0s 16ms/step\n",
            "1/1 [==============================] - 0s 16ms/step\n",
            "1/1 [==============================] - 0s 15ms/step\n",
            "1/1 [==============================] - 0s 19ms/step\n",
            "1/1 [==============================] - 0s 15ms/step\n",
            "1/1 [==============================] - 0s 15ms/step\n",
            "1/1 [==============================] - 0s 15ms/step\n",
            "1/1 [==============================] - 0s 16ms/step\n",
            "1/1 [==============================] - 0s 14ms/step\n",
            "1/1 [==============================] - 0s 17ms/step\n",
            "1/1 [==============================] - 0s 17ms/step\n",
            "1/1 [==============================] - 0s 16ms/step\n",
            "1/1 [==============================] - 0s 17ms/step\n",
            "1/1 [==============================] - 0s 17ms/step\n",
            "1/1 [==============================] - 0s 16ms/step\n",
            "1/1 [==============================] - 0s 19ms/step\n",
            "1/1 [==============================] - 0s 17ms/step\n",
            "1/1 [==============================] - 0s 18ms/step\n",
            "1/1 [==============================] - 0s 16ms/step\n",
            "1/1 [==============================] - 0s 17ms/step\n",
            "1/1 [==============================] - 0s 15ms/step\n",
            "1/1 [==============================] - 0s 17ms/step\n",
            "1/1 [==============================] - 0s 18ms/step\n",
            "1/1 [==============================] - 0s 18ms/step\n",
            "1/1 [==============================] - 0s 15ms/step\n",
            "1/1 [==============================] - 0s 17ms/step\n",
            "1/1 [==============================] - 0s 21ms/step\n",
            "1/1 [==============================] - 0s 15ms/step\n",
            "1/1 [==============================] - 0s 16ms/step\n",
            "1/1 [==============================] - 0s 15ms/step\n",
            "1/1 [==============================] - 0s 15ms/step\n",
            "1/1 [==============================] - 0s 14ms/step\n",
            "1/1 [==============================] - 0s 16ms/step\n",
            "1/1 [==============================] - 0s 17ms/step\n",
            "1/1 [==============================] - 0s 17ms/step\n",
            "1/1 [==============================] - 0s 16ms/step\n",
            "1/1 [==============================] - 0s 18ms/step\n",
            "1/1 [==============================] - 0s 16ms/step\n",
            "1/1 [==============================] - 0s 16ms/step\n",
            "1/1 [==============================] - 0s 17ms/step\n",
            "1/1 [==============================] - 0s 17ms/step\n",
            "1/1 [==============================] - 0s 16ms/step\n",
            "1/1 [==============================] - 0s 14ms/step\n",
            "1/1 [==============================] - 0s 22ms/step\n",
            "1/1 [==============================] - 0s 17ms/step\n",
            "1/1 [==============================] - 0s 16ms/step\n",
            "1/1 [==============================] - 0s 17ms/step\n",
            "1/1 [==============================] - 0s 16ms/step\n",
            "1/1 [==============================] - 0s 17ms/step\n",
            "1/1 [==============================] - 0s 16ms/step\n",
            "1/1 [==============================] - 0s 18ms/step\n",
            "1/1 [==============================] - 0s 17ms/step\n",
            "1/1 [==============================] - 0s 15ms/step\n",
            "1/1 [==============================] - 0s 17ms/step\n",
            "1/1 [==============================] - 0s 16ms/step\n",
            "1/1 [==============================] - 0s 15ms/step\n",
            "1/1 [==============================] - 0s 19ms/step\n",
            "1/1 [==============================] - 0s 24ms/step\n",
            "1/1 [==============================] - 0s 18ms/step\n",
            "1/1 [==============================] - 0s 19ms/step\n",
            "1/1 [==============================] - 0s 18ms/step\n",
            "1/1 [==============================] - 0s 15ms/step\n",
            "1/1 [==============================] - 0s 15ms/step\n",
            "\n",
            " 태조 이성계 선대의 가계 목조 이안사가 전주에서 삼척 의주를 거쳐 알동에 정착하다  , 그 그 그 그 그 그 그 그 그 그 그 그 그 그 그 그 그 그 그 그 그 그 그 그 그 그 그 그 그 그 그 그 그 그 그 그 그 그 그 그 그 그 그 그 그 그 그 그 그 그 그 그 그 그 그 그 그 그 그 그 그 그 그 그 그 그 그 그 그 그 그 그 그 그 그 그 그 그 그 그 그 그 그 그 그 그 그 그 그 그 그 그 그 그 그 그 그 그 그\n",
            "\n",
            "533/533 - 149s - loss: 8.0756 - accuracy: 0.0810 - 149s/epoch - 280ms/step\n",
            "Epoch 2/50\n",
            "533/533 - 143s - loss: 7.8184 - accuracy: 0.0896 - 143s/epoch - 268ms/step\n",
            "Epoch 3/50\n",
            "533/533 - 143s - loss: 7.5774 - accuracy: 0.1010 - 143s/epoch - 268ms/step\n",
            "Epoch 4/50\n",
            "533/533 - 143s - loss: 7.3343 - accuracy: 0.1174 - 143s/epoch - 268ms/step\n",
            "Epoch 5/50\n",
            "533/533 - 142s - loss: 7.1059 - accuracy: 0.1306 - 142s/epoch - 267ms/step\n",
            "Epoch 6/50\n",
            "1/1 [==============================] - 0s 18ms/step\n",
            "1/1 [==============================] - 0s 17ms/step\n",
            "1/1 [==============================] - 0s 16ms/step\n",
            "1/1 [==============================] - 0s 15ms/step\n",
            "1/1 [==============================] - 0s 17ms/step\n",
            "1/1 [==============================] - 0s 17ms/step\n",
            "1/1 [==============================] - 0s 16ms/step\n",
            "1/1 [==============================] - 0s 16ms/step\n",
            "1/1 [==============================] - 0s 18ms/step\n",
            "1/1 [==============================] - 0s 15ms/step\n",
            "1/1 [==============================] - 0s 15ms/step\n",
            "1/1 [==============================] - 0s 18ms/step\n",
            "1/1 [==============================] - 0s 20ms/step\n",
            "1/1 [==============================] - 0s 16ms/step\n",
            "1/1 [==============================] - 0s 17ms/step\n",
            "1/1 [==============================] - 0s 16ms/step\n",
            "1/1 [==============================] - 0s 16ms/step\n",
            "1/1 [==============================] - 0s 16ms/step\n",
            "1/1 [==============================] - 0s 18ms/step\n",
            "1/1 [==============================] - 0s 19ms/step\n",
            "1/1 [==============================] - 0s 18ms/step\n",
            "1/1 [==============================] - 0s 16ms/step\n",
            "1/1 [==============================] - 0s 19ms/step\n",
            "1/1 [==============================] - 0s 19ms/step\n",
            "1/1 [==============================] - 0s 18ms/step\n",
            "1/1 [==============================] - 0s 16ms/step\n",
            "1/1 [==============================] - 0s 19ms/step\n",
            "1/1 [==============================] - 0s 17ms/step\n",
            "1/1 [==============================] - 0s 28ms/step\n",
            "1/1 [==============================] - 0s 16ms/step\n",
            "1/1 [==============================] - 0s 16ms/step\n",
            "1/1 [==============================] - 0s 18ms/step\n",
            "1/1 [==============================] - 0s 19ms/step\n",
            "1/1 [==============================] - 0s 18ms/step\n",
            "1/1 [==============================] - 0s 19ms/step\n",
            "1/1 [==============================] - 0s 17ms/step\n",
            "1/1 [==============================] - 0s 17ms/step\n",
            "1/1 [==============================] - 0s 16ms/step\n",
            "1/1 [==============================] - 0s 18ms/step\n",
            "1/1 [==============================] - 0s 17ms/step\n",
            "1/1 [==============================] - 0s 16ms/step\n",
            "1/1 [==============================] - 0s 20ms/step\n",
            "1/1 [==============================] - 0s 18ms/step\n",
            "1/1 [==============================] - 0s 18ms/step\n",
            "1/1 [==============================] - 0s 16ms/step\n",
            "1/1 [==============================] - 0s 27ms/step\n",
            "1/1 [==============================] - 0s 17ms/step\n",
            "1/1 [==============================] - 0s 16ms/step\n",
            "1/1 [==============================] - 0s 16ms/step\n",
            "1/1 [==============================] - 0s 16ms/step\n",
            "1/1 [==============================] - 0s 17ms/step\n",
            "1/1 [==============================] - 0s 16ms/step\n",
            "1/1 [==============================] - 0s 18ms/step\n",
            "1/1 [==============================] - 0s 18ms/step\n",
            "1/1 [==============================] - 0s 20ms/step\n",
            "1/1 [==============================] - 0s 19ms/step\n",
            "1/1 [==============================] - 0s 18ms/step\n",
            "1/1 [==============================] - 0s 17ms/step\n",
            "1/1 [==============================] - 0s 19ms/step\n",
            "1/1 [==============================] - 0s 18ms/step\n",
            "1/1 [==============================] - 0s 20ms/step\n",
            "1/1 [==============================] - 0s 19ms/step\n",
            "1/1 [==============================] - 0s 18ms/step\n",
            "1/1 [==============================] - 0s 18ms/step\n",
            "1/1 [==============================] - 0s 16ms/step\n",
            "1/1 [==============================] - 0s 17ms/step\n",
            "1/1 [==============================] - 0s 21ms/step\n",
            "1/1 [==============================] - 0s 17ms/step\n",
            "1/1 [==============================] - 0s 17ms/step\n",
            "1/1 [==============================] - 0s 18ms/step\n",
            "1/1 [==============================] - 0s 17ms/step\n",
            "1/1 [==============================] - 0s 19ms/step\n",
            "1/1 [==============================] - 0s 20ms/step\n",
            "1/1 [==============================] - 0s 23ms/step\n",
            "1/1 [==============================] - 0s 20ms/step\n",
            "1/1 [==============================] - 0s 19ms/step\n",
            "1/1 [==============================] - 0s 30ms/step\n",
            "1/1 [==============================] - 0s 19ms/step\n",
            "1/1 [==============================] - 0s 18ms/step\n",
            "1/1 [==============================] - 0s 18ms/step\n",
            "1/1 [==============================] - 0s 17ms/step\n",
            "1/1 [==============================] - 0s 18ms/step\n",
            "1/1 [==============================] - 0s 20ms/step\n",
            "1/1 [==============================] - 0s 19ms/step\n",
            "1/1 [==============================] - 0s 20ms/step\n",
            "1/1 [==============================] - 0s 20ms/step\n",
            "1/1 [==============================] - 0s 20ms/step\n",
            "1/1 [==============================] - 0s 25ms/step\n",
            "1/1 [==============================] - 0s 20ms/step\n",
            "1/1 [==============================] - 0s 20ms/step\n",
            "1/1 [==============================] - 0s 20ms/step\n",
            "1/1 [==============================] - 0s 17ms/step\n",
            "1/1 [==============================] - 0s 20ms/step\n",
            "1/1 [==============================] - 0s 25ms/step\n",
            "1/1 [==============================] - 0s 18ms/step\n",
            "1/1 [==============================] - 0s 19ms/step\n",
            "1/1 [==============================] - 0s 18ms/step\n",
            "1/1 [==============================] - 0s 18ms/step\n",
            "1/1 [==============================] - 0s 17ms/step\n",
            "1/1 [==============================] - 0s 17ms/step\n",
            "\n",
            " 태조 이성계 선대의 가계 목조 이안사가 전주에서 삼척 의주를 거쳐 알동에 정착하다  , , 그 죄를 보내어 , 그 번 보내어 , 그 죄를 , 그 죄를 , \n",
            " 하였다 \n",
            " 하니 , 임금이 , \n",
            " 하니 , 임금이 그 죄를 보내어 , 그 번 보내어 , 그 번 보내어 , 그 번 보내어 , 그 죄를 , 그 죄를 , \n",
            " 하였다 임금이 말하기를 , \n",
            " 임금이 말하기를 , \n",
            " 임금이 말하기를 , \n",
            " 임금이 말하기를 , \n",
            " 임금이 말하기를 , \n",
            " 임금이 말하기를 , \n",
            " 임금이 말하기를 , \n",
            " 임금이 말하기를 , \n",
            " 임금이 말하기를 , \n",
            " 임금이 말하기를 , \n",
            " 임금이 말하기를 , \n",
            " 임금이 말하기를 , \n",
            " 임금이\n",
            "\n",
            "533/533 - 148s - loss: 6.8551 - accuracy: 0.1413 - 148s/epoch - 277ms/step\n",
            "Epoch 7/50\n",
            "533/533 - 143s - loss: 6.6119 - accuracy: 0.1525 - 143s/epoch - 268ms/step\n",
            "Epoch 8/50\n",
            "533/533 - 143s - loss: 6.3788 - accuracy: 0.1634 - 143s/epoch - 267ms/step\n",
            "Epoch 9/50\n",
            "533/533 - 142s - loss: 6.1607 - accuracy: 0.1753 - 142s/epoch - 267ms/step\n",
            "Epoch 10/50\n",
            "533/533 - 142s - loss: 5.9342 - accuracy: 0.1867 - 142s/epoch - 267ms/step\n",
            "Epoch 11/50\n",
            "1/1 [==============================] - 0s 17ms/step\n",
            "1/1 [==============================] - 0s 18ms/step\n",
            "1/1 [==============================] - 0s 17ms/step\n",
            "1/1 [==============================] - 0s 17ms/step\n",
            "1/1 [==============================] - 0s 15ms/step\n",
            "1/1 [==============================] - 0s 18ms/step\n",
            "1/1 [==============================] - 0s 19ms/step\n",
            "1/1 [==============================] - 0s 16ms/step\n",
            "1/1 [==============================] - 0s 15ms/step\n",
            "1/1 [==============================] - 0s 16ms/step\n",
            "1/1 [==============================] - 0s 15ms/step\n",
            "1/1 [==============================] - 0s 18ms/step\n",
            "1/1 [==============================] - 0s 19ms/step\n",
            "1/1 [==============================] - 0s 17ms/step\n",
            "1/1 [==============================] - 0s 17ms/step\n",
            "1/1 [==============================] - 0s 18ms/step\n",
            "1/1 [==============================] - 0s 21ms/step\n",
            "1/1 [==============================] - 0s 18ms/step\n",
            "1/1 [==============================] - 0s 20ms/step\n",
            "1/1 [==============================] - 0s 17ms/step\n",
            "1/1 [==============================] - 0s 20ms/step\n",
            "1/1 [==============================] - 0s 17ms/step\n",
            "1/1 [==============================] - 0s 17ms/step\n",
            "1/1 [==============================] - 0s 19ms/step\n",
            "1/1 [==============================] - 0s 16ms/step\n",
            "1/1 [==============================] - 0s 15ms/step\n",
            "1/1 [==============================] - 0s 19ms/step\n",
            "1/1 [==============================] - 0s 17ms/step\n",
            "1/1 [==============================] - 0s 15ms/step\n",
            "1/1 [==============================] - 0s 16ms/step\n",
            "1/1 [==============================] - 0s 24ms/step\n",
            "1/1 [==============================] - 0s 16ms/step\n",
            "1/1 [==============================] - 0s 15ms/step\n",
            "1/1 [==============================] - 0s 15ms/step\n",
            "1/1 [==============================] - 0s 15ms/step\n",
            "1/1 [==============================] - 0s 16ms/step\n",
            "1/1 [==============================] - 0s 17ms/step\n",
            "1/1 [==============================] - 0s 21ms/step\n",
            "1/1 [==============================] - 0s 18ms/step\n",
            "1/1 [==============================] - 0s 16ms/step\n",
            "1/1 [==============================] - 0s 16ms/step\n",
            "1/1 [==============================] - 0s 16ms/step\n",
            "1/1 [==============================] - 0s 18ms/step\n",
            "1/1 [==============================] - 0s 15ms/step\n",
            "1/1 [==============================] - 0s 17ms/step\n",
            "1/1 [==============================] - 0s 16ms/step\n",
            "1/1 [==============================] - 0s 16ms/step\n",
            "1/1 [==============================] - 0s 19ms/step\n",
            "1/1 [==============================] - 0s 18ms/step\n",
            "1/1 [==============================] - 0s 15ms/step\n",
            "1/1 [==============================] - 0s 14ms/step\n",
            "1/1 [==============================] - 0s 17ms/step\n",
            "1/1 [==============================] - 0s 27ms/step\n",
            "1/1 [==============================] - 0s 16ms/step\n",
            "1/1 [==============================] - 0s 18ms/step\n",
            "1/1 [==============================] - 0s 18ms/step\n",
            "1/1 [==============================] - 0s 18ms/step\n",
            "1/1 [==============================] - 0s 18ms/step\n",
            "1/1 [==============================] - 0s 19ms/step\n",
            "1/1 [==============================] - 0s 18ms/step\n",
            "1/1 [==============================] - 0s 18ms/step\n",
            "1/1 [==============================] - 0s 18ms/step\n",
            "1/1 [==============================] - 0s 19ms/step\n",
            "1/1 [==============================] - 0s 17ms/step\n",
            "1/1 [==============================] - 0s 21ms/step\n",
            "1/1 [==============================] - 0s 16ms/step\n",
            "1/1 [==============================] - 0s 16ms/step\n",
            "1/1 [==============================] - 0s 17ms/step\n",
            "1/1 [==============================] - 0s 15ms/step\n",
            "1/1 [==============================] - 0s 15ms/step\n",
            "1/1 [==============================] - 0s 14ms/step\n",
            "1/1 [==============================] - 0s 22ms/step\n",
            "1/1 [==============================] - 0s 15ms/step\n",
            "1/1 [==============================] - 0s 15ms/step\n",
            "1/1 [==============================] - 0s 22ms/step\n",
            "1/1 [==============================] - 0s 17ms/step\n",
            "1/1 [==============================] - 0s 17ms/step\n",
            "1/1 [==============================] - 0s 17ms/step\n",
            "1/1 [==============================] - 0s 16ms/step\n",
            "1/1 [==============================] - 0s 15ms/step\n",
            "1/1 [==============================] - 0s 16ms/step\n",
            "1/1 [==============================] - 0s 16ms/step\n",
            "1/1 [==============================] - 0s 19ms/step\n",
            "1/1 [==============================] - 0s 18ms/step\n",
            "1/1 [==============================] - 0s 16ms/step\n",
            "1/1 [==============================] - 0s 15ms/step\n",
            "1/1 [==============================] - 0s 16ms/step\n",
            "1/1 [==============================] - 0s 16ms/step\n",
            "1/1 [==============================] - 0s 20ms/step\n",
            "1/1 [==============================] - 0s 15ms/step\n",
            "1/1 [==============================] - 0s 16ms/step\n",
            "1/1 [==============================] - 0s 16ms/step\n",
            "1/1 [==============================] - 0s 15ms/step\n",
            "1/1 [==============================] - 0s 15ms/step\n",
            "1/1 [==============================] - 0s 15ms/step\n",
            "1/1 [==============================] - 0s 18ms/step\n",
            "1/1 [==============================] - 0s 24ms/step\n",
            "1/1 [==============================] - 0s 15ms/step\n",
            "1/1 [==============================] - 0s 15ms/step\n",
            "1/1 [==============================] - 0s 15ms/step\n",
            "\n",
            " 태조 이성계 선대의 가계 목조 이안사가 전주에서 삼척 의주를 거쳐 알동에 정착하다  사조하니 할 것입니다 \n",
            " 하니 , 그대로 따랐다 임금이 말하기를 , \n",
            " 하니 , 그대로 따랐다 임금이 말하기를 , \n",
            " 하니 , 그대로 하였다 임금이 말하기를 , \n",
            " 황희 등이 아뢰기를 , \n",
            " 상참을 받고 , 임금이 아뢰기를 , \n",
            " 상참을 받고 , 임금이 말하기를 , \n",
            " 하니 , 임금이 말하기를 , \n",
            " 하니 , 임금이 말하기를 , \n",
            " 하니 , 임금이 말하기를 , \n",
            " 하니 , 임금이 말하기를 , \n",
            " 하니 , 임금이 말하기를 , \n",
            " 하니 , 임금이 말하기를 , \n",
            " 하니 , 임금이 말하기를 , \n",
            " 하니 , 임금이 말하기를 , \n",
            " 하니 , 임금이 말하기를 ,\n",
            "\n",
            "533/533 - 147s - loss: 5.7061 - accuracy: 0.1986 - 147s/epoch - 276ms/step\n",
            "Epoch 12/50\n",
            "533/533 - 142s - loss: 5.4884 - accuracy: 0.2108 - 142s/epoch - 267ms/step\n",
            "Epoch 13/50\n",
            "533/533 - 142s - loss: 5.2669 - accuracy: 0.2241 - 142s/epoch - 267ms/step\n",
            "Epoch 14/50\n",
            "533/533 - 142s - loss: 5.0529 - accuracy: 0.2371 - 142s/epoch - 267ms/step\n",
            "Epoch 15/50\n",
            "533/533 - 142s - loss: 4.8395 - accuracy: 0.2519 - 142s/epoch - 267ms/step\n",
            "Epoch 16/50\n",
            "1/1 [==============================] - 0s 18ms/step\n",
            "1/1 [==============================] - 0s 19ms/step\n",
            "1/1 [==============================] - 0s 16ms/step\n",
            "1/1 [==============================] - 0s 17ms/step\n",
            "1/1 [==============================] - 0s 16ms/step\n",
            "1/1 [==============================] - 0s 15ms/step\n",
            "1/1 [==============================] - 0s 15ms/step\n",
            "1/1 [==============================] - 0s 15ms/step\n",
            "1/1 [==============================] - 0s 16ms/step\n",
            "1/1 [==============================] - 0s 15ms/step\n",
            "1/1 [==============================] - 0s 15ms/step\n",
            "1/1 [==============================] - 0s 17ms/step\n",
            "1/1 [==============================] - 0s 16ms/step\n",
            "1/1 [==============================] - 0s 17ms/step\n",
            "1/1 [==============================] - 0s 24ms/step\n",
            "1/1 [==============================] - 0s 17ms/step\n",
            "1/1 [==============================] - 0s 17ms/step\n",
            "1/1 [==============================] - 0s 20ms/step\n",
            "1/1 [==============================] - 0s 15ms/step\n",
            "1/1 [==============================] - 0s 15ms/step\n",
            "1/1 [==============================] - 0s 16ms/step\n",
            "1/1 [==============================] - 0s 15ms/step\n",
            "1/1 [==============================] - 0s 15ms/step\n",
            "1/1 [==============================] - 0s 17ms/step\n",
            "1/1 [==============================] - 0s 15ms/step\n",
            "1/1 [==============================] - 0s 17ms/step\n",
            "1/1 [==============================] - 0s 19ms/step\n",
            "1/1 [==============================] - 0s 15ms/step\n",
            "1/1 [==============================] - 0s 16ms/step\n",
            "1/1 [==============================] - 0s 18ms/step\n",
            "1/1 [==============================] - 0s 15ms/step\n",
            "1/1 [==============================] - 0s 18ms/step\n",
            "1/1 [==============================] - 0s 18ms/step\n",
            "1/1 [==============================] - 0s 15ms/step\n",
            "1/1 [==============================] - 0s 15ms/step\n",
            "1/1 [==============================] - 0s 17ms/step\n",
            "1/1 [==============================] - 0s 15ms/step\n",
            "1/1 [==============================] - 0s 17ms/step\n",
            "1/1 [==============================] - 0s 15ms/step\n",
            "1/1 [==============================] - 0s 15ms/step\n",
            "1/1 [==============================] - 0s 15ms/step\n",
            "1/1 [==============================] - 0s 15ms/step\n",
            "1/1 [==============================] - 0s 15ms/step\n",
            "1/1 [==============================] - 0s 17ms/step\n",
            "1/1 [==============================] - 0s 15ms/step\n",
            "1/1 [==============================] - 0s 15ms/step\n",
            "1/1 [==============================] - 0s 15ms/step\n",
            "1/1 [==============================] - 0s 16ms/step\n",
            "1/1 [==============================] - 0s 17ms/step\n",
            "1/1 [==============================] - 0s 16ms/step\n",
            "1/1 [==============================] - 0s 18ms/step\n",
            "1/1 [==============================] - 0s 16ms/step\n",
            "1/1 [==============================] - 0s 17ms/step\n",
            "1/1 [==============================] - 0s 21ms/step\n",
            "1/1 [==============================] - 0s 18ms/step\n",
            "1/1 [==============================] - 0s 18ms/step\n",
            "1/1 [==============================] - 0s 16ms/step\n",
            "1/1 [==============================] - 0s 16ms/step\n",
            "1/1 [==============================] - 0s 17ms/step\n",
            "1/1 [==============================] - 0s 18ms/step\n",
            "1/1 [==============================] - 0s 18ms/step\n",
            "1/1 [==============================] - 0s 16ms/step\n",
            "1/1 [==============================] - 0s 16ms/step\n",
            "1/1 [==============================] - 0s 16ms/step\n",
            "1/1 [==============================] - 0s 15ms/step\n",
            "1/1 [==============================] - 0s 18ms/step\n",
            "1/1 [==============================] - 0s 16ms/step\n",
            "1/1 [==============================] - 0s 15ms/step\n",
            "1/1 [==============================] - 0s 15ms/step\n",
            "1/1 [==============================] - 0s 18ms/step\n",
            "1/1 [==============================] - 0s 18ms/step\n",
            "1/1 [==============================] - 0s 20ms/step\n",
            "1/1 [==============================] - 0s 21ms/step\n",
            "1/1 [==============================] - 0s 19ms/step\n",
            "1/1 [==============================] - 0s 17ms/step\n",
            "1/1 [==============================] - 0s 18ms/step\n",
            "1/1 [==============================] - 0s 17ms/step\n",
            "1/1 [==============================] - 0s 18ms/step\n",
            "1/1 [==============================] - 0s 22ms/step\n",
            "1/1 [==============================] - 0s 17ms/step\n",
            "1/1 [==============================] - 0s 17ms/step\n",
            "1/1 [==============================] - 0s 18ms/step\n",
            "1/1 [==============================] - 0s 15ms/step\n",
            "1/1 [==============================] - 0s 16ms/step\n",
            "1/1 [==============================] - 0s 21ms/step\n",
            "1/1 [==============================] - 0s 16ms/step\n",
            "1/1 [==============================] - 0s 17ms/step\n",
            "1/1 [==============================] - 0s 17ms/step\n",
            "1/1 [==============================] - 0s 17ms/step\n",
            "1/1 [==============================] - 0s 23ms/step\n",
            "1/1 [==============================] - 0s 16ms/step\n",
            "1/1 [==============================] - 0s 16ms/step\n",
            "1/1 [==============================] - 0s 17ms/step\n",
            "1/1 [==============================] - 0s 16ms/step\n",
            "1/1 [==============================] - 0s 17ms/step\n",
            "1/1 [==============================] - 0s 17ms/step\n",
            "1/1 [==============================] - 0s 16ms/step\n",
            "1/1 [==============================] - 0s 19ms/step\n",
            "1/1 [==============================] - 0s 16ms/step\n",
            "1/1 [==============================] - 0s 16ms/step\n",
            "\n",
            " 태조 이성계 선대의 가계 목조 이안사가 전주에서 삼척 의주를 거쳐 알동에 정착하다  어려울 것이 없는 것입니다 또 그 뜻을 다 있는 것입니다 비록 그 일이 있는 의 의 일을 모두 여러 의 사람을 다 다 다 북향하여 한다 고 하였다 임금이 말하기를 , \n",
            " 이제 여러 일은 비록 일찍이 아뢰기를 , \n",
            " 함길도 도절제사 가 하여금 와서 가서 가서 아뢰라 \n",
            " 하였다 의정부에서 아뢰기를 , \n",
            " 함길도 도절제사 는 1이니 , 명년에 술잔으로 의논하겠다 \n",
            " 하였다 세자가 호조의 이름으로 윤차로 토의 에 의거하여 다투어 인도하여 살피도록 하다 \n",
            " 하니 , 임금이 말하기를 , \n",
            " 의정부에서 전지하기를 , \n",
            " 의정부에서 호조의 정문에 이르기를 , \n",
            " 1 듣자오니 , 왕비가 현의 1천 삼 수납하여\n",
            "\n",
            "533/533 - 147s - loss: 4.6289 - accuracy: 0.2666 - 147s/epoch - 276ms/step\n",
            "Epoch 17/50\n",
            "533/533 - 142s - loss: 4.4259 - accuracy: 0.2835 - 142s/epoch - 267ms/step\n",
            "Epoch 18/50\n",
            "533/533 - 143s - loss: 4.2255 - accuracy: 0.2996 - 143s/epoch - 267ms/step\n",
            "Epoch 19/50\n",
            "533/533 - 143s - loss: 4.0311 - accuracy: 0.3182 - 143s/epoch - 268ms/step\n",
            "Epoch 20/50\n",
            "533/533 - 142s - loss: 3.8417 - accuracy: 0.3388 - 142s/epoch - 267ms/step\n",
            "Epoch 21/50\n",
            "1/1 [==============================] - 0s 17ms/step\n",
            "1/1 [==============================] - 0s 17ms/step\n",
            "1/1 [==============================] - 0s 16ms/step\n",
            "1/1 [==============================] - 0s 16ms/step\n",
            "1/1 [==============================] - 0s 16ms/step\n",
            "1/1 [==============================] - 0s 16ms/step\n",
            "1/1 [==============================] - 0s 18ms/step\n",
            "1/1 [==============================] - 0s 17ms/step\n",
            "1/1 [==============================] - 0s 21ms/step\n",
            "1/1 [==============================] - 0s 16ms/step\n",
            "1/1 [==============================] - 0s 17ms/step\n",
            "1/1 [==============================] - 0s 16ms/step\n",
            "1/1 [==============================] - 0s 20ms/step\n",
            "1/1 [==============================] - 0s 18ms/step\n",
            "1/1 [==============================] - 0s 19ms/step\n",
            "1/1 [==============================] - 0s 17ms/step\n",
            "1/1 [==============================] - 0s 16ms/step\n",
            "1/1 [==============================] - 0s 17ms/step\n",
            "1/1 [==============================] - 0s 17ms/step\n",
            "1/1 [==============================] - 0s 20ms/step\n",
            "1/1 [==============================] - 0s 17ms/step\n",
            "1/1 [==============================] - 0s 15ms/step\n",
            "1/1 [==============================] - 0s 19ms/step\n",
            "1/1 [==============================] - 0s 20ms/step\n",
            "1/1 [==============================] - 0s 18ms/step\n",
            "1/1 [==============================] - 0s 19ms/step\n",
            "1/1 [==============================] - 0s 20ms/step\n",
            "1/1 [==============================] - 0s 19ms/step\n",
            "1/1 [==============================] - 0s 16ms/step\n",
            "1/1 [==============================] - 0s 17ms/step\n",
            "1/1 [==============================] - 0s 21ms/step\n",
            "1/1 [==============================] - 0s 15ms/step\n",
            "1/1 [==============================] - 0s 16ms/step\n",
            "1/1 [==============================] - 0s 17ms/step\n",
            "1/1 [==============================] - 0s 16ms/step\n",
            "1/1 [==============================] - 0s 22ms/step\n",
            "1/1 [==============================] - 0s 16ms/step\n",
            "1/1 [==============================] - 0s 20ms/step\n",
            "1/1 [==============================] - 0s 17ms/step\n",
            "1/1 [==============================] - 0s 16ms/step\n",
            "1/1 [==============================] - 0s 16ms/step\n",
            "1/1 [==============================] - 0s 17ms/step\n",
            "1/1 [==============================] - 0s 17ms/step\n",
            "1/1 [==============================] - 0s 19ms/step\n",
            "1/1 [==============================] - 0s 17ms/step\n",
            "1/1 [==============================] - 0s 16ms/step\n",
            "1/1 [==============================] - 0s 17ms/step\n",
            "1/1 [==============================] - 0s 16ms/step\n",
            "1/1 [==============================] - 0s 18ms/step\n",
            "1/1 [==============================] - 0s 19ms/step\n",
            "1/1 [==============================] - 0s 18ms/step\n",
            "1/1 [==============================] - 0s 18ms/step\n",
            "1/1 [==============================] - 0s 19ms/step\n",
            "1/1 [==============================] - 0s 15ms/step\n",
            "1/1 [==============================] - 0s 17ms/step\n",
            "1/1 [==============================] - 0s 15ms/step\n",
            "1/1 [==============================] - 0s 20ms/step\n",
            "1/1 [==============================] - 0s 16ms/step\n",
            "1/1 [==============================] - 0s 18ms/step\n",
            "1/1 [==============================] - 0s 16ms/step\n",
            "1/1 [==============================] - 0s 20ms/step\n",
            "1/1 [==============================] - 0s 18ms/step\n",
            "1/1 [==============================] - 0s 17ms/step\n",
            "1/1 [==============================] - 0s 19ms/step\n",
            "1/1 [==============================] - 0s 19ms/step\n",
            "1/1 [==============================] - 0s 24ms/step\n",
            "1/1 [==============================] - 0s 18ms/step\n",
            "1/1 [==============================] - 0s 17ms/step\n",
            "1/1 [==============================] - 0s 22ms/step\n",
            "1/1 [==============================] - 0s 16ms/step\n",
            "1/1 [==============================] - 0s 22ms/step\n",
            "1/1 [==============================] - 0s 19ms/step\n",
            "1/1 [==============================] - 0s 20ms/step\n",
            "1/1 [==============================] - 0s 20ms/step\n",
            "1/1 [==============================] - 0s 18ms/step\n",
            "1/1 [==============================] - 0s 17ms/step\n",
            "1/1 [==============================] - 0s 18ms/step\n",
            "1/1 [==============================] - 0s 16ms/step\n",
            "1/1 [==============================] - 0s 17ms/step\n",
            "1/1 [==============================] - 0s 17ms/step\n",
            "1/1 [==============================] - 0s 17ms/step\n",
            "1/1 [==============================] - 0s 17ms/step\n",
            "1/1 [==============================] - 0s 20ms/step\n",
            "1/1 [==============================] - 0s 18ms/step\n",
            "1/1 [==============================] - 0s 18ms/step\n",
            "1/1 [==============================] - 0s 15ms/step\n",
            "1/1 [==============================] - 0s 16ms/step\n",
            "1/1 [==============================] - 0s 16ms/step\n",
            "1/1 [==============================] - 0s 25ms/step\n",
            "1/1 [==============================] - 0s 18ms/step\n",
            "1/1 [==============================] - 0s 19ms/step\n",
            "1/1 [==============================] - 0s 24ms/step\n",
            "1/1 [==============================] - 0s 19ms/step\n",
            "1/1 [==============================] - 0s 19ms/step\n",
            "1/1 [==============================] - 0s 16ms/step\n",
            "1/1 [==============================] - 0s 22ms/step\n",
            "1/1 [==============================] - 0s 17ms/step\n",
            "1/1 [==============================] - 0s 17ms/step\n",
            "1/1 [==============================] - 0s 17ms/step\n",
            "1/1 [==============================] - 0s 15ms/step\n",
            "\n",
            " 태조 이성계 선대의 가계 목조 이안사가 전주에서 삼척 의주를 거쳐 알동에 정착하다  10여 어려울 것이니 , 그 말을 놓고 , 이를 다 있다 하고 , 비록 이를 법이 일이 없는 것입니다 비록 이미 이를 가는 것은 아닙니다 그러나 나라의 아우 상제 를 겸하게 하소서 \n",
            " 하니 , 그대로 따랐다 강맹경이 앞서 명나라 정문 에 이르기를 , \n",
            " 평안도 관찰사 는 더불어 와서 토물을 바치다 \n",
            " 일본국 관찰사 현감 강순 등을 불러서 토물을 바쳤다 사간원에서 풍양 와 이철 과 상서 으로 하여금 스스로 내리다 \n",
            " 일본국 환관 제독 동부 자문 으로 조연 으로 삼았다 전지 하기를 , \n",
            " 일본국 상송포 소간 진남군 소경 이었다 회맹의 메마르다 공좌 상당히 절의를 일이니 , 청컨대 그\n",
            "\n",
            "533/533 - 148s - loss: 3.6584 - accuracy: 0.3613 - 148s/epoch - 277ms/step\n",
            "Epoch 22/50\n",
            "533/533 - 143s - loss: 3.4765 - accuracy: 0.3858 - 143s/epoch - 268ms/step\n",
            "Epoch 23/50\n",
            "533/533 - 143s - loss: 3.3046 - accuracy: 0.4112 - 143s/epoch - 267ms/step\n",
            "Epoch 24/50\n",
            "533/533 - 143s - loss: 3.1313 - accuracy: 0.4380 - 143s/epoch - 268ms/step\n",
            "Epoch 25/50\n",
            "533/533 - 143s - loss: 2.9694 - accuracy: 0.4640 - 143s/epoch - 267ms/step\n",
            "Epoch 26/50\n"
          ]
        },
        {
          "output_type": "error",
          "ename": "KeyboardInterrupt",
          "evalue": "ignored",
          "traceback": [
            "\u001b[0;31m---------------------------------------------------------------------------\u001b[0m",
            "\u001b[0;31mKeyboardInterrupt\u001b[0m                         Traceback (most recent call last)",
            "\u001b[0;32m<ipython-input-31-0b2bf4db9cd5>\u001b[0m in \u001b[0;36m<module>\u001b[0;34m\u001b[0m\n\u001b[1;32m     24\u001b[0m \u001b[0mtestmodelcb\u001b[0m \u001b[0;34m=\u001b[0m \u001b[0mtf\u001b[0m\u001b[0;34m.\u001b[0m\u001b[0mkeras\u001b[0m\u001b[0;34m.\u001b[0m\u001b[0mcallbacks\u001b[0m\u001b[0;34m.\u001b[0m\u001b[0mLambdaCallback\u001b[0m\u001b[0;34m(\u001b[0m\u001b[0mon_epoch_end\u001b[0m\u001b[0;34m=\u001b[0m\u001b[0mtestmodel\u001b[0m\u001b[0;34m)\u001b[0m\u001b[0;34m\u001b[0m\u001b[0;34m\u001b[0m\u001b[0m\n\u001b[1;32m     25\u001b[0m \u001b[0;34m\u001b[0m\u001b[0m\n\u001b[0;32m---> 26\u001b[0;31m \u001b[0mhistory\u001b[0m \u001b[0;34m=\u001b[0m \u001b[0mmodel\u001b[0m\u001b[0;34m.\u001b[0m\u001b[0mfit\u001b[0m\u001b[0;34m(\u001b[0m\u001b[0mtrain_dataset\u001b[0m\u001b[0;34m.\u001b[0m\u001b[0mrepeat\u001b[0m\u001b[0;34m(\u001b[0m\u001b[0;34m)\u001b[0m\u001b[0;34m,\u001b[0m \u001b[0mepochs\u001b[0m\u001b[0;34m=\u001b[0m\u001b[0;36m50\u001b[0m\u001b[0;34m,\u001b[0m \u001b[0msteps_per_epoch\u001b[0m\u001b[0;34m=\u001b[0m\u001b[0msteps_per_epoch\u001b[0m\u001b[0;34m,\u001b[0m \u001b[0mcallbacks\u001b[0m\u001b[0;34m=\u001b[0m\u001b[0;34m[\u001b[0m\u001b[0mtestmodelcb\u001b[0m\u001b[0;34m]\u001b[0m\u001b[0;34m,\u001b[0m \u001b[0mverbose\u001b[0m\u001b[0;34m=\u001b[0m\u001b[0;36m2\u001b[0m\u001b[0;34m)\u001b[0m\u001b[0;34m\u001b[0m\u001b[0;34m\u001b[0m\u001b[0m\n\u001b[0m",
            "\u001b[0;32m/usr/local/lib/python3.8/dist-packages/keras/utils/traceback_utils.py\u001b[0m in \u001b[0;36merror_handler\u001b[0;34m(*args, **kwargs)\u001b[0m\n\u001b[1;32m     62\u001b[0m     \u001b[0mfiltered_tb\u001b[0m \u001b[0;34m=\u001b[0m \u001b[0;32mNone\u001b[0m\u001b[0;34m\u001b[0m\u001b[0;34m\u001b[0m\u001b[0m\n\u001b[1;32m     63\u001b[0m     \u001b[0;32mtry\u001b[0m\u001b[0;34m:\u001b[0m\u001b[0;34m\u001b[0m\u001b[0;34m\u001b[0m\u001b[0m\n\u001b[0;32m---> 64\u001b[0;31m       \u001b[0;32mreturn\u001b[0m \u001b[0mfn\u001b[0m\u001b[0;34m(\u001b[0m\u001b[0;34m*\u001b[0m\u001b[0margs\u001b[0m\u001b[0;34m,\u001b[0m \u001b[0;34m**\u001b[0m\u001b[0mkwargs\u001b[0m\u001b[0;34m)\u001b[0m\u001b[0;34m\u001b[0m\u001b[0;34m\u001b[0m\u001b[0m\n\u001b[0m\u001b[1;32m     65\u001b[0m     \u001b[0;32mexcept\u001b[0m \u001b[0mException\u001b[0m \u001b[0;32mas\u001b[0m \u001b[0me\u001b[0m\u001b[0;34m:\u001b[0m  \u001b[0;31m# pylint: disable=broad-except\u001b[0m\u001b[0;34m\u001b[0m\u001b[0;34m\u001b[0m\u001b[0m\n\u001b[1;32m     66\u001b[0m       \u001b[0mfiltered_tb\u001b[0m \u001b[0;34m=\u001b[0m \u001b[0m_process_traceback_frames\u001b[0m\u001b[0;34m(\u001b[0m\u001b[0me\u001b[0m\u001b[0;34m.\u001b[0m\u001b[0m__traceback__\u001b[0m\u001b[0;34m)\u001b[0m\u001b[0;34m\u001b[0m\u001b[0;34m\u001b[0m\u001b[0m\n",
            "\u001b[0;32m/usr/local/lib/python3.8/dist-packages/keras/engine/training.py\u001b[0m in \u001b[0;36mfit\u001b[0;34m(self, x, y, batch_size, epochs, verbose, callbacks, validation_split, validation_data, shuffle, class_weight, sample_weight, initial_epoch, steps_per_epoch, validation_steps, validation_batch_size, validation_freq, max_queue_size, workers, use_multiprocessing)\u001b[0m\n\u001b[1;32m   1407\u001b[0m                 _r=1):\n\u001b[1;32m   1408\u001b[0m               \u001b[0mcallbacks\u001b[0m\u001b[0;34m.\u001b[0m\u001b[0mon_train_batch_begin\u001b[0m\u001b[0;34m(\u001b[0m\u001b[0mstep\u001b[0m\u001b[0;34m)\u001b[0m\u001b[0;34m\u001b[0m\u001b[0;34m\u001b[0m\u001b[0m\n\u001b[0;32m-> 1409\u001b[0;31m               \u001b[0mtmp_logs\u001b[0m \u001b[0;34m=\u001b[0m \u001b[0mself\u001b[0m\u001b[0;34m.\u001b[0m\u001b[0mtrain_function\u001b[0m\u001b[0;34m(\u001b[0m\u001b[0miterator\u001b[0m\u001b[0;34m)\u001b[0m\u001b[0;34m\u001b[0m\u001b[0;34m\u001b[0m\u001b[0m\n\u001b[0m\u001b[1;32m   1410\u001b[0m               \u001b[0;32mif\u001b[0m \u001b[0mdata_handler\u001b[0m\u001b[0;34m.\u001b[0m\u001b[0mshould_sync\u001b[0m\u001b[0;34m:\u001b[0m\u001b[0;34m\u001b[0m\u001b[0;34m\u001b[0m\u001b[0m\n\u001b[1;32m   1411\u001b[0m                 \u001b[0mcontext\u001b[0m\u001b[0;34m.\u001b[0m\u001b[0masync_wait\u001b[0m\u001b[0;34m(\u001b[0m\u001b[0;34m)\u001b[0m\u001b[0;34m\u001b[0m\u001b[0;34m\u001b[0m\u001b[0m\n",
            "\u001b[0;32m/usr/local/lib/python3.8/dist-packages/tensorflow/python/util/traceback_utils.py\u001b[0m in \u001b[0;36merror_handler\u001b[0;34m(*args, **kwargs)\u001b[0m\n\u001b[1;32m    148\u001b[0m     \u001b[0mfiltered_tb\u001b[0m \u001b[0;34m=\u001b[0m \u001b[0;32mNone\u001b[0m\u001b[0;34m\u001b[0m\u001b[0;34m\u001b[0m\u001b[0m\n\u001b[1;32m    149\u001b[0m     \u001b[0;32mtry\u001b[0m\u001b[0;34m:\u001b[0m\u001b[0;34m\u001b[0m\u001b[0;34m\u001b[0m\u001b[0m\n\u001b[0;32m--> 150\u001b[0;31m       \u001b[0;32mreturn\u001b[0m \u001b[0mfn\u001b[0m\u001b[0;34m(\u001b[0m\u001b[0;34m*\u001b[0m\u001b[0margs\u001b[0m\u001b[0;34m,\u001b[0m \u001b[0;34m**\u001b[0m\u001b[0mkwargs\u001b[0m\u001b[0;34m)\u001b[0m\u001b[0;34m\u001b[0m\u001b[0;34m\u001b[0m\u001b[0m\n\u001b[0m\u001b[1;32m    151\u001b[0m     \u001b[0;32mexcept\u001b[0m \u001b[0mException\u001b[0m \u001b[0;32mas\u001b[0m \u001b[0me\u001b[0m\u001b[0;34m:\u001b[0m\u001b[0;34m\u001b[0m\u001b[0;34m\u001b[0m\u001b[0m\n\u001b[1;32m    152\u001b[0m       \u001b[0mfiltered_tb\u001b[0m \u001b[0;34m=\u001b[0m \u001b[0m_process_traceback_frames\u001b[0m\u001b[0;34m(\u001b[0m\u001b[0me\u001b[0m\u001b[0;34m.\u001b[0m\u001b[0m__traceback__\u001b[0m\u001b[0;34m)\u001b[0m\u001b[0;34m\u001b[0m\u001b[0;34m\u001b[0m\u001b[0m\n",
            "\u001b[0;32m/usr/local/lib/python3.8/dist-packages/tensorflow/python/eager/def_function.py\u001b[0m in \u001b[0;36m__call__\u001b[0;34m(self, *args, **kwds)\u001b[0m\n\u001b[1;32m    913\u001b[0m \u001b[0;34m\u001b[0m\u001b[0m\n\u001b[1;32m    914\u001b[0m       \u001b[0;32mwith\u001b[0m \u001b[0mOptionalXlaContext\u001b[0m\u001b[0;34m(\u001b[0m\u001b[0mself\u001b[0m\u001b[0;34m.\u001b[0m\u001b[0m_jit_compile\u001b[0m\u001b[0;34m)\u001b[0m\u001b[0;34m:\u001b[0m\u001b[0;34m\u001b[0m\u001b[0;34m\u001b[0m\u001b[0m\n\u001b[0;32m--> 915\u001b[0;31m         \u001b[0mresult\u001b[0m \u001b[0;34m=\u001b[0m \u001b[0mself\u001b[0m\u001b[0;34m.\u001b[0m\u001b[0m_call\u001b[0m\u001b[0;34m(\u001b[0m\u001b[0;34m*\u001b[0m\u001b[0margs\u001b[0m\u001b[0;34m,\u001b[0m \u001b[0;34m**\u001b[0m\u001b[0mkwds\u001b[0m\u001b[0;34m)\u001b[0m\u001b[0;34m\u001b[0m\u001b[0;34m\u001b[0m\u001b[0m\n\u001b[0m\u001b[1;32m    916\u001b[0m \u001b[0;34m\u001b[0m\u001b[0m\n\u001b[1;32m    917\u001b[0m       \u001b[0mnew_tracing_count\u001b[0m \u001b[0;34m=\u001b[0m \u001b[0mself\u001b[0m\u001b[0;34m.\u001b[0m\u001b[0mexperimental_get_tracing_count\u001b[0m\u001b[0;34m(\u001b[0m\u001b[0;34m)\u001b[0m\u001b[0;34m\u001b[0m\u001b[0;34m\u001b[0m\u001b[0m\n",
            "\u001b[0;32m/usr/local/lib/python3.8/dist-packages/tensorflow/python/eager/def_function.py\u001b[0m in \u001b[0;36m_call\u001b[0;34m(self, *args, **kwds)\u001b[0m\n\u001b[1;32m    945\u001b[0m       \u001b[0;31m# In this case we have created variables on the first call, so we run the\u001b[0m\u001b[0;34m\u001b[0m\u001b[0;34m\u001b[0m\u001b[0;34m\u001b[0m\u001b[0m\n\u001b[1;32m    946\u001b[0m       \u001b[0;31m# defunned version which is guaranteed to never create variables.\u001b[0m\u001b[0;34m\u001b[0m\u001b[0;34m\u001b[0m\u001b[0;34m\u001b[0m\u001b[0m\n\u001b[0;32m--> 947\u001b[0;31m       \u001b[0;32mreturn\u001b[0m \u001b[0mself\u001b[0m\u001b[0;34m.\u001b[0m\u001b[0m_stateless_fn\u001b[0m\u001b[0;34m(\u001b[0m\u001b[0;34m*\u001b[0m\u001b[0margs\u001b[0m\u001b[0;34m,\u001b[0m \u001b[0;34m**\u001b[0m\u001b[0mkwds\u001b[0m\u001b[0;34m)\u001b[0m  \u001b[0;31m# pylint: disable=not-callable\u001b[0m\u001b[0;34m\u001b[0m\u001b[0;34m\u001b[0m\u001b[0m\n\u001b[0m\u001b[1;32m    948\u001b[0m     \u001b[0;32melif\u001b[0m \u001b[0mself\u001b[0m\u001b[0;34m.\u001b[0m\u001b[0m_stateful_fn\u001b[0m \u001b[0;32mis\u001b[0m \u001b[0;32mnot\u001b[0m \u001b[0;32mNone\u001b[0m\u001b[0;34m:\u001b[0m\u001b[0;34m\u001b[0m\u001b[0;34m\u001b[0m\u001b[0m\n\u001b[1;32m    949\u001b[0m       \u001b[0;31m# Release the lock early so that multiple threads can perform the call\u001b[0m\u001b[0;34m\u001b[0m\u001b[0;34m\u001b[0m\u001b[0;34m\u001b[0m\u001b[0m\n",
            "\u001b[0;32m/usr/local/lib/python3.8/dist-packages/tensorflow/python/eager/function.py\u001b[0m in \u001b[0;36m__call__\u001b[0;34m(self, *args, **kwargs)\u001b[0m\n\u001b[1;32m   2451\u001b[0m       (graph_function,\n\u001b[1;32m   2452\u001b[0m        filtered_flat_args) = self._maybe_define_function(args, kwargs)\n\u001b[0;32m-> 2453\u001b[0;31m     return graph_function._call_flat(\n\u001b[0m\u001b[1;32m   2454\u001b[0m         filtered_flat_args, captured_inputs=graph_function.captured_inputs)  # pylint: disable=protected-access\n\u001b[1;32m   2455\u001b[0m \u001b[0;34m\u001b[0m\u001b[0m\n",
            "\u001b[0;32m/usr/local/lib/python3.8/dist-packages/tensorflow/python/eager/function.py\u001b[0m in \u001b[0;36m_call_flat\u001b[0;34m(self, args, captured_inputs, cancellation_manager)\u001b[0m\n\u001b[1;32m   1858\u001b[0m         and executing_eagerly):\n\u001b[1;32m   1859\u001b[0m       \u001b[0;31m# No tape is watching; skip to running the function.\u001b[0m\u001b[0;34m\u001b[0m\u001b[0;34m\u001b[0m\u001b[0;34m\u001b[0m\u001b[0m\n\u001b[0;32m-> 1860\u001b[0;31m       return self._build_call_outputs(self._inference_function.call(\n\u001b[0m\u001b[1;32m   1861\u001b[0m           ctx, args, cancellation_manager=cancellation_manager))\n\u001b[1;32m   1862\u001b[0m     forward_backward = self._select_forward_and_backward_functions(\n",
            "\u001b[0;32m/usr/local/lib/python3.8/dist-packages/tensorflow/python/eager/function.py\u001b[0m in \u001b[0;36mcall\u001b[0;34m(self, ctx, args, cancellation_manager)\u001b[0m\n\u001b[1;32m    495\u001b[0m       \u001b[0;32mwith\u001b[0m \u001b[0m_InterpolateFunctionError\u001b[0m\u001b[0;34m(\u001b[0m\u001b[0mself\u001b[0m\u001b[0;34m)\u001b[0m\u001b[0;34m:\u001b[0m\u001b[0;34m\u001b[0m\u001b[0;34m\u001b[0m\u001b[0m\n\u001b[1;32m    496\u001b[0m         \u001b[0;32mif\u001b[0m \u001b[0mcancellation_manager\u001b[0m \u001b[0;32mis\u001b[0m \u001b[0;32mNone\u001b[0m\u001b[0;34m:\u001b[0m\u001b[0;34m\u001b[0m\u001b[0;34m\u001b[0m\u001b[0m\n\u001b[0;32m--> 497\u001b[0;31m           outputs = execute.execute(\n\u001b[0m\u001b[1;32m    498\u001b[0m               \u001b[0mstr\u001b[0m\u001b[0;34m(\u001b[0m\u001b[0mself\u001b[0m\u001b[0;34m.\u001b[0m\u001b[0msignature\u001b[0m\u001b[0;34m.\u001b[0m\u001b[0mname\u001b[0m\u001b[0;34m)\u001b[0m\u001b[0;34m,\u001b[0m\u001b[0;34m\u001b[0m\u001b[0;34m\u001b[0m\u001b[0m\n\u001b[1;32m    499\u001b[0m               \u001b[0mnum_outputs\u001b[0m\u001b[0;34m=\u001b[0m\u001b[0mself\u001b[0m\u001b[0;34m.\u001b[0m\u001b[0m_num_outputs\u001b[0m\u001b[0;34m,\u001b[0m\u001b[0;34m\u001b[0m\u001b[0;34m\u001b[0m\u001b[0m\n",
            "\u001b[0;32m/usr/local/lib/python3.8/dist-packages/tensorflow/python/eager/execute.py\u001b[0m in \u001b[0;36mquick_execute\u001b[0;34m(op_name, num_outputs, inputs, attrs, ctx, name)\u001b[0m\n\u001b[1;32m     52\u001b[0m   \u001b[0;32mtry\u001b[0m\u001b[0;34m:\u001b[0m\u001b[0;34m\u001b[0m\u001b[0;34m\u001b[0m\u001b[0m\n\u001b[1;32m     53\u001b[0m     \u001b[0mctx\u001b[0m\u001b[0;34m.\u001b[0m\u001b[0mensure_initialized\u001b[0m\u001b[0;34m(\u001b[0m\u001b[0;34m)\u001b[0m\u001b[0;34m\u001b[0m\u001b[0;34m\u001b[0m\u001b[0m\n\u001b[0;32m---> 54\u001b[0;31m     tensors = pywrap_tfe.TFE_Py_Execute(ctx._handle, device_name, op_name,\n\u001b[0m\u001b[1;32m     55\u001b[0m                                         inputs, attrs, num_outputs)\n\u001b[1;32m     56\u001b[0m   \u001b[0;32mexcept\u001b[0m \u001b[0mcore\u001b[0m\u001b[0;34m.\u001b[0m\u001b[0m_NotOkStatusException\u001b[0m \u001b[0;32mas\u001b[0m \u001b[0me\u001b[0m\u001b[0;34m:\u001b[0m\u001b[0;34m\u001b[0m\u001b[0;34m\u001b[0m\u001b[0m\n",
            "\u001b[0;31mKeyboardInterrupt\u001b[0m: "
          ]
        }
      ]
    },
    {
      "cell_type": "code",
      "metadata": {
        "id": "Zz6UCaidRz2b",
        "outputId": "484d36b1-5218-4dc9-d5f6-5392269d1ab5",
        "colab": {
          "base_uri": "https://localhost:8080/",
          "height": 73
        }
      },
      "source": [
        "# 7.42 임의의 문장을 사용한 생성 결과 확인\n",
        "from tensorflow.keras.preprocessing.sequence import pad_sequences\n",
        "test_sentence = '동헌에 나가 공무를 본 후 활 십오 순을 쏘았다'\n",
        "\n",
        "next_words = 100\n",
        "for _ in range(next_words):\n",
        "    test_text_X = test_sentence.split(' ')[-seq_length:]\n",
        "    test_text_X = np.array([word2idx[c] if c in word2idx else word2idx['UNK'] for c in test_text_X])\n",
        "    test_text_X = pad_sequences([test_text_X], maxlen=seq_length, padding='pre', value=word2idx['UNK'])\n",
        "    \n",
        "    output_idx = model.predict_classes(test_text_X)\n",
        "    test_sentence += ' ' + idx2word[output_idx[0]]\n",
        "\n",
        "print(test_sentence)"
      ],
      "execution_count": null,
      "outputs": [
        {
          "output_type": "stream",
          "text": [
            "동헌에 나가 공무를 본 후 활 십오 순을 쏘았다 그곳의 사로잡힌 대리하는 호군직 2개는 놓기도 토의 으로써 차임 되고 , 저들은 일시에 굳게 것으로서 주고 , 더욱 높은 바가 많아서 정위 라 같다 하는데 하였습니다 빈자 는 부의 에 도와서 알아야 하여 주소서 \n",
            " 하니 , 형조 에서 교지 를 하사하고 충청도 도절제사 에서 다시 와서 와서 내려 쓸 하고 , 만일 잘 가는 것이 없었다 상수의 대한 한 한 뒤에 모두 능히 서로 알지 것은 감히 모두 모두 모두 사람을 죄를 죄를 사람을 죄를 온 한 사람을 삼가서 어질고 그믐날에 한다는 것이니 , 청컨대 이러한 정성을 알아서 난 를 정하여 급히 원하는 곳에 두고 특별히 징계하여 인도해 특별히\n"
          ],
          "name": "stdout"
        }
      ]
    },
    {
      "cell_type": "markdown",
      "metadata": {
        "id": "9Hzr8inp0Go4"
      },
      "source": [
        "## 7.4.2 자소 단위 생성"
      ]
    },
    {
      "cell_type": "code",
      "metadata": {
        "id": "pPw8MxlxvE66",
        "outputId": "00536e8e-860c-4650-b717-8d4580f51b2c",
        "colab": {
          "base_uri": "https://localhost:8080/"
        }
      },
      "source": [
        "# 7.43 jamotools 설치\n",
        "!pip install jamotools"
      ],
      "execution_count": null,
      "outputs": [
        {
          "output_type": "stream",
          "name": "stdout",
          "text": [
            "Looking in indexes: https://pypi.org/simple, https://us-python.pkg.dev/colab-wheels/public/simple/\n",
            "Requirement already satisfied: jamotools in /usr/local/lib/python3.7/dist-packages (0.1.10)\n",
            "Requirement already satisfied: numpy in /usr/local/lib/python3.7/dist-packages (from jamotools) (1.21.6)\n",
            "Requirement already satisfied: future in /usr/local/lib/python3.7/dist-packages (from jamotools) (0.16.0)\n",
            "Requirement already satisfied: six in /usr/local/lib/python3.7/dist-packages (from jamotools) (1.15.0)\n"
          ]
        }
      ]
    },
    {
      "cell_type": "code",
      "metadata": {
        "id": "Xq6XfbRpvEz5",
        "outputId": "07ea78a7-f869-48ea-f818-8620a27ba846",
        "colab": {
          "base_uri": "https://localhost:8080/"
        }
      },
      "source": [
        "# 7.44 자모 분리 테스트\n",
        "import jamotools\n",
        "\n",
        "train_text = open(path_to_file, 'rb').read().decode(encoding='utf-8')\n",
        "s = train_text[:100]\n",
        "print(s)\n",
        "\n",
        "# 한글 텍스트를 자모 단위로 분리해줍니다. 한자 등에는 영향이 없습니다.\n",
        "s_split = jamotools.split_syllables(s)\n",
        "print(s_split)"
      ],
      "execution_count": null,
      "outputs": [
        {
          "output_type": "stream",
          "name": "stdout",
          "text": [
            "﻿태조 이성계 선대의 가계. 목조 이안사가 전주에서 삼척·의주를 거쳐 알동에 정착하다 \n",
            "태조 강헌 지인 계운 성문 신무 대왕(太祖康獻至仁啓運聖文神武大王)의 성은 이씨(李氏)요, 휘\n",
            "﻿ㅌㅐㅈㅗ ㅇㅣㅅㅓㅇㄱㅖ ㅅㅓㄴㄷㅐㅇㅢ ㄱㅏㄱㅖ. ㅁㅗㄱㅈㅗ ㅇㅣㅇㅏㄴㅅㅏㄱㅏ ㅈㅓㄴㅈㅜㅇㅔㅅㅓ ㅅㅏㅁㅊㅓㄱ·ㅇㅢㅈㅜㄹㅡㄹ ㄱㅓㅊㅕ ㅇㅏㄹㄷㅗㅇㅇㅔ ㅈㅓㅇㅊㅏㄱㅎㅏㄷㅏ \n",
            "ㅌㅐㅈㅗ ㄱㅏㅇㅎㅓㄴ ㅈㅣㅇㅣㄴ ㄱㅖㅇㅜㄴ ㅅㅓㅇㅁㅜㄴ ㅅㅣㄴㅁㅜ ㄷㅐㅇㅘㅇ(太祖康獻至仁啓運聖文神武大王)ㅇㅢ ㅅㅓㅇㅇㅡㄴ ㅇㅣㅆㅣ(李氏)ㅇㅛ, ㅎㅟ\n"
          ]
        }
      ]
    },
    {
      "cell_type": "code",
      "metadata": {
        "id": "-Ivfd0G5RRLJ",
        "outputId": "8e46fbe5-3fb9-49ff-9529-04f39f4a9b12",
        "colab": {
          "base_uri": "https://localhost:8080/"
        }
      },
      "source": [
        "# 7.45 자모 결합 테스트\n",
        "s2 = jamotools.join_jamos(s_split)\n",
        "print(s2)\n",
        "print(s == s2)"
      ],
      "execution_count": null,
      "outputs": [
        {
          "output_type": "stream",
          "name": "stdout",
          "text": [
            "﻿태조 이성계 선대의 가계. 목조 이안사가 전주에서 삼척·의주를 거쳐 알동에 정착하다 \n",
            "태조 강헌 지인 계운 성문 신무 대왕(太祖康獻至仁啓運聖文神武大王)의 성은 이씨(李氏)요, 휘\n",
            "True\n"
          ]
        }
      ]
    },
    {
      "cell_type": "code",
      "metadata": {
        "id": "wtl5EkcrRRIV",
        "outputId": "8a2564d8-e258-4282-d51a-fa96cc3f9d2a",
        "colab": {
          "base_uri": "https://localhost:8080/"
        }
      },
      "source": [
        "# 7.46 자모 토큰화\n",
        "# 텍스트를 자모 단위로 나눕니다. 데이터가 크기 때문에 약간 시간이 걸립니다.\n",
        "train_text_X = jamotools.split_syllables(train_text)\n",
        "vocab = sorted(set(train_text_X))\n",
        "vocab.append('UNK')\n",
        "print ('{} unique characters'.format(len(vocab)))\n",
        "\n",
        "# vocab list를 숫자로 맵핑하고, 반대도 실행합니다.\n",
        "char2idx = {u:i for i, u in enumerate(vocab)}\n",
        "idx2char = np.array(vocab)\n",
        "\n",
        "text_as_int = np.array([char2idx[c] for c in train_text_X])\n",
        "\n",
        "# word2idx 의 일부를 알아보기 쉽게 print 해봅니다.\n",
        "print('{')\n",
        "for char,_ in zip(char2idx, range(10)):\n",
        "    print('  {:4s}: {:3d},'.format(repr(char), char2idx[char]))\n",
        "print('  ...\\n}')\n",
        "\n",
        "print('index of UNK: {}'.format(char2idx['UNK']))"
      ],
      "execution_count": null,
      "outputs": [
        {
          "output_type": "stream",
          "name": "stdout",
          "text": [
            "6198 unique characters\n",
            "{\n",
            "  '\\n':   0,\n",
            "  ' ' :   1,\n",
            "  '!' :   2,\n",
            "  '\"' :   3,\n",
            "  \"'\" :   4,\n",
            "  '(' :   5,\n",
            "  ')' :   6,\n",
            "  '+' :   7,\n",
            "  ',' :   8,\n",
            "  '-' :   9,\n",
            "  ...\n",
            "}\n",
            "index of UNK: 6197\n"
          ]
        }
      ]
    },
    {
      "cell_type": "code",
      "metadata": {
        "id": "opyAlE-ZR4-o",
        "outputId": "a3b92078-bb3b-41b0-9c92-9901a08f4625",
        "colab": {
          "base_uri": "https://localhost:8080/"
        }
      },
      "source": [
        "# 7.47 토큰 데이터 확인\n",
        "print(train_text_X[:20])\n",
        "print(text_as_int[:20])"
      ],
      "execution_count": null,
      "outputs": [
        {
          "output_type": "stream",
          "name": "stdout",
          "text": [
            "﻿ㅌㅐㅈㅗ ㅇㅣㅅㅓㅇㄱㅖ ㅅㅓㄴㄷㅐㅇ\n",
            "[6158   83   87   79   94    1   78  106   76   90   78   56   93    1\n",
            "   76   90   59   62   87   78]\n"
          ]
        }
      ]
    },
    {
      "cell_type": "code",
      "metadata": {
        "id": "MP0hfUCVRsp7",
        "outputId": "cb686b33-b05b-4c19-df1a-5f107b62a113",
        "colab": {
          "base_uri": "https://localhost:8080/"
        }
      },
      "source": [
        "# 7.48 학습 데이터세트 생성\n",
        "seq_length = 80\n",
        "examples_per_epoch = len(text_as_int) // seq_length\n",
        "char_dataset = tf.data.Dataset.from_tensor_slices(text_as_int)\n",
        "\n",
        "char_dataset = char_dataset.batch(seq_length+1, drop_remainder=True)\n",
        "for item in char_dataset.take(1):\n",
        "    print(idx2char[item.numpy()])\n",
        "    print(item.numpy())\n",
        "    \n",
        "def split_input_target(chunk):\n",
        "    return [chunk[:-1], chunk[-1]]\n",
        "\n",
        "train_dataset = char_dataset.map(split_input_target)\n",
        "for x,y in train_dataset.take(1):\n",
        "    print(idx2char[x.numpy()])\n",
        "    print(x.numpy())\n",
        "    print(idx2char[y.numpy()])\n",
        "    print(y.numpy())\n",
        "    \n",
        "BATCH_SIZE = 256\n",
        "steps_per_epoch = examples_per_epoch // BATCH_SIZE\n",
        "BUFFER_SIZE = 10000\n",
        "\n",
        "train_dataset = train_dataset.shuffle(BUFFER_SIZE).batch(BATCH_SIZE, drop_remainder=True)"
      ],
      "execution_count": null,
      "outputs": [
        {
          "output_type": "stream",
          "name": "stdout",
          "text": [
            "['\\ufeff' 'ㅌ' 'ㅐ' 'ㅈ' 'ㅗ' ' ' 'ㅇ' 'ㅣ' 'ㅅ' 'ㅓ' 'ㅇ' 'ㄱ' 'ㅖ' ' ' 'ㅅ' 'ㅓ' 'ㄴ'\n",
            " 'ㄷ' 'ㅐ' 'ㅇ' 'ㅢ' ' ' 'ㄱ' 'ㅏ' 'ㄱ' 'ㅖ' '.' ' ' 'ㅁ' 'ㅗ' 'ㄱ' 'ㅈ' 'ㅗ' ' ' 'ㅇ'\n",
            " 'ㅣ' 'ㅇ' 'ㅏ' 'ㄴ' 'ㅅ' 'ㅏ' 'ㄱ' 'ㅏ' ' ' 'ㅈ' 'ㅓ' 'ㄴ' 'ㅈ' 'ㅜ' 'ㅇ' 'ㅔ' 'ㅅ' 'ㅓ'\n",
            " ' ' 'ㅅ' 'ㅏ' 'ㅁ' 'ㅊ' 'ㅓ' 'ㄱ' '·' 'ㅇ' 'ㅢ' 'ㅈ' 'ㅜ' 'ㄹ' 'ㅡ' 'ㄹ' ' ' 'ㄱ' 'ㅓ'\n",
            " 'ㅊ' 'ㅕ' ' ' 'ㅇ' 'ㅏ' 'ㄹ' 'ㄷ' 'ㅗ' 'ㅇ' 'ㅇ']\n",
            "[6158   83   87   79   94    1   78  106   76   90   78   56   93    1\n",
            "   76   90   59   62   87   78  105    1   56   86   56   93   10    1\n",
            "   72   94   56   79   94    1   78  106   78   86   59   76   86   56\n",
            "   86    1   79   90   59   79   99   78   91   76   90    1   76   86\n",
            "   72   81   90   56   36   78  105   79   99   64  104   64    1   56\n",
            "   90   81   92    1   78   86   64   62   94   78   78]\n",
            "['\\ufeff' 'ㅌ' 'ㅐ' 'ㅈ' 'ㅗ' ' ' 'ㅇ' 'ㅣ' 'ㅅ' 'ㅓ' 'ㅇ' 'ㄱ' 'ㅖ' ' ' 'ㅅ' 'ㅓ' 'ㄴ'\n",
            " 'ㄷ' 'ㅐ' 'ㅇ' 'ㅢ' ' ' 'ㄱ' 'ㅏ' 'ㄱ' 'ㅖ' '.' ' ' 'ㅁ' 'ㅗ' 'ㄱ' 'ㅈ' 'ㅗ' ' ' 'ㅇ'\n",
            " 'ㅣ' 'ㅇ' 'ㅏ' 'ㄴ' 'ㅅ' 'ㅏ' 'ㄱ' 'ㅏ' ' ' 'ㅈ' 'ㅓ' 'ㄴ' 'ㅈ' 'ㅜ' 'ㅇ' 'ㅔ' 'ㅅ' 'ㅓ'\n",
            " ' ' 'ㅅ' 'ㅏ' 'ㅁ' 'ㅊ' 'ㅓ' 'ㄱ' '·' 'ㅇ' 'ㅢ' 'ㅈ' 'ㅜ' 'ㄹ' 'ㅡ' 'ㄹ' ' ' 'ㄱ' 'ㅓ'\n",
            " 'ㅊ' 'ㅕ' ' ' 'ㅇ' 'ㅏ' 'ㄹ' 'ㄷ' 'ㅗ' 'ㅇ']\n",
            "[6158   83   87   79   94    1   78  106   76   90   78   56   93    1\n",
            "   76   90   59   62   87   78  105    1   56   86   56   93   10    1\n",
            "   72   94   56   79   94    1   78  106   78   86   59   76   86   56\n",
            "   86    1   79   90   59   79   99   78   91   76   90    1   76   86\n",
            "   72   81   90   56   36   78  105   79   99   64  104   64    1   56\n",
            "   90   81   92    1   78   86   64   62   94   78]\n",
            "ㅇ\n",
            "78\n"
          ]
        }
      ]
    },
    {
      "cell_type": "code",
      "metadata": {
        "id": "TazYgfrsRsly",
        "outputId": "b60a06a6-a9cc-4a23-f850-017f82e67122",
        "colab": {
          "base_uri": "https://localhost:8080/"
        }
      },
      "source": [
        "# 7.49 자소 단위 생성 모델 정의\n",
        "total_chars = len(vocab)\n",
        "model = tf.keras.Sequential([\n",
        "    tf.keras.layers.Embedding(total_chars, 100, input_length=seq_length),\n",
        "    tf.keras.layers.LSTM(units=400),\n",
        "    tf.keras.layers.Dense(total_chars, activation='softmax')\n",
        "])\n",
        "\n",
        "model.compile(optimizer='adam', loss='sparse_categorical_crossentropy', metrics=['accuracy'])\n",
        "model.summary()"
      ],
      "execution_count": null,
      "outputs": [
        {
          "output_type": "stream",
          "name": "stdout",
          "text": [
            "Model: \"sequential_1\"\n",
            "_________________________________________________________________\n",
            " Layer (type)                Output Shape              Param #   \n",
            "=================================================================\n",
            " embedding_1 (Embedding)     (None, 80, 100)           619800    \n",
            "                                                                 \n",
            " lstm_2 (LSTM)               (None, 400)               801600    \n",
            "                                                                 \n",
            " dense_1 (Dense)             (None, 6198)              2485398   \n",
            "                                                                 \n",
            "=================================================================\n",
            "Total params: 3,906,798\n",
            "Trainable params: 3,906,798\n",
            "Non-trainable params: 0\n",
            "_________________________________________________________________\n"
          ]
        }
      ]
    },
    {
      "cell_type": "code",
      "metadata": {
        "id": "Xjv4zsxFRRF9",
        "outputId": "a53a42e9-ec8f-4a69-aabc-5366fb645042",
        "colab": {
          "base_uri": "https://localhost:8080/",
          "height": 418
        }
      },
      "source": [
        "# 7.50 자소 단위 생성 모델 학습\n",
        "from tensorflow.keras.preprocessing.sequence import pad_sequences\n",
        "\n",
        "def testmodel(epoch, logs):\n",
        "    if epoch % 5 != 0 and epoch != 99:\n",
        "        return\n",
        "    \n",
        "    test_sentence = train_text[:48]\n",
        "    test_sentence = jamotools.split_syllables(test_sentence)\n",
        "\n",
        "    next_chars = 300\n",
        "    for _ in range(next_chars):\n",
        "        test_text_X = test_sentence[-seq_length:]\n",
        "        test_text_X = np.array([char2idx[c] if c in char2idx else char2idx['UNK'] for c in test_text_X])\n",
        "        test_text_X = pad_sequences([test_text_X], maxlen=seq_length, padding='pre', value=char2idx['UNK'])\n",
        "\n",
        "        output_idx = model.predict_classes(test_text_X)\n",
        "        test_sentence += idx2char[output_idx[0]]\n",
        "    \n",
        "    print()\n",
        "    print(jamotools.join_jamos(test_sentence))\n",
        "    print()\n",
        "\n",
        "testmodelcb = tf.keras.callbacks.LambdaCallback(on_epoch_end=testmodel)\n",
        "\n",
        "history = model.fit(train_dataset.repeat(), epochs=100, steps_per_epoch=steps_per_epoch, callbacks=[testmodelcb], verbose=2)"
      ],
      "execution_count": null,
      "outputs": [
        {
          "output_type": "stream",
          "name": "stdout",
          "text": [
            "Epoch 1/100\n"
          ]
        },
        {
          "output_type": "error",
          "ename": "KeyboardInterrupt",
          "evalue": "ignored",
          "traceback": [
            "\u001b[0;31m---------------------------------------------------------------------------\u001b[0m",
            "\u001b[0;31mKeyboardInterrupt\u001b[0m                         Traceback (most recent call last)",
            "\u001b[0;32m<ipython-input-25-c842ef4688f7>\u001b[0m in \u001b[0;36m<module>\u001b[0;34m\u001b[0m\n\u001b[1;32m     24\u001b[0m \u001b[0mtestmodelcb\u001b[0m \u001b[0;34m=\u001b[0m \u001b[0mtf\u001b[0m\u001b[0;34m.\u001b[0m\u001b[0mkeras\u001b[0m\u001b[0;34m.\u001b[0m\u001b[0mcallbacks\u001b[0m\u001b[0;34m.\u001b[0m\u001b[0mLambdaCallback\u001b[0m\u001b[0;34m(\u001b[0m\u001b[0mon_epoch_end\u001b[0m\u001b[0;34m=\u001b[0m\u001b[0mtestmodel\u001b[0m\u001b[0;34m)\u001b[0m\u001b[0;34m\u001b[0m\u001b[0;34m\u001b[0m\u001b[0m\n\u001b[1;32m     25\u001b[0m \u001b[0;34m\u001b[0m\u001b[0m\n\u001b[0;32m---> 26\u001b[0;31m \u001b[0mhistory\u001b[0m \u001b[0;34m=\u001b[0m \u001b[0mmodel\u001b[0m\u001b[0;34m.\u001b[0m\u001b[0mfit\u001b[0m\u001b[0;34m(\u001b[0m\u001b[0mtrain_dataset\u001b[0m\u001b[0;34m.\u001b[0m\u001b[0mrepeat\u001b[0m\u001b[0;34m(\u001b[0m\u001b[0;34m)\u001b[0m\u001b[0;34m,\u001b[0m \u001b[0mepochs\u001b[0m\u001b[0;34m=\u001b[0m\u001b[0;36m100\u001b[0m\u001b[0;34m,\u001b[0m \u001b[0msteps_per_epoch\u001b[0m\u001b[0;34m=\u001b[0m\u001b[0msteps_per_epoch\u001b[0m\u001b[0;34m,\u001b[0m \u001b[0mcallbacks\u001b[0m\u001b[0;34m=\u001b[0m\u001b[0;34m[\u001b[0m\u001b[0mtestmodelcb\u001b[0m\u001b[0;34m]\u001b[0m\u001b[0;34m,\u001b[0m \u001b[0mverbose\u001b[0m\u001b[0;34m=\u001b[0m\u001b[0;36m2\u001b[0m\u001b[0;34m)\u001b[0m\u001b[0;34m\u001b[0m\u001b[0;34m\u001b[0m\u001b[0m\n\u001b[0m",
            "\u001b[0;32m/usr/local/lib/python3.7/dist-packages/keras/utils/traceback_utils.py\u001b[0m in \u001b[0;36merror_handler\u001b[0;34m(*args, **kwargs)\u001b[0m\n\u001b[1;32m     62\u001b[0m     \u001b[0mfiltered_tb\u001b[0m \u001b[0;34m=\u001b[0m \u001b[0;32mNone\u001b[0m\u001b[0;34m\u001b[0m\u001b[0;34m\u001b[0m\u001b[0m\n\u001b[1;32m     63\u001b[0m     \u001b[0;32mtry\u001b[0m\u001b[0;34m:\u001b[0m\u001b[0;34m\u001b[0m\u001b[0;34m\u001b[0m\u001b[0m\n\u001b[0;32m---> 64\u001b[0;31m       \u001b[0;32mreturn\u001b[0m \u001b[0mfn\u001b[0m\u001b[0;34m(\u001b[0m\u001b[0;34m*\u001b[0m\u001b[0margs\u001b[0m\u001b[0;34m,\u001b[0m \u001b[0;34m**\u001b[0m\u001b[0mkwargs\u001b[0m\u001b[0;34m)\u001b[0m\u001b[0;34m\u001b[0m\u001b[0;34m\u001b[0m\u001b[0m\n\u001b[0m\u001b[1;32m     65\u001b[0m     \u001b[0;32mexcept\u001b[0m \u001b[0mException\u001b[0m \u001b[0;32mas\u001b[0m \u001b[0me\u001b[0m\u001b[0;34m:\u001b[0m  \u001b[0;31m# pylint: disable=broad-except\u001b[0m\u001b[0;34m\u001b[0m\u001b[0;34m\u001b[0m\u001b[0m\n\u001b[1;32m     66\u001b[0m       \u001b[0mfiltered_tb\u001b[0m \u001b[0;34m=\u001b[0m \u001b[0m_process_traceback_frames\u001b[0m\u001b[0;34m(\u001b[0m\u001b[0me\u001b[0m\u001b[0;34m.\u001b[0m\u001b[0m__traceback__\u001b[0m\u001b[0;34m)\u001b[0m\u001b[0;34m\u001b[0m\u001b[0;34m\u001b[0m\u001b[0m\n",
            "\u001b[0;32m/usr/local/lib/python3.7/dist-packages/keras/engine/training.py\u001b[0m in \u001b[0;36mfit\u001b[0;34m(self, x, y, batch_size, epochs, verbose, callbacks, validation_split, validation_data, shuffle, class_weight, sample_weight, initial_epoch, steps_per_epoch, validation_steps, validation_batch_size, validation_freq, max_queue_size, workers, use_multiprocessing)\u001b[0m\n\u001b[1;32m   1382\u001b[0m                 _r=1):\n\u001b[1;32m   1383\u001b[0m               \u001b[0mcallbacks\u001b[0m\u001b[0;34m.\u001b[0m\u001b[0mon_train_batch_begin\u001b[0m\u001b[0;34m(\u001b[0m\u001b[0mstep\u001b[0m\u001b[0;34m)\u001b[0m\u001b[0;34m\u001b[0m\u001b[0;34m\u001b[0m\u001b[0m\n\u001b[0;32m-> 1384\u001b[0;31m               \u001b[0mtmp_logs\u001b[0m \u001b[0;34m=\u001b[0m \u001b[0mself\u001b[0m\u001b[0;34m.\u001b[0m\u001b[0mtrain_function\u001b[0m\u001b[0;34m(\u001b[0m\u001b[0miterator\u001b[0m\u001b[0;34m)\u001b[0m\u001b[0;34m\u001b[0m\u001b[0;34m\u001b[0m\u001b[0m\n\u001b[0m\u001b[1;32m   1385\u001b[0m               \u001b[0;32mif\u001b[0m \u001b[0mdata_handler\u001b[0m\u001b[0;34m.\u001b[0m\u001b[0mshould_sync\u001b[0m\u001b[0;34m:\u001b[0m\u001b[0;34m\u001b[0m\u001b[0;34m\u001b[0m\u001b[0m\n\u001b[1;32m   1386\u001b[0m                 \u001b[0mcontext\u001b[0m\u001b[0;34m.\u001b[0m\u001b[0masync_wait\u001b[0m\u001b[0;34m(\u001b[0m\u001b[0;34m)\u001b[0m\u001b[0;34m\u001b[0m\u001b[0;34m\u001b[0m\u001b[0m\n",
            "\u001b[0;32m/usr/local/lib/python3.7/dist-packages/tensorflow/python/util/traceback_utils.py\u001b[0m in \u001b[0;36merror_handler\u001b[0;34m(*args, **kwargs)\u001b[0m\n\u001b[1;32m    148\u001b[0m     \u001b[0mfiltered_tb\u001b[0m \u001b[0;34m=\u001b[0m \u001b[0;32mNone\u001b[0m\u001b[0;34m\u001b[0m\u001b[0;34m\u001b[0m\u001b[0m\n\u001b[1;32m    149\u001b[0m     \u001b[0;32mtry\u001b[0m\u001b[0;34m:\u001b[0m\u001b[0;34m\u001b[0m\u001b[0;34m\u001b[0m\u001b[0m\n\u001b[0;32m--> 150\u001b[0;31m       \u001b[0;32mreturn\u001b[0m \u001b[0mfn\u001b[0m\u001b[0;34m(\u001b[0m\u001b[0;34m*\u001b[0m\u001b[0margs\u001b[0m\u001b[0;34m,\u001b[0m \u001b[0;34m**\u001b[0m\u001b[0mkwargs\u001b[0m\u001b[0;34m)\u001b[0m\u001b[0;34m\u001b[0m\u001b[0;34m\u001b[0m\u001b[0m\n\u001b[0m\u001b[1;32m    151\u001b[0m     \u001b[0;32mexcept\u001b[0m \u001b[0mException\u001b[0m \u001b[0;32mas\u001b[0m \u001b[0me\u001b[0m\u001b[0;34m:\u001b[0m\u001b[0;34m\u001b[0m\u001b[0;34m\u001b[0m\u001b[0m\n\u001b[1;32m    152\u001b[0m       \u001b[0mfiltered_tb\u001b[0m \u001b[0;34m=\u001b[0m \u001b[0m_process_traceback_frames\u001b[0m\u001b[0;34m(\u001b[0m\u001b[0me\u001b[0m\u001b[0;34m.\u001b[0m\u001b[0m__traceback__\u001b[0m\u001b[0;34m)\u001b[0m\u001b[0;34m\u001b[0m\u001b[0;34m\u001b[0m\u001b[0m\n",
            "\u001b[0;32m/usr/local/lib/python3.7/dist-packages/tensorflow/python/eager/def_function.py\u001b[0m in \u001b[0;36m__call__\u001b[0;34m(self, *args, **kwds)\u001b[0m\n\u001b[1;32m    913\u001b[0m \u001b[0;34m\u001b[0m\u001b[0m\n\u001b[1;32m    914\u001b[0m       \u001b[0;32mwith\u001b[0m \u001b[0mOptionalXlaContext\u001b[0m\u001b[0;34m(\u001b[0m\u001b[0mself\u001b[0m\u001b[0;34m.\u001b[0m\u001b[0m_jit_compile\u001b[0m\u001b[0;34m)\u001b[0m\u001b[0;34m:\u001b[0m\u001b[0;34m\u001b[0m\u001b[0;34m\u001b[0m\u001b[0m\n\u001b[0;32m--> 915\u001b[0;31m         \u001b[0mresult\u001b[0m \u001b[0;34m=\u001b[0m \u001b[0mself\u001b[0m\u001b[0;34m.\u001b[0m\u001b[0m_call\u001b[0m\u001b[0;34m(\u001b[0m\u001b[0;34m*\u001b[0m\u001b[0margs\u001b[0m\u001b[0;34m,\u001b[0m \u001b[0;34m**\u001b[0m\u001b[0mkwds\u001b[0m\u001b[0;34m)\u001b[0m\u001b[0;34m\u001b[0m\u001b[0;34m\u001b[0m\u001b[0m\n\u001b[0m\u001b[1;32m    916\u001b[0m \u001b[0;34m\u001b[0m\u001b[0m\n\u001b[1;32m    917\u001b[0m       \u001b[0mnew_tracing_count\u001b[0m \u001b[0;34m=\u001b[0m \u001b[0mself\u001b[0m\u001b[0;34m.\u001b[0m\u001b[0mexperimental_get_tracing_count\u001b[0m\u001b[0;34m(\u001b[0m\u001b[0;34m)\u001b[0m\u001b[0;34m\u001b[0m\u001b[0;34m\u001b[0m\u001b[0m\n",
            "\u001b[0;32m/usr/local/lib/python3.7/dist-packages/tensorflow/python/eager/def_function.py\u001b[0m in \u001b[0;36m_call\u001b[0;34m(self, *args, **kwds)\u001b[0m\n\u001b[1;32m    945\u001b[0m       \u001b[0;31m# In this case we have created variables on the first call, so we run the\u001b[0m\u001b[0;34m\u001b[0m\u001b[0;34m\u001b[0m\u001b[0;34m\u001b[0m\u001b[0m\n\u001b[1;32m    946\u001b[0m       \u001b[0;31m# defunned version which is guaranteed to never create variables.\u001b[0m\u001b[0;34m\u001b[0m\u001b[0;34m\u001b[0m\u001b[0;34m\u001b[0m\u001b[0m\n\u001b[0;32m--> 947\u001b[0;31m       \u001b[0;32mreturn\u001b[0m \u001b[0mself\u001b[0m\u001b[0;34m.\u001b[0m\u001b[0m_stateless_fn\u001b[0m\u001b[0;34m(\u001b[0m\u001b[0;34m*\u001b[0m\u001b[0margs\u001b[0m\u001b[0;34m,\u001b[0m \u001b[0;34m**\u001b[0m\u001b[0mkwds\u001b[0m\u001b[0;34m)\u001b[0m  \u001b[0;31m# pylint: disable=not-callable\u001b[0m\u001b[0;34m\u001b[0m\u001b[0;34m\u001b[0m\u001b[0m\n\u001b[0m\u001b[1;32m    948\u001b[0m     \u001b[0;32melif\u001b[0m \u001b[0mself\u001b[0m\u001b[0;34m.\u001b[0m\u001b[0m_stateful_fn\u001b[0m \u001b[0;32mis\u001b[0m \u001b[0;32mnot\u001b[0m \u001b[0;32mNone\u001b[0m\u001b[0;34m:\u001b[0m\u001b[0;34m\u001b[0m\u001b[0;34m\u001b[0m\u001b[0m\n\u001b[1;32m    949\u001b[0m       \u001b[0;31m# Release the lock early so that multiple threads can perform the call\u001b[0m\u001b[0;34m\u001b[0m\u001b[0;34m\u001b[0m\u001b[0;34m\u001b[0m\u001b[0m\n",
            "\u001b[0;32m/usr/local/lib/python3.7/dist-packages/tensorflow/python/eager/function.py\u001b[0m in \u001b[0;36m__call__\u001b[0;34m(self, *args, **kwargs)\u001b[0m\n\u001b[1;32m   2955\u001b[0m        filtered_flat_args) = self._maybe_define_function(args, kwargs)\n\u001b[1;32m   2956\u001b[0m     return graph_function._call_flat(\n\u001b[0;32m-> 2957\u001b[0;31m         filtered_flat_args, captured_inputs=graph_function.captured_inputs)  # pylint: disable=protected-access\n\u001b[0m\u001b[1;32m   2958\u001b[0m \u001b[0;34m\u001b[0m\u001b[0m\n\u001b[1;32m   2959\u001b[0m   \u001b[0;34m@\u001b[0m\u001b[0mproperty\u001b[0m\u001b[0;34m\u001b[0m\u001b[0;34m\u001b[0m\u001b[0m\n",
            "\u001b[0;32m/usr/local/lib/python3.7/dist-packages/tensorflow/python/eager/function.py\u001b[0m in \u001b[0;36m_call_flat\u001b[0;34m(self, args, captured_inputs, cancellation_manager)\u001b[0m\n\u001b[1;32m   1852\u001b[0m       \u001b[0;31m# No tape is watching; skip to running the function.\u001b[0m\u001b[0;34m\u001b[0m\u001b[0;34m\u001b[0m\u001b[0;34m\u001b[0m\u001b[0m\n\u001b[1;32m   1853\u001b[0m       return self._build_call_outputs(self._inference_function.call(\n\u001b[0;32m-> 1854\u001b[0;31m           ctx, args, cancellation_manager=cancellation_manager))\n\u001b[0m\u001b[1;32m   1855\u001b[0m     forward_backward = self._select_forward_and_backward_functions(\n\u001b[1;32m   1856\u001b[0m         \u001b[0margs\u001b[0m\u001b[0;34m,\u001b[0m\u001b[0;34m\u001b[0m\u001b[0;34m\u001b[0m\u001b[0m\n",
            "\u001b[0;32m/usr/local/lib/python3.7/dist-packages/tensorflow/python/eager/function.py\u001b[0m in \u001b[0;36mcall\u001b[0;34m(self, ctx, args, cancellation_manager)\u001b[0m\n\u001b[1;32m    502\u001b[0m               \u001b[0minputs\u001b[0m\u001b[0;34m=\u001b[0m\u001b[0margs\u001b[0m\u001b[0;34m,\u001b[0m\u001b[0;34m\u001b[0m\u001b[0;34m\u001b[0m\u001b[0m\n\u001b[1;32m    503\u001b[0m               \u001b[0mattrs\u001b[0m\u001b[0;34m=\u001b[0m\u001b[0mattrs\u001b[0m\u001b[0;34m,\u001b[0m\u001b[0;34m\u001b[0m\u001b[0;34m\u001b[0m\u001b[0m\n\u001b[0;32m--> 504\u001b[0;31m               ctx=ctx)\n\u001b[0m\u001b[1;32m    505\u001b[0m         \u001b[0;32melse\u001b[0m\u001b[0;34m:\u001b[0m\u001b[0;34m\u001b[0m\u001b[0;34m\u001b[0m\u001b[0m\n\u001b[1;32m    506\u001b[0m           outputs = execute.execute_with_cancellation(\n",
            "\u001b[0;32m/usr/local/lib/python3.7/dist-packages/tensorflow/python/eager/execute.py\u001b[0m in \u001b[0;36mquick_execute\u001b[0;34m(op_name, num_outputs, inputs, attrs, ctx, name)\u001b[0m\n\u001b[1;32m     53\u001b[0m     \u001b[0mctx\u001b[0m\u001b[0;34m.\u001b[0m\u001b[0mensure_initialized\u001b[0m\u001b[0;34m(\u001b[0m\u001b[0;34m)\u001b[0m\u001b[0;34m\u001b[0m\u001b[0;34m\u001b[0m\u001b[0m\n\u001b[1;32m     54\u001b[0m     tensors = pywrap_tfe.TFE_Py_Execute(ctx._handle, device_name, op_name,\n\u001b[0;32m---> 55\u001b[0;31m                                         inputs, attrs, num_outputs)\n\u001b[0m\u001b[1;32m     56\u001b[0m   \u001b[0;32mexcept\u001b[0m \u001b[0mcore\u001b[0m\u001b[0;34m.\u001b[0m\u001b[0m_NotOkStatusException\u001b[0m \u001b[0;32mas\u001b[0m \u001b[0me\u001b[0m\u001b[0;34m:\u001b[0m\u001b[0;34m\u001b[0m\u001b[0;34m\u001b[0m\u001b[0m\n\u001b[1;32m     57\u001b[0m     \u001b[0;32mif\u001b[0m \u001b[0mname\u001b[0m \u001b[0;32mis\u001b[0m \u001b[0;32mnot\u001b[0m \u001b[0;32mNone\u001b[0m\u001b[0;34m:\u001b[0m\u001b[0;34m\u001b[0m\u001b[0;34m\u001b[0m\u001b[0m\n",
            "\u001b[0;31mKeyboardInterrupt\u001b[0m: "
          ]
        }
      ]
    },
    {
      "cell_type": "code",
      "metadata": {
        "id": "i2PIJeXRvEw-",
        "outputId": "9d2d26bd-2645-4330-eb4c-ef9276844bd0",
        "colab": {
          "base_uri": "https://localhost:8080/",
          "height": 143
        }
      },
      "source": [
        "# 7.51 임의의 문장을 사용한 생성 결과 확인\n",
        "from tensorflow.keras.preprocessing.sequence import pad_sequences\n",
        "test_sentence = '동헌에 나가 공무를 본 후 활 십오 순을 쏘았다'\n",
        "test_sentence = jamotools.split_syllables(test_sentence)\n",
        "\n",
        "next_chars = 300\n",
        "for _ in range(next_chars):\n",
        "    test_text_X = test_sentence[-seq_length:]\n",
        "    test_text_X = np.array([char2idx[c] if c in char2idx else char2idx['UNK'] for c in test_text_X])\n",
        "    test_text_X = pad_sequences([test_text_X], maxlen=seq_length, padding='pre', value=char2idx['UNK'])\n",
        "    \n",
        "    output_idx = model.predict_classes(test_text_X)\n",
        "    test_sentence += idx2char[output_idx[0]]\n",
        "    \n",
        "\n",
        "print(jamotools.join_jamos(test_sentence))"
      ],
      "execution_count": null,
      "outputs": [
        {
          "output_type": "stream",
          "text": [
            "동헌에 나가 공무를 본 후 활 십오 순을 쏘았다. 임금이 말하기를,\n",
            "\"이보다 큰 공상은 그 집에 돌아오다\n",
            "정사를 보았다. 임금이 말하기를,\n",
            "\"이방성을 아뢰다\n",
            "함길도 감사가 이미 나라를 행하였다.상왕이 그 사람을 금하다\n",
            "임금이 말하기를,\n",
            "\"이보다 큰 공상은 그 집에 돌아온다. 【모든 것을 보내어 여러 관원은 농산ㄱ\n"
          ],
          "name": "stdout"
        }
      ]
    }
  ]
}